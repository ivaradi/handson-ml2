{
 "cells": [
  {
   "cell_type": "markdown",
   "metadata": {},
   "source": [
    "**Chapter 9 – Unsupervised Learning**\n",
    "\n",
    "_This notebook contains all the sample code in chapter 9._"
   ]
  },
  {
   "cell_type": "markdown",
   "metadata": {},
   "source": [
    "<table align=\"left\">\n",
    "  <td>\n",
    "    <a href=\"https://colab.research.google.com/github/ageron/handson-ml2/blob/master/09_unsupervised_learning.ipynb\" target=\"_parent\"><img src=\"https://colab.research.google.com/assets/colab-badge.svg\" alt=\"Open In Colab\"/></a>\n",
    "  </td>\n",
    "  <td>\n",
    "    <a target=\"_blank\" href=\"https://kaggle.com/kernels/welcome?src=https://github.com/ageron/handson-ml2/blob/master/09_unsupervised_learning.ipynb\"><img src=\"https://kaggle.com/static/images/open-in-kaggle.svg\" /></a>\n",
    "  </td>\n",
    "</table>"
   ]
  },
  {
   "cell_type": "markdown",
   "metadata": {},
   "source": [
    "# Setup"
   ]
  },
  {
   "cell_type": "markdown",
   "metadata": {},
   "source": [
    "First, let's import a few common modules, ensure MatplotLib plots figures inline and prepare a function to save the figures. We also check that Python 3.5 or later is installed (although Python 2.x may work, it is deprecated so we strongly recommend you use Python 3 instead), as well as Scikit-Learn ≥0.20."
   ]
  },
  {
   "cell_type": "code",
   "execution_count": 1,
   "metadata": {
    "execution": {
     "iopub.execute_input": "2022-05-20T07:16:19.293387Z",
     "iopub.status.busy": "2022-05-20T07:16:19.291234Z",
     "iopub.status.idle": "2022-05-20T07:16:20.111645Z",
     "shell.execute_reply": "2022-05-20T07:16:20.111Z",
     "shell.execute_reply.started": "2022-05-20T07:16:19.291551Z"
    }
   },
   "outputs": [],
   "source": [
    "# Python ≥3.5 is required\n",
    "import sys\n",
    "assert sys.version_info >= (3, 5)\n",
    "\n",
    "# Scikit-Learn ≥0.20 is required\n",
    "import sklearn\n",
    "assert sklearn.__version__ >= \"0.20\"\n",
    "\n",
    "# Common imports\n",
    "import numpy as np\n",
    "import os\n",
    "\n",
    "# to make this notebook's output stable across runs\n",
    "np.random.seed(42)\n",
    "\n",
    "# To plot pretty figures\n",
    "%matplotlib inline\n",
    "import matplotlib as mpl\n",
    "import matplotlib.pyplot as plt\n",
    "mpl.rc('axes', labelsize=14)\n",
    "mpl.rc('xtick', labelsize=12)\n",
    "mpl.rc('ytick', labelsize=12)\n",
    "\n",
    "# Where to save the figures\n",
    "PROJECT_ROOT_DIR = \".\"\n",
    "CHAPTER_ID = \"unsupervised_learning\"\n",
    "IMAGES_PATH = os.path.join(PROJECT_ROOT_DIR, \"images\", CHAPTER_ID)\n",
    "os.makedirs(IMAGES_PATH, exist_ok=True)\n",
    "\n",
    "def save_fig(fig_id, tight_layout=True, fig_extension=\"png\", resolution=300):\n",
    "    path = os.path.join(IMAGES_PATH, fig_id + \".\" + fig_extension)\n",
    "    print(\"Saving figure\", fig_id)\n",
    "    if tight_layout:\n",
    "        plt.tight_layout()\n",
    "    plt.savefig(path, format=fig_extension, dpi=resolution)"
   ]
  },
  {
   "cell_type": "markdown",
   "metadata": {},
   "source": [
    "# Clustering"
   ]
  },
  {
   "cell_type": "markdown",
   "metadata": {},
   "source": [
    "**Introduction – Classification _vs_ Clustering**"
   ]
  },
  {
   "cell_type": "code",
   "execution_count": 2,
   "metadata": {
    "execution": {
     "iopub.execute_input": "2022-05-11T17:40:22.628435Z",
     "iopub.status.busy": "2022-05-11T17:40:22.626117Z",
     "iopub.status.idle": "2022-05-11T17:40:22.668886Z",
     "shell.execute_reply": "2022-05-11T17:40:22.667934Z",
     "shell.execute_reply.started": "2022-05-11T17:40:22.628389Z"
    }
   },
   "outputs": [],
   "source": [
    "from sklearn.datasets import load_iris"
   ]
  },
  {
   "cell_type": "code",
   "execution_count": 3,
   "metadata": {
    "execution": {
     "iopub.execute_input": "2022-05-11T17:40:22.670958Z",
     "iopub.status.busy": "2022-05-11T17:40:22.670651Z",
     "iopub.status.idle": "2022-05-11T17:40:22.688047Z",
     "shell.execute_reply": "2022-05-11T17:40:22.687136Z",
     "shell.execute_reply.started": "2022-05-11T17:40:22.670916Z"
    }
   },
   "outputs": [
    {
     "data": {
      "text/plain": [
       "array(['setosa', 'versicolor', 'virginica'], dtype='<U10')"
      ]
     },
     "execution_count": 3,
     "metadata": {},
     "output_type": "execute_result"
    }
   ],
   "source": [
    "data = load_iris()\n",
    "X = data.data\n",
    "y = data.target\n",
    "data.target_names"
   ]
  },
  {
   "cell_type": "code",
   "execution_count": 4,
   "metadata": {
    "execution": {
     "iopub.execute_input": "2022-05-11T17:40:22.695904Z",
     "iopub.status.busy": "2022-05-11T17:40:22.69395Z",
     "iopub.status.idle": "2022-05-11T17:40:23.775606Z",
     "shell.execute_reply": "2022-05-11T17:40:23.774901Z",
     "shell.execute_reply.started": "2022-05-11T17:40:22.695861Z"
    }
   },
   "outputs": [
    {
     "name": "stdout",
     "output_type": "stream",
     "text": [
      "Saving figure classification_vs_clustering_plot\n"
     ]
    },
    {
     "data": {
      "image/png": "[encoded data removed]",
      "text/plain": [
       "<Figure size 648x252 with 2 Axes>"
      ]
     },
     "metadata": {
      "needs_background": "light"
     },
     "output_type": "display_data"
    }
   ],
   "source": [
    "plt.figure(figsize=(9, 3.5))\n",
    "\n",
    "plt.subplot(121)\n",
    "plt.plot(X[y==0, 2], X[y==0, 3], \"yo\", label=\"Iris setosa\")\n",
    "plt.plot(X[y==1, 2], X[y==1, 3], \"bs\", label=\"Iris versicolor\")\n",
    "plt.plot(X[y==2, 2], X[y==2, 3], \"g^\", label=\"Iris virginica\")\n",
    "plt.xlabel(\"Petal length\", fontsize=14)\n",
    "plt.ylabel(\"Petal width\", fontsize=14)\n",
    "plt.legend(fontsize=12)\n",
    "\n",
    "plt.subplot(122)\n",
    "plt.scatter(X[:, 2], X[:, 3], c=\"k\", marker=\".\")\n",
    "plt.xlabel(\"Petal length\", fontsize=14)\n",
    "plt.tick_params(labelleft=False)\n",
    "\n",
    "save_fig(\"classification_vs_clustering_plot\")\n",
    "plt.show()"
   ]
  },
  {
   "cell_type": "markdown",
   "metadata": {},
   "source": [
    "A Gaussian mixture model (explained below) can actually separate these clusters pretty well (using all 4 features: petal length & width, and sepal length & width)."
   ]
  },
  {
   "cell_type": "code",
   "execution_count": 5,
   "metadata": {
    "execution": {
     "iopub.execute_input": "2022-05-11T17:40:23.777275Z",
     "iopub.status.busy": "2022-05-11T17:40:23.776905Z",
     "iopub.status.idle": "2022-05-11T17:40:23.853997Z",
     "shell.execute_reply": "2022-05-11T17:40:23.853085Z",
     "shell.execute_reply.started": "2022-05-11T17:40:23.777241Z"
    }
   },
   "outputs": [],
   "source": [
    "from sklearn.mixture import GaussianMixture"
   ]
  },
  {
   "cell_type": "code",
   "execution_count": 6,
   "metadata": {
    "execution": {
     "iopub.execute_input": "2022-05-11T17:40:23.85907Z",
     "iopub.status.busy": "2022-05-11T17:40:23.855426Z",
     "iopub.status.idle": "2022-05-11T17:40:24.019004Z",
     "shell.execute_reply": "2022-05-11T17:40:24.017844Z",
     "shell.execute_reply.started": "2022-05-11T17:40:23.858995Z"
    }
   },
   "outputs": [],
   "source": [
    "y_pred = GaussianMixture(n_components=3, random_state=42).fit(X).predict(X)"
   ]
  },
  {
   "cell_type": "markdown",
   "metadata": {},
   "source": [
    "Let's map each cluster to a class. Instead of hard coding the mapping (as is done in the book, for simplicity), we will pick the most common class for each cluster (using the `scipy.stats.mode()` function):"
   ]
  },
  {
   "cell_type": "code",
   "execution_count": 7,
   "metadata": {
    "execution": {
     "iopub.execute_input": "2022-05-11T17:40:24.021024Z",
     "iopub.status.busy": "2022-05-11T17:40:24.02063Z",
     "iopub.status.idle": "2022-05-11T17:40:24.033365Z",
     "shell.execute_reply": "2022-05-11T17:40:24.032329Z",
     "shell.execute_reply.started": "2022-05-11T17:40:24.020963Z"
    }
   },
   "outputs": [
    {
     "name": "stderr",
     "output_type": "stream",
     "text": [
      "/tmp/ipykernel_12/1686138522.py:5: FutureWarning: Unlike other reduction functions (e.g. `skew`, `kurtosis`), the default behavior of `mode` typically preserves the axis it acts along. In SciPy 1.11.0, this behavior will change: the default value of `keepdims` will become False, the `axis` over which the statistic is taken will be eliminated, and the value None will no longer be accepted. Set `keepdims` to True or False to avoid this warning.\n",
      "  mode, _ = stats.mode(y_pred[y==class_id])\n"
     ]
    },
    {
     "data": {
      "text/plain": [
       "{1: 0, 2: 1, 0: 2}"
      ]
     },
     "execution_count": 7,
     "metadata": {},
     "output_type": "execute_result"
    }
   ],
   "source": [
    "from scipy import stats\n",
    "\n",
    "mapping = {}\n",
    "for class_id in np.unique(y):\n",
    "    mode, _ = stats.mode(y_pred[y==class_id])\n",
    "    mapping[mode[0]] = class_id\n",
    "\n",
    "mapping"
   ]
  },
  {
   "cell_type": "code",
   "execution_count": 8,
   "metadata": {
    "execution": {
     "iopub.execute_input": "2022-05-11T17:40:24.035688Z",
     "iopub.status.busy": "2022-05-11T17:40:24.035115Z",
     "iopub.status.idle": "2022-05-11T17:40:24.04232Z",
     "shell.execute_reply": "2022-05-11T17:40:24.041329Z",
     "shell.execute_reply.started": "2022-05-11T17:40:24.035645Z"
    }
   },
   "outputs": [],
   "source": [
    "y_pred = np.array([mapping[cluster_id] for cluster_id in y_pred])"
   ]
  },
  {
   "cell_type": "code",
   "execution_count": 9,
   "metadata": {
    "execution": {
     "iopub.execute_input": "2022-05-11T17:40:24.044595Z",
     "iopub.status.busy": "2022-05-11T17:40:24.044205Z",
     "iopub.status.idle": "2022-05-11T17:40:24.25831Z",
     "shell.execute_reply": "2022-05-11T17:40:24.257358Z",
     "shell.execute_reply.started": "2022-05-11T17:40:24.044553Z"
    }
   },
   "outputs": [
    {
     "data": {
      "image/png": "[encoded data removed]",
      "text/plain": [
       "<Figure size 432x288 with 1 Axes>"
      ]
     },
     "metadata": {
      "needs_background": "light"
     },
     "output_type": "display_data"
    }
   ],
   "source": [
    "plt.plot(X[y_pred==0, 2], X[y_pred==0, 3], \"yo\", label=\"Cluster 1\")\n",
    "plt.plot(X[y_pred==1, 2], X[y_pred==1, 3], \"bs\", label=\"Cluster 2\")\n",
    "plt.plot(X[y_pred==2, 2], X[y_pred==2, 3], \"g^\", label=\"Cluster 3\")\n",
    "plt.xlabel(\"Petal length\", fontsize=14)\n",
    "plt.ylabel(\"Petal width\", fontsize=14)\n",
    "plt.legend(loc=\"upper left\", fontsize=12)\n",
    "plt.show()"
   ]
  },
  {
   "cell_type": "code",
   "execution_count": 11,
   "metadata": {
    "execution": {
     "iopub.execute_input": "2022-05-11T17:40:24.26603Z",
     "iopub.status.busy": "2022-05-11T17:40:24.264083Z",
     "iopub.status.idle": "2022-05-11T17:40:24.275283Z",
     "shell.execute_reply": "2022-05-11T17:40:24.274501Z",
     "shell.execute_reply.started": "2022-05-11T17:40:24.265961Z"
    }
   },
   "outputs": [
    {
     "data": {
      "text/plain": [
       "145"
      ]
     },
     "execution_count": 11,
     "metadata": {},
     "output_type": "execute_result"
    }
   ],
   "source": [
    "np.sum(y_pred==y)"
   ]
  },
  {
   "cell_type": "code",
   "execution_count": 12,
   "metadata": {
    "execution": {
     "iopub.execute_input": "2022-05-11T17:40:24.281123Z",
     "iopub.status.busy": "2022-05-11T17:40:24.278004Z",
     "iopub.status.idle": "2022-05-11T17:40:24.290856Z",
     "shell.execute_reply": "2022-05-11T17:40:24.290093Z",
     "shell.execute_reply.started": "2022-05-11T17:40:24.281073Z"
    }
   },
   "outputs": [
    {
     "data": {
      "text/plain": [
       "0.9666666666666667"
      ]
     },
     "execution_count": 12,
     "metadata": {},
     "output_type": "execute_result"
    }
   ],
   "source": [
    "np.sum(y_pred==y) / len(y_pred)"
   ]
  },
  {
   "cell_type": "markdown",
   "metadata": {},
   "source": [
    "**Note**: the results in this notebook may differ slightly from the book. This is because algorithms can sometimes be tweaked a bit between Scikit-Learn versions."
   ]
  },
  {
   "cell_type": "markdown",
   "metadata": {},
   "source": [
    "## K-Means"
   ]
  },
  {
   "cell_type": "markdown",
   "metadata": {},
   "source": [
    "Let's start by generating some blobs:"
   ]
  },
  {
   "cell_type": "code",
   "execution_count": null,
   "metadata": {
    "execution": {
     "iopub.execute_input": "2022-05-11T17:40:24.297247Z",
     "iopub.status.busy": "2022-05-11T17:40:24.29514Z",
     "iopub.status.idle": "2022-05-11T17:40:24.302612Z",
     "shell.execute_reply": "2022-05-11T17:40:24.301907Z",
     "shell.execute_reply.started": "2022-05-11T17:40:24.297075Z"
    }
   },
   "outputs": [],
   "source": [
    "from sklearn.datasets import make_blobs"
   ]
  },
  {
   "cell_type": "code",
   "execution_count": null,
   "metadata": {
    "execution": {
     "iopub.execute_input": "2022-05-11T17:40:24.303854Z",
     "iopub.status.busy": "2022-05-11T17:40:24.303614Z",
     "iopub.status.idle": "2022-05-11T17:40:24.315849Z",
     "shell.execute_reply": "2022-05-11T17:40:24.315077Z",
     "shell.execute_reply.started": "2022-05-11T17:40:24.303819Z"
    }
   },
   "outputs": [],
   "source": [
    "blob_centers = np.array(\n",
    "    [[ 0.2,  2.3],\n",
    "     [-1.5 ,  2.3],\n",
    "     [-2.8,  1.8],\n",
    "     [-2.8,  2.8],\n",
    "     [-2.8,  1.3]])\n",
    "blob_std = np.array([0.4, 0.3, 0.1, 0.1, 0.1])"
   ]
  },
  {
   "cell_type": "code",
   "execution_count": null,
   "metadata": {
    "execution": {
     "iopub.execute_input": "2022-05-11T17:40:24.320253Z",
     "iopub.status.busy": "2022-05-11T17:40:24.319624Z",
     "iopub.status.idle": "2022-05-11T17:40:24.329857Z",
     "shell.execute_reply": "2022-05-11T17:40:24.329091Z",
     "shell.execute_reply.started": "2022-05-11T17:40:24.320212Z"
    }
   },
   "outputs": [],
   "source": [
    "X, y = make_blobs(n_samples=2000, centers=blob_centers,\n",
    "                  cluster_std=blob_std, random_state=7)"
   ]
  },
  {
   "cell_type": "markdown",
   "metadata": {},
   "source": [
    "Now let's plot them:"
   ]
  },
  {
   "cell_type": "code",
   "execution_count": null,
   "metadata": {
    "execution": {
     "iopub.execute_input": "2022-05-11T17:40:24.334616Z",
     "iopub.status.busy": "2022-05-11T17:40:24.334076Z",
     "iopub.status.idle": "2022-05-11T17:40:24.347885Z",
     "shell.execute_reply": "2022-05-11T17:40:24.344799Z",
     "shell.execute_reply.started": "2022-05-11T17:40:24.334569Z"
    }
   },
   "outputs": [],
   "source": [
    "def plot_clusters(X, y=None):\n",
    "    plt.scatter(X[:, 0], X[:, 1], c=y, s=1)\n",
    "    plt.xlabel(\"$x_1$\", fontsize=14)\n",
    "    plt.ylabel(\"$x_2$\", fontsize=14, rotation=0)"
   ]
  },
  {
   "cell_type": "code",
   "execution_count": null,
   "metadata": {
    "execution": {
     "iopub.execute_input": "2022-05-11T17:40:24.352273Z",
     "iopub.status.busy": "2022-05-11T17:40:24.350484Z",
     "iopub.status.idle": "2022-05-11T17:40:25.28664Z",
     "shell.execute_reply": "2022-05-11T17:40:25.285834Z",
     "shell.execute_reply.started": "2022-05-11T17:40:24.352205Z"
    }
   },
   "outputs": [],
   "source": [
    "plt.figure(figsize=(8, 4))\n",
    "plot_clusters(X)\n",
    "save_fig(\"blobs_plot\")\n",
    "plt.show()"
   ]
  },
  {
   "cell_type": "markdown",
   "metadata": {},
   "source": [
    "**Fit and predict**"
   ]
  },
  {
   "cell_type": "markdown",
   "metadata": {},
   "source": [
    "Let's train a K-Means clusterer on this dataset. It will try to find each blob's center and assign each instance to the closest blob:"
   ]
  },
  {
   "cell_type": "code",
   "execution_count": null,
   "metadata": {
    "execution": {
     "iopub.execute_input": "2022-05-11T17:40:25.292795Z",
     "iopub.status.busy": "2022-05-11T17:40:25.290886Z",
     "iopub.status.idle": "2022-05-11T17:40:25.298823Z",
     "shell.execute_reply": "2022-05-11T17:40:25.298053Z",
     "shell.execute_reply.started": "2022-05-11T17:40:25.292747Z"
    }
   },
   "outputs": [],
   "source": [
    "from sklearn.cluster import KMeans"
   ]
  },
  {
   "cell_type": "code",
   "execution_count": null,
   "metadata": {
    "execution": {
     "iopub.execute_input": "2022-05-11T17:40:25.304801Z",
     "iopub.status.busy": "2022-05-11T17:40:25.302979Z",
     "iopub.status.idle": "2022-05-11T17:40:29.33647Z",
     "shell.execute_reply": "2022-05-11T17:40:29.335412Z",
     "shell.execute_reply.started": "2022-05-11T17:40:25.30476Z"
    }
   },
   "outputs": [],
   "source": [
    "k = 5\n",
    "kmeans = KMeans(n_clusters=k, random_state=42)\n",
    "y_pred = kmeans.fit_predict(X)"
   ]
  },
  {
   "cell_type": "markdown",
   "metadata": {},
   "source": [
    "Each instance was assigned to one of the 5 clusters:"
   ]
  },
  {
   "cell_type": "code",
   "execution_count": null,
   "metadata": {
    "execution": {
     "iopub.execute_input": "2022-05-11T17:40:29.338192Z",
     "iopub.status.busy": "2022-05-11T17:40:29.337751Z",
     "iopub.status.idle": "2022-05-11T17:40:29.345243Z",
     "shell.execute_reply": "2022-05-11T17:40:29.344423Z",
     "shell.execute_reply.started": "2022-05-11T17:40:29.338142Z"
    }
   },
   "outputs": [],
   "source": [
    "y_pred"
   ]
  },
  {
   "cell_type": "code",
   "execution_count": null,
   "metadata": {
    "execution": {
     "iopub.execute_input": "2022-05-11T17:40:29.347855Z",
     "iopub.status.busy": "2022-05-11T17:40:29.347291Z",
     "iopub.status.idle": "2022-05-11T17:40:29.357523Z",
     "shell.execute_reply": "2022-05-11T17:40:29.356098Z",
     "shell.execute_reply.started": "2022-05-11T17:40:29.347809Z"
    }
   },
   "outputs": [],
   "source": [
    "y_pred is kmeans.labels_"
   ]
  },
  {
   "cell_type": "markdown",
   "metadata": {},
   "source": [
    "And the following 5 _centroids_ (i.e., cluster centers) were estimated:"
   ]
  },
  {
   "cell_type": "code",
   "execution_count": null,
   "metadata": {
    "execution": {
     "iopub.execute_input": "2022-05-11T17:40:29.359631Z",
     "iopub.status.busy": "2022-05-11T17:40:29.359304Z",
     "iopub.status.idle": "2022-05-11T17:40:29.372772Z",
     "shell.execute_reply": "2022-05-11T17:40:29.371827Z",
     "shell.execute_reply.started": "2022-05-11T17:40:29.35959Z"
    }
   },
   "outputs": [],
   "source": [
    "kmeans.cluster_centers_"
   ]
  },
  {
   "cell_type": "markdown",
   "metadata": {},
   "source": [
    "Note that the `KMeans` instance preserves the labels of the instances it was trained on. Somewhat confusingly, in this context, the _label_ of an instance is the index of the cluster that instance gets assigned to:"
   ]
  },
  {
   "cell_type": "code",
   "execution_count": null,
   "metadata": {
    "execution": {
     "iopub.execute_input": "2022-05-11T17:40:29.37662Z",
     "iopub.status.busy": "2022-05-11T17:40:29.374251Z",
     "iopub.status.idle": "2022-05-11T17:40:29.387193Z",
     "shell.execute_reply": "2022-05-11T17:40:29.386484Z",
     "shell.execute_reply.started": "2022-05-11T17:40:29.376566Z"
    }
   },
   "outputs": [],
   "source": [
    "kmeans.labels_"
   ]
  },
  {
   "cell_type": "markdown",
   "metadata": {},
   "source": [
    "Of course, we can predict the labels of new instances:"
   ]
  },
  {
   "cell_type": "code",
   "execution_count": null,
   "metadata": {
    "execution": {
     "iopub.execute_input": "2022-05-11T17:40:29.389135Z",
     "iopub.status.busy": "2022-05-11T17:40:29.388544Z",
     "iopub.status.idle": "2022-05-11T17:40:29.521205Z",
     "shell.execute_reply": "2022-05-11T17:40:29.518871Z",
     "shell.execute_reply.started": "2022-05-11T17:40:29.389092Z"
    }
   },
   "outputs": [],
   "source": [
    "X_new = np.array([[0, 2], [3, 2], [-3, 3], [-3, 2.5]])\n",
    "kmeans.predict(X_new)"
   ]
  },
  {
   "cell_type": "markdown",
   "metadata": {},
   "source": [
    "**Decision Boundaries**"
   ]
  },
  {
   "cell_type": "markdown",
   "metadata": {},
   "source": [
    "Let's plot the model's decision boundaries. This gives us a _Voronoi diagram_:"
   ]
  },
  {
   "cell_type": "code",
   "execution_count": null,
   "metadata": {
    "execution": {
     "iopub.execute_input": "2022-05-11T17:40:29.534568Z",
     "iopub.status.busy": "2022-05-11T17:40:29.525116Z",
     "iopub.status.idle": "2022-05-11T17:40:29.590348Z",
     "shell.execute_reply": "2022-05-11T17:40:29.589185Z",
     "shell.execute_reply.started": "2022-05-11T17:40:29.534498Z"
    }
   },
   "outputs": [],
   "source": [
    "def plot_data(X):\n",
    "    plt.plot(X[:, 0], X[:, 1], 'k.', markersize=2)\n",
    "\n",
    "def plot_centroids(centroids, weights=None, circle_color='w', cross_color='k'):\n",
    "    if weights is not None:\n",
    "        centroids = centroids[weights > weights.max() / 10]\n",
    "    plt.scatter(centroids[:, 0], centroids[:, 1],\n",
    "                marker='o', s=35, linewidths=8,\n",
    "                color=circle_color, zorder=10, alpha=0.9)\n",
    "    plt.scatter(centroids[:, 0], centroids[:, 1],\n",
    "                marker='x', s=2, linewidths=12,\n",
    "                color=cross_color, zorder=11, alpha=1)\n",
    "\n",
    "def plot_decision_boundaries(clusterer, X, resolution=1000, show_centroids=True,\n",
    "                             show_xlabels=True, show_ylabels=True):\n",
    "    mins = X.min(axis=0) - 0.1\n",
    "    maxs = X.max(axis=0) + 0.1\n",
    "    xx, yy = np.meshgrid(np.linspace(mins[0], maxs[0], resolution),\n",
    "                         np.linspace(mins[1], maxs[1], resolution))\n",
    "    Z = clusterer.predict(np.c_[xx.ravel(), yy.ravel()])\n",
    "    Z = Z.reshape(xx.shape)\n",
    "\n",
    "    plt.contourf(Z, extent=(mins[0], maxs[0], mins[1], maxs[1]),\n",
    "                cmap=\"Pastel2\")\n",
    "    plt.contour(Z, extent=(mins[0], maxs[0], mins[1], maxs[1]),\n",
    "                linewidths=1, colors='k')\n",
    "    plot_data(X)\n",
    "    if show_centroids:\n",
    "        plot_centroids(clusterer.cluster_centers_)\n",
    "\n",
    "    if show_xlabels:\n",
    "        plt.xlabel(\"$x_1$\", fontsize=14)\n",
    "    else:\n",
    "        plt.tick_params(labelbottom=False)\n",
    "    if show_ylabels:\n",
    "        plt.ylabel(\"$x_2$\", fontsize=14, rotation=0)\n",
    "    else:\n",
    "        plt.tick_params(labelleft=False)"
   ]
  },
  {
   "cell_type": "code",
   "execution_count": null,
   "metadata": {
    "execution": {
     "iopub.execute_input": "2022-05-11T17:40:29.592674Z",
     "iopub.status.busy": "2022-05-11T17:40:29.592157Z",
     "iopub.status.idle": "2022-05-11T17:40:30.847773Z",
     "shell.execute_reply": "2022-05-11T17:40:30.845874Z",
     "shell.execute_reply.started": "2022-05-11T17:40:29.592629Z"
    }
   },
   "outputs": [],
   "source": [
    "plt.figure(figsize=(8, 4))\n",
    "plot_decision_boundaries(kmeans, X)\n",
    "save_fig(\"voronoi_plot\")\n",
    "plt.show()"
   ]
  },
  {
   "cell_type": "markdown",
   "metadata": {},
   "source": [
    "Not bad! Some of the instances near the edges were probably assigned to the wrong cluster, but overall it looks pretty good."
   ]
  },
  {
   "cell_type": "markdown",
   "metadata": {},
   "source": [
    "**Hard Clustering _vs_ Soft Clustering**"
   ]
  },
  {
   "cell_type": "markdown",
   "metadata": {},
   "source": [
    "Rather than arbitrarily choosing the closest cluster for each instance, which is called _hard clustering_, it might be better measure the distance of each instance to all 5 centroids. This is what the `transform()` method does:"
   ]
  },
  {
   "cell_type": "code",
   "execution_count": null,
   "metadata": {
    "execution": {
     "iopub.execute_input": "2022-05-11T17:40:30.854398Z",
     "iopub.status.busy": "2022-05-11T17:40:30.851643Z",
     "iopub.status.idle": "2022-05-11T17:40:30.862423Z",
     "shell.execute_reply": "2022-05-11T17:40:30.861733Z",
     "shell.execute_reply.started": "2022-05-11T17:40:30.854349Z"
    }
   },
   "outputs": [],
   "source": [
    "kmeans.transform(X_new)"
   ]
  },
  {
   "cell_type": "markdown",
   "metadata": {},
   "source": [
    "You can verify that this is indeed the Euclidian distance between each instance and each centroid:"
   ]
  },
  {
   "cell_type": "code",
   "execution_count": null,
   "metadata": {
    "execution": {
     "iopub.execute_input": "2022-05-11T17:40:30.865902Z",
     "iopub.status.busy": "2022-05-11T17:40:30.864588Z",
     "iopub.status.idle": "2022-05-11T17:40:30.886426Z",
     "shell.execute_reply": "2022-05-11T17:40:30.885615Z",
     "shell.execute_reply.started": "2022-05-11T17:40:30.865864Z"
    }
   },
   "outputs": [],
   "source": [
    "np.linalg.norm(np.tile(X_new, (1, k)).reshape(-1, k, 2) - kmeans.cluster_centers_, axis=2)"
   ]
  },
  {
   "cell_type": "markdown",
   "metadata": {},
   "source": [
    "### The K-Means Algorithm"
   ]
  },
  {
   "cell_type": "markdown",
   "metadata": {},
   "source": [
    "The K-Means algorithm is one of the fastest clustering algorithms, and also one of the simplest:\n",
    "* First initialize $k$ centroids randomly: $k$ distinct instances are chosen randomly from the dataset and the centroids are placed at their locations.\n",
    "* Repeat until convergence (i.e., until the centroids stop moving):\n",
    "    * Assign each instance to the closest centroid.\n",
    "    * Update the centroids to be the mean of the instances that are assigned to them."
   ]
  },
  {
   "cell_type": "markdown",
   "metadata": {},
   "source": [
    "The `KMeans` class applies an optimized algorithm by default. To get the original K-Means algorithm (for educational purposes only), you must set `init=\"random\"`, `n_init=1`and `algorithm=\"full\"`. These hyperparameters will be explained below."
   ]
  },
  {
   "cell_type": "markdown",
   "metadata": {},
   "source": [
    "Let's run the K-Means algorithm for 1, 2 and 3 iterations, to see how the centroids move around:"
   ]
  },
  {
   "cell_type": "code",
   "execution_count": null,
   "metadata": {
    "execution": {
     "iopub.execute_input": "2022-05-11T17:40:30.89376Z",
     "iopub.status.busy": "2022-05-11T17:40:30.893397Z",
     "iopub.status.idle": "2022-05-11T17:40:31.417166Z",
     "shell.execute_reply": "2022-05-11T17:40:31.416238Z",
     "shell.execute_reply.started": "2022-05-11T17:40:30.89373Z"
    }
   },
   "outputs": [],
   "source": [
    "kmeans_iter1 = KMeans(n_clusters=5, init=\"random\", n_init=1,\n",
    "                     algorithm=\"full\", max_iter=1, random_state=0)\n",
    "kmeans_iter2 = KMeans(n_clusters=5, init=\"random\", n_init=1,\n",
    "                     algorithm=\"full\", max_iter=2, random_state=0)\n",
    "kmeans_iter3 = KMeans(n_clusters=5, init=\"random\", n_init=1,\n",
    "                     algorithm=\"full\", max_iter=3, random_state=0)\n",
    "kmeans_iter1.fit(X)\n",
    "kmeans_iter2.fit(X)\n",
    "kmeans_iter3.fit(X)"
   ]
  },
  {
   "cell_type": "markdown",
   "metadata": {},
   "source": [
    "And let's plot this:"
   ]
  },
  {
   "cell_type": "code",
   "execution_count": null,
   "metadata": {
    "execution": {
     "iopub.execute_input": "2022-05-11T17:40:31.419264Z",
     "iopub.status.busy": "2022-05-11T17:40:31.418758Z",
     "iopub.status.idle": "2022-05-11T17:40:36.158686Z",
     "shell.execute_reply": "2022-05-11T17:40:36.157832Z",
     "shell.execute_reply.started": "2022-05-11T17:40:31.419218Z"
    }
   },
   "outputs": [],
   "source": [
    "plt.figure(figsize=(10, 8))\n",
    "\n",
    "plt.subplot(321)\n",
    "plot_data(X)\n",
    "plot_centroids(kmeans_iter1.cluster_centers_, circle_color='r', cross_color='w')\n",
    "plt.ylabel(\"$x_2$\", fontsize=14, rotation=0)\n",
    "plt.tick_params(labelbottom=False)\n",
    "plt.title(\"Update the centroids (initially randomly)\", fontsize=14)\n",
    "\n",
    "plt.subplot(322)\n",
    "plot_decision_boundaries(kmeans_iter1, X, show_xlabels=False, show_ylabels=False)\n",
    "plt.title(\"Label the instances\", fontsize=14)\n",
    "\n",
    "plt.subplot(323)\n",
    "plot_decision_boundaries(kmeans_iter1, X, show_centroids=False, show_xlabels=False)\n",
    "plot_centroids(kmeans_iter2.cluster_centers_)\n",
    "\n",
    "plt.subplot(324)\n",
    "plot_decision_boundaries(kmeans_iter2, X, show_xlabels=False, show_ylabels=False)\n",
    "\n",
    "plt.subplot(325)\n",
    "plot_decision_boundaries(kmeans_iter2, X, show_centroids=False)\n",
    "plot_centroids(kmeans_iter3.cluster_centers_)\n",
    "\n",
    "plt.subplot(326)\n",
    "plot_decision_boundaries(kmeans_iter3, X, show_ylabels=False)\n",
    "\n",
    "save_fig(\"kmeans_algorithm_plot\")\n",
    "plt.show()"
   ]
  },
  {
   "cell_type": "markdown",
   "metadata": {},
   "source": [
    "**K-Means Variability**"
   ]
  },
  {
   "cell_type": "markdown",
   "metadata": {},
   "source": [
    "In the original K-Means algorithm, the centroids are just initialized randomly, and the algorithm simply runs a single iteration to gradually improve the centroids, as we saw above.\n",
    "\n",
    "However, one major problem with this approach is that if you run K-Means multiple times (or with different random seeds), it can converge to very different solutions, as you can see below:"
   ]
  },
  {
   "cell_type": "code",
   "execution_count": null,
   "metadata": {
    "execution": {
     "iopub.execute_input": "2022-05-11T17:40:36.160327Z",
     "iopub.status.busy": "2022-05-11T17:40:36.160002Z",
     "iopub.status.idle": "2022-05-11T17:40:36.173927Z",
     "shell.execute_reply": "2022-05-11T17:40:36.173118Z",
     "shell.execute_reply.started": "2022-05-11T17:40:36.160283Z"
    }
   },
   "outputs": [],
   "source": [
    "def plot_clusterer_comparison(clusterer1, clusterer2, X, title1=None, title2=None):\n",
    "    clusterer1.fit(X)\n",
    "    clusterer2.fit(X)\n",
    "\n",
    "    plt.figure(figsize=(10, 3.2))\n",
    "\n",
    "    plt.subplot(121)\n",
    "    plot_decision_boundaries(clusterer1, X)\n",
    "    if title1:\n",
    "        plt.title(title1, fontsize=14)\n",
    "\n",
    "    plt.subplot(122)\n",
    "    plot_decision_boundaries(clusterer2, X, show_ylabels=False)\n",
    "    if title2:\n",
    "        plt.title(title2, fontsize=14)"
   ]
  },
  {
   "cell_type": "code",
   "execution_count": null,
   "metadata": {
    "execution": {
     "iopub.execute_input": "2022-05-11T17:40:36.179765Z",
     "iopub.status.busy": "2022-05-11T17:40:36.179164Z",
     "iopub.status.idle": "2022-05-11T17:40:38.74721Z",
     "shell.execute_reply": "2022-05-11T17:40:38.746332Z",
     "shell.execute_reply.started": "2022-05-11T17:40:36.179707Z"
    }
   },
   "outputs": [],
   "source": [
    "kmeans_rnd_init1 = KMeans(n_clusters=5, init=\"random\", n_init=1,\n",
    "                         algorithm=\"full\", random_state=2)\n",
    "kmeans_rnd_init2 = KMeans(n_clusters=5, init=\"random\", n_init=1,\n",
    "                         algorithm=\"full\", random_state=5)\n",
    "\n",
    "plot_clusterer_comparison(kmeans_rnd_init1, kmeans_rnd_init2, X,\n",
    "                          \"Solution 1\", \"Solution 2 (with a different random init)\")\n",
    "\n",
    "save_fig(\"kmeans_variability_plot\")\n",
    "plt.show()"
   ]
  },
  {
   "cell_type": "markdown",
   "metadata": {},
   "source": [
    "### Inertia"
   ]
  },
  {
   "cell_type": "markdown",
   "metadata": {},
   "source": [
    "To select the best model, we will need a way to evaluate a K-Mean model's performance. Unfortunately, clustering is an unsupervised task, so we do not have the targets. But at least we can measure the distance between each instance and its centroid. This is the idea behind the _inertia_ metric:"
   ]
  },
  {
   "cell_type": "code",
   "execution_count": null,
   "metadata": {
    "execution": {
     "iopub.execute_input": "2022-05-11T17:40:38.753697Z",
     "iopub.status.busy": "2022-05-11T17:40:38.751141Z",
     "iopub.status.idle": "2022-05-11T17:40:38.762929Z",
     "shell.execute_reply": "2022-05-11T17:40:38.762087Z",
     "shell.execute_reply.started": "2022-05-11T17:40:38.753629Z"
    }
   },
   "outputs": [],
   "source": [
    "kmeans.inertia_"
   ]
  },
  {
   "cell_type": "markdown",
   "metadata": {},
   "source": [
    "As you can easily verify, inertia is the sum of the squared distances between each training instance and its closest centroid:"
   ]
  },
  {
   "cell_type": "code",
   "execution_count": null,
   "metadata": {
    "execution": {
     "iopub.execute_input": "2022-05-11T17:40:38.764556Z",
     "iopub.status.busy": "2022-05-11T17:40:38.764189Z",
     "iopub.status.idle": "2022-05-11T17:40:38.778602Z",
     "shell.execute_reply": "2022-05-11T17:40:38.777894Z",
     "shell.execute_reply.started": "2022-05-11T17:40:38.764519Z"
    }
   },
   "outputs": [],
   "source": [
    "X_dist = kmeans.transform(X)\n",
    "np.sum(X_dist[np.arange(len(X_dist)), kmeans.labels_]**2)"
   ]
  },
  {
   "cell_type": "code",
   "execution_count": null,
   "metadata": {
    "execution": {
     "iopub.execute_input": "2022-05-11T18:12:11.12484Z",
     "iopub.status.busy": "2022-05-11T18:12:11.124505Z",
     "iopub.status.idle": "2022-05-11T18:12:11.130996Z",
     "shell.execute_reply": "2022-05-11T18:12:11.130359Z",
     "shell.execute_reply.started": "2022-05-11T18:12:11.124805Z"
    }
   },
   "outputs": [],
   "source": [
    "X_dist"
   ]
  },
  {
   "cell_type": "markdown",
   "metadata": {},
   "source": [
    "The `score()` method returns the negative inertia. Why negative? Well, it is because a predictor's `score()` method must always respect the \"_greater is better_\" rule."
   ]
  },
  {
   "cell_type": "code",
   "execution_count": null,
   "metadata": {
    "execution": {
     "iopub.execute_input": "2022-05-11T18:21:13.370989Z",
     "iopub.status.busy": "2022-05-11T18:21:13.370497Z",
     "iopub.status.idle": "2022-05-11T18:21:13.37782Z",
     "shell.execute_reply": "2022-05-11T18:21:13.377125Z",
     "shell.execute_reply.started": "2022-05-11T18:21:13.37095Z"
    }
   },
   "outputs": [],
   "source": [
    "kmeans.labels_.shape"
   ]
  },
  {
   "cell_type": "code",
   "execution_count": null,
   "metadata": {
    "execution": {
     "iopub.execute_input": "2022-05-11T17:40:38.784651Z",
     "iopub.status.busy": "2022-05-11T17:40:38.782717Z",
     "iopub.status.idle": "2022-05-11T17:40:38.880215Z",
     "shell.execute_reply": "2022-05-11T17:40:38.879535Z",
     "shell.execute_reply.started": "2022-05-11T17:40:38.784603Z"
    }
   },
   "outputs": [],
   "source": [
    "kmeans.score(X)"
   ]
  },
  {
   "cell_type": "markdown",
   "metadata": {},
   "source": [
    "### Multiple Initializations"
   ]
  },
  {
   "cell_type": "markdown",
   "metadata": {},
   "source": [
    "So one approach to solve the variability issue is to simply run the K-Means algorithm multiple times with different random initializations, and select the solution that minimizes the inertia. For example, here are the inertias of the two \"bad\" models shown in the previous figure:"
   ]
  },
  {
   "cell_type": "code",
   "execution_count": null,
   "metadata": {
    "execution": {
     "iopub.execute_input": "2022-05-11T17:40:38.886151Z",
     "iopub.status.busy": "2022-05-11T17:40:38.884301Z",
     "iopub.status.idle": "2022-05-11T17:40:38.900791Z",
     "shell.execute_reply": "2022-05-11T17:40:38.899982Z",
     "shell.execute_reply.started": "2022-05-11T17:40:38.886104Z"
    }
   },
   "outputs": [],
   "source": [
    "kmeans_rnd_init1.inertia_"
   ]
  },
  {
   "cell_type": "code",
   "execution_count": null,
   "metadata": {
    "execution": {
     "iopub.execute_input": "2022-05-11T17:40:38.906908Z",
     "iopub.status.busy": "2022-05-11T17:40:38.905046Z",
     "iopub.status.idle": "2022-05-11T17:40:38.91534Z",
     "shell.execute_reply": "2022-05-11T17:40:38.914679Z",
     "shell.execute_reply.started": "2022-05-11T17:40:38.906857Z"
    }
   },
   "outputs": [],
   "source": [
    "kmeans_rnd_init2.inertia_"
   ]
  },
  {
   "cell_type": "markdown",
   "metadata": {},
   "source": [
    "As you can see, they have a higher inertia than the first \"good\" model we trained, which means they are probably worse."
   ]
  },
  {
   "cell_type": "markdown",
   "metadata": {},
   "source": [
    "When you set the `n_init` hyperparameter, Scikit-Learn runs the original algorithm `n_init` times, and selects the solution that minimizes the inertia. By default, Scikit-Learn sets `n_init=10`."
   ]
  },
  {
   "cell_type": "code",
   "execution_count": null,
   "metadata": {
    "execution": {
     "iopub.execute_input": "2022-05-11T17:40:38.921468Z",
     "iopub.status.busy": "2022-05-11T17:40:38.919382Z",
     "iopub.status.idle": "2022-05-11T17:40:42.895478Z",
     "shell.execute_reply": "2022-05-11T17:40:42.89465Z",
     "shell.execute_reply.started": "2022-05-11T17:40:38.921426Z"
    }
   },
   "outputs": [],
   "source": [
    "kmeans_rnd_10_inits = KMeans(n_clusters=5, init=\"random\", n_init=10,\n",
    "                              algorithm=\"full\", random_state=2)\n",
    "kmeans_rnd_10_inits.fit(X)"
   ]
  },
  {
   "cell_type": "markdown",
   "metadata": {},
   "source": [
    "As you can see, we end up with the initial model, which is certainly the optimal K-Means solution (at least in terms of inertia, and assuming $k=5$)."
   ]
  },
  {
   "cell_type": "code",
   "execution_count": null,
   "metadata": {
    "execution": {
     "iopub.execute_input": "2022-05-11T17:40:42.901973Z",
     "iopub.status.busy": "2022-05-11T17:40:42.899947Z",
     "iopub.status.idle": "2022-05-11T17:40:43.561573Z",
     "shell.execute_reply": "2022-05-11T17:40:43.560837Z",
     "shell.execute_reply.started": "2022-05-11T17:40:42.901925Z"
    }
   },
   "outputs": [],
   "source": [
    "plt.figure(figsize=(8, 4))\n",
    "plot_decision_boundaries(kmeans_rnd_10_inits, X)\n",
    "plt.show()"
   ]
  },
  {
   "cell_type": "markdown",
   "metadata": {},
   "source": [
    "### Centroid initialization methods"
   ]
  },
  {
   "cell_type": "markdown",
   "metadata": {},
   "source": [
    "Instead of initializing the centroids entirely randomly, it is preferable to initialize them using the following algorithm, proposed in a [2006 paper](https://goo.gl/eNUPw6) by David Arthur and Sergei Vassilvitskii:\n",
    "* Take one centroid $c_1$, chosen uniformly at random from the dataset.\n",
    "* Take a new center $c_i$, choosing an instance $\\mathbf{x}_i$ with probability: $D(\\mathbf{x}_i)^2$ / $\\sum\\limits_{j=1}^{m}{D(\\mathbf{x}_j)}^2$ where $D(\\mathbf{x}_i)$ is the distance between the instance $\\mathbf{x}_i$ and the closest centroid that was already chosen. This probability distribution ensures that instances that are further away from already chosen centroids are much more likely be selected as centroids.\n",
    "* Repeat the previous step until all $k$ centroids have been chosen."
   ]
  },
  {
   "cell_type": "markdown",
   "metadata": {},
   "source": [
    "The rest of the K-Means++ algorithm is just regular K-Means. With this initialization, the K-Means algorithm is much less likely to converge to a suboptimal solution, so it is possible to reduce `n_init` considerably. Most of the time, this largely compensates for the additional complexity of the initialization process."
   ]
  },
  {
   "cell_type": "markdown",
   "metadata": {},
   "source": [
    "To set the initialization to K-Means++, simply set `init=\"k-means++\"` (this is actually the default):"
   ]
  },
  {
   "cell_type": "code",
   "execution_count": null,
   "metadata": {
    "execution": {
     "iopub.execute_input": "2022-05-11T17:40:43.56724Z",
     "iopub.status.busy": "2022-05-11T17:40:43.565442Z",
     "iopub.status.idle": "2022-05-11T17:40:43.576381Z",
     "shell.execute_reply": "2022-05-11T17:40:43.575603Z",
     "shell.execute_reply.started": "2022-05-11T17:40:43.567195Z"
    }
   },
   "outputs": [],
   "source": [
    "KMeans()"
   ]
  },
  {
   "cell_type": "code",
   "execution_count": null,
   "metadata": {
    "execution": {
     "iopub.execute_input": "2022-05-11T17:40:43.583487Z",
     "iopub.status.busy": "2022-05-11T17:40:43.580924Z",
     "iopub.status.idle": "2022-05-11T17:40:43.820084Z",
     "shell.execute_reply": "2022-05-11T17:40:43.819403Z",
     "shell.execute_reply.started": "2022-05-11T17:40:43.583443Z"
    }
   },
   "outputs": [],
   "source": [
    "good_init = np.array([[-3, 3], [-3, 2], [-3, 1], [-1, 2], [0, 2]])\n",
    "kmeans = KMeans(n_clusters=5, init=good_init, n_init=1, random_state=42)\n",
    "kmeans.fit(X)\n",
    "kmeans.inertia_"
   ]
  },
  {
   "cell_type": "markdown",
   "metadata": {},
   "source": [
    "### Accelerated K-Means"
   ]
  },
  {
   "cell_type": "markdown",
   "metadata": {},
   "source": [
    "The K-Means algorithm can be significantly accelerated by avoiding many unnecessary distance calculations: this is achieved by exploiting the triangle inequality (given three points A, B and C, the distance AC is always such that AC ≤ AB + BC) and by keeping track of lower and upper bounds for distances between instances and centroids (see this [2003 paper](https://www.aaai.org/Papers/ICML/2003/ICML03-022.pdf) by Charles Elkan for more details)."
   ]
  },
  {
   "cell_type": "markdown",
   "metadata": {},
   "source": [
    "To use Elkan's variant of K-Means, just set `algorithm=\"elkan\"`. Note that it does not support sparse data, so by default, Scikit-Learn uses `\"elkan\"` for dense data, and `\"full\"` (the regular K-Means algorithm) for sparse data."
   ]
  },
  {
   "cell_type": "code",
   "execution_count": null,
   "metadata": {
    "execution": {
     "iopub.execute_input": "2022-05-11T17:40:43.83116Z",
     "iopub.status.busy": "2022-05-11T17:40:43.823693Z",
     "iopub.status.idle": "2022-05-11T18:11:44.524717Z",
     "shell.execute_reply": "2022-05-11T18:11:44.502077Z",
     "shell.execute_reply.started": "2022-05-11T17:40:43.831106Z"
    }
   },
   "outputs": [],
   "source": [
    "%timeit -n 50 KMeans(algorithm=\"elkan\", random_state=42).fit(X)"
   ]
  },
  {
   "cell_type": "code",
   "execution_count": null,
   "metadata": {
    "execution": {
     "iopub.status.busy": "2022-05-11T18:11:44.530867Z",
     "iopub.status.idle": "2022-05-11T18:11:44.531472Z",
     "shell.execute_reply": "2022-05-11T18:11:44.531266Z",
     "shell.execute_reply.started": "2022-05-11T18:11:44.531241Z"
    },
    "scrolled": true
   },
   "outputs": [],
   "source": [
    "%timeit -n 50 KMeans(algorithm=\"full\", random_state=42).fit(X)"
   ]
  },
  {
   "cell_type": "markdown",
   "metadata": {},
   "source": [
    "There's no big difference in this case, as the dataset is fairly small."
   ]
  },
  {
   "cell_type": "markdown",
   "metadata": {},
   "source": [
    "### Mini-Batch K-Means"
   ]
  },
  {
   "cell_type": "markdown",
   "metadata": {},
   "source": [
    "Scikit-Learn also implements a variant of the K-Means algorithm that supports mini-batches (see [this paper](http://www.eecs.tufts.edu/~dsculley/papers/fastkmeans.pdf)):"
   ]
  },
  {
   "cell_type": "code",
   "execution_count": null,
   "metadata": {
    "execution": {
     "iopub.status.busy": "2022-05-11T18:11:44.532468Z",
     "iopub.status.idle": "2022-05-11T18:11:44.532902Z",
     "shell.execute_reply": "2022-05-11T18:11:44.532745Z",
     "shell.execute_reply.started": "2022-05-11T18:11:44.532726Z"
    }
   },
   "outputs": [],
   "source": [
    "from sklearn.cluster import MiniBatchKMeans"
   ]
  },
  {
   "cell_type": "code",
   "execution_count": null,
   "metadata": {
    "execution": {
     "iopub.status.busy": "2022-05-11T18:11:44.533861Z",
     "iopub.status.idle": "2022-05-11T18:11:44.53476Z",
     "shell.execute_reply": "2022-05-11T18:11:44.534478Z",
     "shell.execute_reply.started": "2022-05-11T18:11:44.534431Z"
    }
   },
   "outputs": [],
   "source": [
    "minibatch_kmeans = MiniBatchKMeans(n_clusters=5, random_state=42)\n",
    "minibatch_kmeans.fit(X)"
   ]
  },
  {
   "cell_type": "code",
   "execution_count": null,
   "metadata": {
    "execution": {
     "iopub.status.busy": "2022-05-11T18:11:44.536324Z",
     "iopub.status.idle": "2022-05-11T18:11:44.537069Z",
     "shell.execute_reply": "2022-05-11T18:11:44.536765Z",
     "shell.execute_reply.started": "2022-05-11T18:11:44.536743Z"
    }
   },
   "outputs": [],
   "source": [
    "minibatch_kmeans.inertia_"
   ]
  },
  {
   "cell_type": "markdown",
   "metadata": {},
   "source": [
    "If the dataset does not fit in memory, the simplest option is to use the `memmap` class, just like we did for incremental PCA in the previous chapter. First let's load MNIST:"
   ]
  },
  {
   "cell_type": "markdown",
   "metadata": {},
   "source": [
    "**Warning:** since Scikit-Learn 0.24, `fetch_openml()` returns a Pandas `DataFrame` by default. To avoid this and keep the same code as in the book, we use `as_frame=False`."
   ]
  },
  {
   "cell_type": "code",
   "execution_count": null,
   "metadata": {
    "execution": {
     "iopub.status.busy": "2022-05-11T18:11:44.538198Z",
     "iopub.status.idle": "2022-05-11T18:11:44.538685Z",
     "shell.execute_reply": "2022-05-11T18:11:44.538515Z",
     "shell.execute_reply.started": "2022-05-11T18:11:44.538496Z"
    }
   },
   "outputs": [],
   "source": [
    "import urllib.request\n",
    "from sklearn.datasets import fetch_openml\n",
    "\n",
    "mnist = fetch_openml('mnist_784', version=1, as_frame=False)\n",
    "mnist.target = mnist.target.astype(np.int64)"
   ]
  },
  {
   "cell_type": "code",
   "execution_count": null,
   "metadata": {
    "execution": {
     "iopub.status.busy": "2022-05-11T18:11:44.539702Z",
     "iopub.status.idle": "2022-05-11T18:11:44.540185Z",
     "shell.execute_reply": "2022-05-11T18:11:44.540001Z",
     "shell.execute_reply.started": "2022-05-11T18:11:44.539983Z"
    }
   },
   "outputs": [],
   "source": [
    "from sklearn.model_selection import train_test_split\n",
    "\n",
    "X_train, X_test, y_train, y_test = train_test_split(\n",
    "    mnist[\"data\"], mnist[\"target\"], random_state=42)"
   ]
  },
  {
   "cell_type": "markdown",
   "metadata": {},
   "source": [
    "Next, let's write it to a `memmap`:"
   ]
  },
  {
   "cell_type": "code",
   "execution_count": null,
   "metadata": {
    "execution": {
     "iopub.status.busy": "2022-05-11T18:11:44.541169Z",
     "iopub.status.idle": "2022-05-11T18:11:44.541724Z",
     "shell.execute_reply": "2022-05-11T18:11:44.541534Z",
     "shell.execute_reply.started": "2022-05-11T18:11:44.541512Z"
    }
   },
   "outputs": [],
   "source": [
    "filename = \"my_mnist.data\"\n",
    "X_mm = np.memmap(filename, dtype='float32', mode='write', shape=X_train.shape)\n",
    "X_mm[:] = X_train"
   ]
  },
  {
   "cell_type": "code",
   "execution_count": null,
   "metadata": {
    "execution": {
     "iopub.status.busy": "2022-05-11T18:11:44.542704Z",
     "iopub.status.idle": "2022-05-11T18:11:44.543262Z",
     "shell.execute_reply": "2022-05-11T18:11:44.543068Z",
     "shell.execute_reply.started": "2022-05-11T18:11:44.543043Z"
    }
   },
   "outputs": [],
   "source": [
    "minibatch_kmeans = MiniBatchKMeans(n_clusters=10, batch_size=10, random_state=42)\n",
    "minibatch_kmeans.fit(X_mm)"
   ]
  },
  {
   "cell_type": "markdown",
   "metadata": {},
   "source": [
    "If your data is so large that you cannot use `memmap`, things get more complicated. Let's start by writing a function to load the next batch (in real life, you would load the data from disk):"
   ]
  },
  {
   "cell_type": "code",
   "execution_count": null,
   "metadata": {
    "execution": {
     "iopub.status.busy": "2022-05-11T18:11:44.544295Z",
     "iopub.status.idle": "2022-05-11T18:11:44.544789Z",
     "shell.execute_reply": "2022-05-11T18:11:44.544621Z",
     "shell.execute_reply.started": "2022-05-11T18:11:44.5446Z"
    }
   },
   "outputs": [],
   "source": [
    "def load_next_batch(batch_size):\n",
    "    return X[np.random.choice(len(X), batch_size, replace=False)]"
   ]
  },
  {
   "cell_type": "markdown",
   "metadata": {},
   "source": [
    "Now we can train the model by feeding it one batch at a time. We also need to implement multiple initializations and keep the model with the lowest inertia:"
   ]
  },
  {
   "cell_type": "code",
   "execution_count": null,
   "metadata": {
    "execution": {
     "iopub.status.busy": "2022-05-11T18:11:44.545826Z",
     "iopub.status.idle": "2022-05-11T18:11:44.546303Z",
     "shell.execute_reply": "2022-05-11T18:11:44.546144Z",
     "shell.execute_reply.started": "2022-05-11T18:11:44.546126Z"
    }
   },
   "outputs": [],
   "source": [
    "np.random.seed(42)"
   ]
  },
  {
   "cell_type": "code",
   "execution_count": null,
   "metadata": {
    "execution": {
     "iopub.status.busy": "2022-05-11T18:11:44.547195Z",
     "iopub.status.idle": "2022-05-11T18:11:44.547642Z",
     "shell.execute_reply": "2022-05-11T18:11:44.547486Z",
     "shell.execute_reply.started": "2022-05-11T18:11:44.547468Z"
    }
   },
   "outputs": [],
   "source": [
    "k = 5\n",
    "n_init = 10\n",
    "n_iterations = 100\n",
    "batch_size = 100\n",
    "init_size = 500  # more data for K-Means++ initialization\n",
    "evaluate_on_last_n_iters = 10\n",
    "\n",
    "best_kmeans = None\n",
    "\n",
    "for init in range(n_init):\n",
    "    minibatch_kmeans = MiniBatchKMeans(n_clusters=k, init_size=init_size)\n",
    "    X_init = load_next_batch(init_size)\n",
    "    minibatch_kmeans.partial_fit(X_init)\n",
    "\n",
    "    minibatch_kmeans.sum_inertia_ = 0\n",
    "    for iteration in range(n_iterations):\n",
    "        X_batch = load_next_batch(batch_size)\n",
    "        minibatch_kmeans.partial_fit(X_batch)\n",
    "        if iteration >= n_iterations - evaluate_on_last_n_iters:\n",
    "            minibatch_kmeans.sum_inertia_ += minibatch_kmeans.inertia_\n",
    "\n",
    "    if (best_kmeans is None or\n",
    "        minibatch_kmeans.sum_inertia_ < best_kmeans.sum_inertia_):\n",
    "        best_kmeans = minibatch_kmeans"
   ]
  },
  {
   "cell_type": "code",
   "execution_count": null,
   "metadata": {
    "execution": {
     "iopub.status.busy": "2022-05-11T18:11:44.548513Z",
     "iopub.status.idle": "2022-05-11T18:11:44.548943Z",
     "shell.execute_reply": "2022-05-11T18:11:44.54879Z",
     "shell.execute_reply.started": "2022-05-11T18:11:44.548772Z"
    }
   },
   "outputs": [],
   "source": [
    "best_kmeans.score(X)"
   ]
  },
  {
   "cell_type": "markdown",
   "metadata": {},
   "source": [
    "Mini-batch K-Means is much faster than regular K-Means:"
   ]
  },
  {
   "cell_type": "code",
   "execution_count": null,
   "metadata": {
    "execution": {
     "iopub.status.busy": "2022-05-11T18:11:44.549967Z",
     "iopub.status.idle": "2022-05-11T18:11:44.550435Z",
     "shell.execute_reply": "2022-05-11T18:11:44.550279Z",
     "shell.execute_reply.started": "2022-05-11T18:11:44.550261Z"
    }
   },
   "outputs": [],
   "source": [
    "%timeit KMeans(n_clusters=5, random_state=42).fit(X)"
   ]
  },
  {
   "cell_type": "code",
   "execution_count": null,
   "metadata": {
    "execution": {
     "iopub.status.busy": "2022-05-11T18:11:44.551367Z",
     "iopub.status.idle": "2022-05-11T18:11:44.551812Z",
     "shell.execute_reply": "2022-05-11T18:11:44.551654Z",
     "shell.execute_reply.started": "2022-05-11T18:11:44.551636Z"
    }
   },
   "outputs": [],
   "source": [
    "%timeit MiniBatchKMeans(n_clusters=5, random_state=42).fit(X)"
   ]
  },
  {
   "cell_type": "markdown",
   "metadata": {},
   "source": [
    "That's *much* faster! However, its performance is often lower (higher inertia), and it keeps degrading as _k_ increases. Let's plot the inertia ratio and the training time ratio between Mini-batch K-Means and regular K-Means:"
   ]
  },
  {
   "cell_type": "code",
   "execution_count": null,
   "metadata": {
    "execution": {
     "iopub.status.busy": "2022-05-11T18:11:44.55273Z",
     "iopub.status.idle": "2022-05-11T18:11:44.553189Z",
     "shell.execute_reply": "2022-05-11T18:11:44.553008Z",
     "shell.execute_reply.started": "2022-05-11T18:11:44.552989Z"
    }
   },
   "outputs": [],
   "source": [
    "from timeit import timeit"
   ]
  },
  {
   "cell_type": "code",
   "execution_count": null,
   "metadata": {
    "execution": {
     "iopub.status.busy": "2022-05-11T18:11:44.55409Z",
     "iopub.status.idle": "2022-05-11T18:11:44.554528Z",
     "shell.execute_reply": "2022-05-11T18:11:44.554375Z",
     "shell.execute_reply.started": "2022-05-11T18:11:44.554357Z"
    }
   },
   "outputs": [],
   "source": [
    "times = np.empty((100, 2))\n",
    "inertias = np.empty((100, 2))\n",
    "for k in range(1, 101):\n",
    "    kmeans_ = KMeans(n_clusters=k, random_state=42)\n",
    "    minibatch_kmeans = MiniBatchKMeans(n_clusters=k, random_state=42)\n",
    "    print(\"\\r{}/{}\".format(k, 100), end=\"\")\n",
    "    times[k-1, 0] = timeit(\"kmeans_.fit(X)\", number=10, globals=globals())\n",
    "    times[k-1, 1]  = timeit(\"minibatch_kmeans.fit(X)\", number=10, globals=globals())\n",
    "    inertias[k-1, 0] = kmeans_.inertia_\n",
    "    inertias[k-1, 1] = minibatch_kmeans.inertia_"
   ]
  },
  {
   "cell_type": "code",
   "execution_count": null,
   "metadata": {
    "execution": {
     "iopub.status.busy": "2022-05-11T18:11:44.556856Z",
     "iopub.status.idle": "2022-05-11T18:11:44.557466Z",
     "shell.execute_reply": "2022-05-11T18:11:44.557286Z",
     "shell.execute_reply.started": "2022-05-11T18:11:44.557265Z"
    }
   },
   "outputs": [],
   "source": [
    "plt.figure(figsize=(10,4))\n",
    "\n",
    "plt.subplot(121)\n",
    "plt.plot(range(1, 101), inertias[:, 0], \"r--\", label=\"K-Means\")\n",
    "plt.plot(range(1, 101), inertias[:, 1], \"b.-\", label=\"Mini-batch K-Means\")\n",
    "plt.xlabel(\"$k$\", fontsize=16)\n",
    "plt.title(\"Inertia\", fontsize=14)\n",
    "plt.legend(fontsize=14)\n",
    "plt.axis([1, 100, 0, 100])\n",
    "\n",
    "plt.subplot(122)\n",
    "plt.plot(range(1, 101), times[:, 0], \"r--\", label=\"K-Means\")\n",
    "plt.plot(range(1, 101), times[:, 1], \"b.-\", label=\"Mini-batch K-Means\")\n",
    "plt.xlabel(\"$k$\", fontsize=16)\n",
    "plt.title(\"Training time (seconds)\", fontsize=14)\n",
    "plt.axis([1, 100, 0, 6])\n",
    "\n",
    "save_fig(\"minibatch_kmeans_vs_kmeans\")\n",
    "plt.show()"
   ]
  },
  {
   "cell_type": "markdown",
   "metadata": {},
   "source": [
    "### Finding the optimal number of clusters"
   ]
  },
  {
   "cell_type": "markdown",
   "metadata": {},
   "source": [
    "What if the number of clusters was set to a lower or greater value than 5?"
   ]
  },
  {
   "cell_type": "code",
   "execution_count": null,
   "metadata": {
    "execution": {
     "iopub.status.busy": "2022-05-11T18:11:44.560175Z",
     "iopub.status.idle": "2022-05-11T18:11:44.562989Z",
     "shell.execute_reply": "2022-05-11T18:11:44.56221Z",
     "shell.execute_reply.started": "2022-05-11T18:11:44.56218Z"
    }
   },
   "outputs": [],
   "source": [
    "kmeans_k3 = KMeans(n_clusters=3, random_state=42)\n",
    "kmeans_k8 = KMeans(n_clusters=8, random_state=42)\n",
    "\n",
    "plot_clusterer_comparison(kmeans_k3, kmeans_k8, X, \"$k=3$\", \"$k=8$\")\n",
    "save_fig(\"bad_n_clusters_plot\")\n",
    "plt.show()"
   ]
  },
  {
   "cell_type": "markdown",
   "metadata": {},
   "source": [
    "Ouch, these two models don't look great. What about their inertias?"
   ]
  },
  {
   "cell_type": "code",
   "execution_count": null,
   "metadata": {
    "execution": {
     "iopub.status.busy": "2022-05-11T18:11:44.564724Z",
     "iopub.status.idle": "2022-05-11T18:11:44.56533Z",
     "shell.execute_reply": "2022-05-11T18:11:44.565151Z",
     "shell.execute_reply.started": "2022-05-11T18:11:44.565128Z"
    }
   },
   "outputs": [],
   "source": [
    "kmeans_k3.inertia_"
   ]
  },
  {
   "cell_type": "code",
   "execution_count": null,
   "metadata": {
    "execution": {
     "iopub.status.busy": "2022-05-11T18:11:44.566451Z",
     "iopub.status.idle": "2022-05-11T18:11:44.567044Z",
     "shell.execute_reply": "2022-05-11T18:11:44.566842Z",
     "shell.execute_reply.started": "2022-05-11T18:11:44.56682Z"
    }
   },
   "outputs": [],
   "source": [
    "kmeans_k8.inertia_"
   ]
  },
  {
   "cell_type": "markdown",
   "metadata": {},
   "source": [
    "No, we cannot simply take the value of $k$ that minimizes the inertia, since it keeps getting lower as we increase $k$. Indeed, the more clusters there are, the closer each instance will be to its closest centroid, and therefore the lower the inertia will be. However, we can plot the inertia as a function of $k$ and analyze the resulting curve:"
   ]
  },
  {
   "cell_type": "code",
   "execution_count": null,
   "metadata": {
    "execution": {
     "iopub.status.busy": "2022-05-11T18:11:44.568508Z",
     "iopub.status.idle": "2022-05-11T18:11:44.569161Z",
     "shell.execute_reply": "2022-05-11T18:11:44.568941Z",
     "shell.execute_reply.started": "2022-05-11T18:11:44.568913Z"
    }
   },
   "outputs": [],
   "source": [
    "kmeans_per_k = [KMeans(n_clusters=k, random_state=42).fit(X)\n",
    "                for k in range(1, 10)]\n",
    "inertias = [model.inertia_ for model in kmeans_per_k]"
   ]
  },
  {
   "cell_type": "code",
   "execution_count": null,
   "metadata": {
    "execution": {
     "iopub.status.busy": "2022-05-11T18:11:44.57046Z",
     "iopub.status.idle": "2022-05-11T18:11:44.571074Z",
     "shell.execute_reply": "2022-05-11T18:11:44.570853Z",
     "shell.execute_reply.started": "2022-05-11T18:11:44.570831Z"
    }
   },
   "outputs": [],
   "source": [
    "plt.figure(figsize=(8, 3.5))\n",
    "plt.plot(range(1, 10), inertias, \"bo-\")\n",
    "plt.xlabel(\"$k$\", fontsize=14)\n",
    "plt.ylabel(\"Inertia\", fontsize=14)\n",
    "plt.annotate('Elbow',\n",
    "             xy=(4, inertias[3]),\n",
    "             xytext=(0.55, 0.55),\n",
    "             textcoords='figure fraction',\n",
    "             fontsize=16,\n",
    "             arrowprops=dict(facecolor='black', shrink=0.1)\n",
    "            )\n",
    "plt.axis([1, 8.5, 0, 1300])\n",
    "save_fig(\"inertia_vs_k_plot\")\n",
    "plt.show()"
   ]
  },
  {
   "cell_type": "markdown",
   "metadata": {},
   "source": [
    "As you can see, there is an elbow at $k=4$, which means that less clusters than that would be bad, and more clusters would not help much and might cut clusters in half. So $k=4$ is a pretty good choice. Of course in this example it is not perfect since it means that the two blobs in the lower left will be considered as just a single cluster, but it's a pretty good clustering nonetheless."
   ]
  },
  {
   "cell_type": "code",
   "execution_count": null,
   "metadata": {
    "execution": {
     "iopub.status.busy": "2022-05-11T18:11:44.572236Z",
     "iopub.status.idle": "2022-05-11T18:11:44.572808Z",
     "shell.execute_reply": "2022-05-11T18:11:44.572624Z",
     "shell.execute_reply.started": "2022-05-11T18:11:44.572601Z"
    }
   },
   "outputs": [],
   "source": [
    "plot_decision_boundaries(kmeans_per_k[4-1], X)\n",
    "plt.show()"
   ]
  },
  {
   "cell_type": "markdown",
   "metadata": {},
   "source": [
    "Another approach is to look at the _silhouette score_, which is the mean _silhouette coefficient_ over all the instances. An instance's silhouette coefficient is equal to $(b - a)/\\max(a, b)$ where $a$ is the mean distance to the other instances in the same cluster (it is the _mean intra-cluster distance_), and $b$ is the _mean nearest-cluster distance_, that is the mean distance to the instances of the next closest cluster (defined as the one that minimizes $b$, excluding the instance's own cluster). The silhouette coefficient can vary between -1 and +1: a coefficient close to +1 means that the instance is well inside its own cluster and far from other clusters, while a coefficient close to 0 means that it is close to a cluster boundary, and finally a coefficient close to -1 means that the instance may have been assigned to the wrong cluster."
   ]
  },
  {
   "cell_type": "markdown",
   "metadata": {},
   "source": [
    "Let's plot the silhouette score as a function of $k$:"
   ]
  },
  {
   "cell_type": "code",
   "execution_count": null,
   "metadata": {
    "execution": {
     "iopub.status.busy": "2022-05-11T18:11:44.573902Z",
     "iopub.status.idle": "2022-05-11T18:11:44.574483Z",
     "shell.execute_reply": "2022-05-11T18:11:44.574306Z",
     "shell.execute_reply.started": "2022-05-11T18:11:44.574285Z"
    }
   },
   "outputs": [],
   "source": [
    "from sklearn.metrics import silhouette_score"
   ]
  },
  {
   "cell_type": "code",
   "execution_count": null,
   "metadata": {
    "execution": {
     "iopub.status.busy": "2022-05-11T18:11:44.575561Z",
     "iopub.status.idle": "2022-05-11T18:11:44.576151Z",
     "shell.execute_reply": "2022-05-11T18:11:44.575948Z",
     "shell.execute_reply.started": "2022-05-11T18:11:44.575927Z"
    }
   },
   "outputs": [],
   "source": [
    "silhouette_score(X, kmeans.labels_)"
   ]
  },
  {
   "cell_type": "code",
   "execution_count": null,
   "metadata": {
    "execution": {
     "iopub.status.busy": "2022-05-11T18:11:44.577525Z",
     "iopub.status.idle": "2022-05-11T18:11:44.578249Z",
     "shell.execute_reply": "2022-05-11T18:11:44.577968Z",
     "shell.execute_reply.started": "2022-05-11T18:11:44.577946Z"
    }
   },
   "outputs": [],
   "source": [
    "silhouette_scores = [silhouette_score(X, model.labels_)\n",
    "                     for model in kmeans_per_k[1:]]"
   ]
  },
  {
   "cell_type": "code",
   "execution_count": null,
   "metadata": {
    "execution": {
     "iopub.status.busy": "2022-05-11T18:11:44.579398Z",
     "iopub.status.idle": "2022-05-11T18:11:44.579999Z",
     "shell.execute_reply": "2022-05-11T18:11:44.579821Z",
     "shell.execute_reply.started": "2022-05-11T18:11:44.579799Z"
    }
   },
   "outputs": [],
   "source": [
    "plt.figure(figsize=(8, 3))\n",
    "plt.plot(range(2, 10), silhouette_scores, \"bo-\")\n",
    "plt.xlabel(\"$k$\", fontsize=14)\n",
    "plt.ylabel(\"Silhouette score\", fontsize=14)\n",
    "plt.axis([1.8, 8.5, 0.55, 0.7])\n",
    "save_fig(\"silhouette_score_vs_k_plot\")\n",
    "plt.show()"
   ]
  },
  {
   "cell_type": "markdown",
   "metadata": {},
   "source": [
    "As you can see, this visualization is much richer than the previous one: in particular, although it confirms that $k=4$ is a very good choice, but it also underlines the fact that $k=5$ is quite good as well."
   ]
  },
  {
   "cell_type": "markdown",
   "metadata": {},
   "source": [
    "An even more informative visualization is given when you plot every instance's silhouette coefficient, sorted by the cluster they are assigned to and by the value of the coefficient. This is called a _silhouette diagram_:"
   ]
  },
  {
   "cell_type": "code",
   "execution_count": null,
   "metadata": {
    "execution": {
     "iopub.status.busy": "2022-05-11T18:11:44.581238Z",
     "iopub.status.idle": "2022-05-11T18:11:44.581834Z",
     "shell.execute_reply": "2022-05-11T18:11:44.581657Z",
     "shell.execute_reply.started": "2022-05-11T18:11:44.581636Z"
    }
   },
   "outputs": [],
   "source": [
    "from sklearn.metrics import silhouette_samples\n",
    "from matplotlib.ticker import FixedLocator, FixedFormatter\n",
    "\n",
    "plt.figure(figsize=(11, 9))\n",
    "\n",
    "for k in (3, 4, 5, 6):\n",
    "    plt.subplot(2, 2, k - 2)\n",
    "    \n",
    "    y_pred = kmeans_per_k[k - 1].labels_\n",
    "    silhouette_coefficients = silhouette_samples(X, y_pred)\n",
    "\n",
    "    padding = len(X) // 30\n",
    "    pos = padding\n",
    "    ticks = []\n",
    "    for i in range(k):\n",
    "        coeffs = silhouette_coefficients[y_pred == i]\n",
    "        coeffs.sort()\n",
    "\n",
    "        color = mpl.cm.Spectral(i / k)\n",
    "        plt.fill_betweenx(np.arange(pos, pos + len(coeffs)), 0, coeffs,\n",
    "                          facecolor=color, edgecolor=color, alpha=0.7)\n",
    "        ticks.append(pos + len(coeffs) // 2)\n",
    "        pos += len(coeffs) + padding\n",
    "\n",
    "    plt.gca().yaxis.set_major_locator(FixedLocator(ticks))\n",
    "    plt.gca().yaxis.set_major_formatter(FixedFormatter(range(k)))\n",
    "    if k in (3, 5):\n",
    "        plt.ylabel(\"Cluster\")\n",
    "    \n",
    "    if k in (5, 6):\n",
    "        plt.gca().set_xticks([-0.1, 0, 0.2, 0.4, 0.6, 0.8, 1])\n",
    "        plt.xlabel(\"Silhouette Coefficient\")\n",
    "    else:\n",
    "        plt.tick_params(labelbottom=False)\n",
    "\n",
    "    plt.axvline(x=silhouette_scores[k - 2], color=\"red\", linestyle=\"--\")\n",
    "    plt.title(\"$k={}$\".format(k), fontsize=16)\n",
    "\n",
    "save_fig(\"silhouette_analysis_plot\")\n",
    "plt.show()"
   ]
  },
  {
   "cell_type": "markdown",
   "metadata": {},
   "source": [
    "As you can see, $k=5$ looks like the best option here, as all clusters are roughly the same size, and they all cross the dashed line, which represents the mean silhouette score."
   ]
  },
  {
   "cell_type": "markdown",
   "metadata": {},
   "source": [
    "## Limits of K-Means"
   ]
  },
  {
   "cell_type": "code",
   "execution_count": null,
   "metadata": {
    "execution": {
     "iopub.status.busy": "2022-05-11T18:11:44.582924Z",
     "iopub.status.idle": "2022-05-11T18:11:44.583544Z",
     "shell.execute_reply": "2022-05-11T18:11:44.583367Z",
     "shell.execute_reply.started": "2022-05-11T18:11:44.583345Z"
    }
   },
   "outputs": [],
   "source": [
    "X1, y1 = make_blobs(n_samples=1000, centers=((4, -4), (0, 0)), random_state=42)\n",
    "X1 = X1.dot(np.array([[0.374, 0.95], [0.732, 0.598]]))\n",
    "X2, y2 = make_blobs(n_samples=250, centers=1, random_state=42)\n",
    "X2 = X2 + [6, -8]\n",
    "X = np.r_[X1, X2]\n",
    "y = np.r_[y1, y2]"
   ]
  },
  {
   "cell_type": "code",
   "execution_count": null,
   "metadata": {
    "execution": {
     "iopub.status.busy": "2022-05-11T18:11:44.58467Z",
     "iopub.status.idle": "2022-05-11T18:11:44.58532Z",
     "shell.execute_reply": "2022-05-11T18:11:44.58513Z",
     "shell.execute_reply.started": "2022-05-11T18:11:44.585096Z"
    }
   },
   "outputs": [],
   "source": [
    "plot_clusters(X)"
   ]
  },
  {
   "cell_type": "code",
   "execution_count": null,
   "metadata": {
    "execution": {
     "iopub.status.busy": "2022-05-11T18:11:44.586824Z",
     "iopub.status.idle": "2022-05-11T18:11:44.58774Z",
     "shell.execute_reply": "2022-05-11T18:11:44.587427Z",
     "shell.execute_reply.started": "2022-05-11T18:11:44.587404Z"
    }
   },
   "outputs": [],
   "source": [
    "kmeans_good = KMeans(n_clusters=3, init=np.array([[-1.5, 2.5], [0.5, 0], [4, 0]]), n_init=1, random_state=42)\n",
    "kmeans_bad = KMeans(n_clusters=3, random_state=42)\n",
    "kmeans_good.fit(X)\n",
    "kmeans_bad.fit(X)"
   ]
  },
  {
   "cell_type": "code",
   "execution_count": null,
   "metadata": {
    "execution": {
     "iopub.status.busy": "2022-05-11T18:11:44.589562Z",
     "iopub.status.idle": "2022-05-11T18:11:44.590142Z",
     "shell.execute_reply": "2022-05-11T18:11:44.589936Z",
     "shell.execute_reply.started": "2022-05-11T18:11:44.589915Z"
    }
   },
   "outputs": [],
   "source": [
    "plt.figure(figsize=(10, 3.2))\n",
    "\n",
    "plt.subplot(121)\n",
    "plot_decision_boundaries(kmeans_good, X)\n",
    "plt.title(\"Inertia = {:.1f}\".format(kmeans_good.inertia_), fontsize=14)\n",
    "\n",
    "plt.subplot(122)\n",
    "plot_decision_boundaries(kmeans_bad, X, show_ylabels=False)\n",
    "plt.title(\"Inertia = {:.1f}\".format(kmeans_bad.inertia_), fontsize=14)\n",
    "\n",
    "save_fig(\"bad_kmeans_plot\")\n",
    "plt.show()"
   ]
  },
  {
   "cell_type": "markdown",
   "metadata": {},
   "source": [
    "## Using Clustering for Image Segmentation"
   ]
  },
  {
   "cell_type": "code",
   "execution_count": null,
   "metadata": {
    "execution": {
     "iopub.status.busy": "2022-05-11T18:11:44.591363Z",
     "iopub.status.idle": "2022-05-11T18:11:44.592012Z",
     "shell.execute_reply": "2022-05-11T18:11:44.591814Z",
     "shell.execute_reply.started": "2022-05-11T18:11:44.591789Z"
    }
   },
   "outputs": [],
   "source": [
    "# Download the ladybug image\n",
    "images_path = os.path.join(PROJECT_ROOT_DIR, \"images\", \"unsupervised_learning\")\n",
    "os.makedirs(images_path, exist_ok=True)\n",
    "DOWNLOAD_ROOT = \"https://raw.githubusercontent.com/ageron/handson-ml2/master/\"\n",
    "filename = \"ladybug.png\"\n",
    "print(\"Downloading\", filename)\n",
    "url = DOWNLOAD_ROOT + \"images/unsupervised_learning/\" + filename\n",
    "urllib.request.urlretrieve(url, os.path.join(images_path, filename))"
   ]
  },
  {
   "cell_type": "code",
   "execution_count": null,
   "metadata": {
    "execution": {
     "iopub.status.busy": "2022-05-11T18:11:44.59315Z",
     "iopub.status.idle": "2022-05-11T18:11:44.59371Z",
     "shell.execute_reply": "2022-05-11T18:11:44.593531Z",
     "shell.execute_reply.started": "2022-05-11T18:11:44.59351Z"
    }
   },
   "outputs": [],
   "source": [
    "from matplotlib.image import imread\n",
    "image = imread(os.path.join(images_path, filename))\n",
    "image.shape"
   ]
  },
  {
   "cell_type": "code",
   "execution_count": null,
   "metadata": {
    "execution": {
     "iopub.status.busy": "2022-05-11T18:11:44.594988Z",
     "iopub.status.idle": "2022-05-11T18:11:44.595567Z",
     "shell.execute_reply": "2022-05-11T18:11:44.595394Z",
     "shell.execute_reply.started": "2022-05-11T18:11:44.595373Z"
    }
   },
   "outputs": [],
   "source": [
    "X = image.reshape(-1, 3)\n",
    "kmeans = KMeans(n_clusters=8, random_state=42).fit(X)\n",
    "segmented_img = kmeans.cluster_centers_[kmeans.labels_]\n",
    "segmented_img = segmented_img.reshape(image.shape)"
   ]
  },
  {
   "cell_type": "code",
   "execution_count": null,
   "metadata": {
    "execution": {
     "iopub.status.busy": "2022-05-11T18:11:44.596684Z",
     "iopub.status.idle": "2022-05-11T18:11:44.597254Z",
     "shell.execute_reply": "2022-05-11T18:11:44.597067Z",
     "shell.execute_reply.started": "2022-05-11T18:11:44.597045Z"
    }
   },
   "outputs": [],
   "source": [
    "segmented_imgs = []\n",
    "n_colors = (10, 8, 6, 4, 2)\n",
    "for n_clusters in n_colors:\n",
    "    kmeans = KMeans(n_clusters=n_clusters, random_state=42).fit(X)\n",
    "    segmented_img = kmeans.cluster_centers_[kmeans.labels_]\n",
    "    segmented_imgs.append(segmented_img.reshape(image.shape))"
   ]
  },
  {
   "cell_type": "code",
   "execution_count": null,
   "metadata": {
    "execution": {
     "iopub.status.busy": "2022-05-11T18:11:44.598366Z",
     "iopub.status.idle": "2022-05-11T18:11:44.598914Z",
     "shell.execute_reply": "2022-05-11T18:11:44.598738Z",
     "shell.execute_reply.started": "2022-05-11T18:11:44.598716Z"
    }
   },
   "outputs": [],
   "source": [
    "plt.figure(figsize=(10,5))\n",
    "plt.subplots_adjust(wspace=0.05, hspace=0.1)\n",
    "\n",
    "plt.subplot(231)\n",
    "plt.imshow(image)\n",
    "plt.title(\"Original image\")\n",
    "plt.axis('off')\n",
    "\n",
    "for idx, n_clusters in enumerate(n_colors):\n",
    "    plt.subplot(232 + idx)\n",
    "    plt.imshow(segmented_imgs[idx])\n",
    "    plt.title(\"{} colors\".format(n_clusters))\n",
    "    plt.axis('off')\n",
    "\n",
    "save_fig('image_segmentation_diagram', tight_layout=False)\n",
    "plt.show()"
   ]
  },
  {
   "cell_type": "markdown",
   "metadata": {},
   "source": [
    "## Using Clustering for Preprocessing"
   ]
  },
  {
   "cell_type": "markdown",
   "metadata": {},
   "source": [
    "Let's tackle the _digits dataset_ which is a simple MNIST-like dataset containing 1,797 grayscale 8×8 images representing digits 0 to 9."
   ]
  },
  {
   "cell_type": "code",
   "execution_count": null,
   "metadata": {
    "execution": {
     "iopub.status.busy": "2022-05-11T18:11:44.599975Z",
     "iopub.status.idle": "2022-05-11T18:11:44.600558Z",
     "shell.execute_reply": "2022-05-11T18:11:44.600381Z",
     "shell.execute_reply.started": "2022-05-11T18:11:44.60036Z"
    }
   },
   "outputs": [],
   "source": [
    "from sklearn.datasets import load_digits"
   ]
  },
  {
   "cell_type": "code",
   "execution_count": null,
   "metadata": {
    "execution": {
     "iopub.status.busy": "2022-05-11T18:11:44.6017Z",
     "iopub.status.idle": "2022-05-11T18:11:44.602277Z",
     "shell.execute_reply": "2022-05-11T18:11:44.602095Z",
     "shell.execute_reply.started": "2022-05-11T18:11:44.602074Z"
    }
   },
   "outputs": [],
   "source": [
    "X_digits, y_digits = load_digits(return_X_y=True)"
   ]
  },
  {
   "cell_type": "markdown",
   "metadata": {},
   "source": [
    "Let's split it into a training set and a test set:"
   ]
  },
  {
   "cell_type": "code",
   "execution_count": null,
   "metadata": {
    "execution": {
     "iopub.status.busy": "2022-05-11T18:11:44.603364Z",
     "iopub.status.idle": "2022-05-11T18:11:44.603919Z",
     "shell.execute_reply": "2022-05-11T18:11:44.603744Z",
     "shell.execute_reply.started": "2022-05-11T18:11:44.603723Z"
    }
   },
   "outputs": [],
   "source": [
    "from sklearn.model_selection import train_test_split"
   ]
  },
  {
   "cell_type": "code",
   "execution_count": null,
   "metadata": {
    "execution": {
     "iopub.status.busy": "2022-05-11T18:11:44.604968Z",
     "iopub.status.idle": "2022-05-11T18:11:44.605548Z",
     "shell.execute_reply": "2022-05-11T18:11:44.605371Z",
     "shell.execute_reply.started": "2022-05-11T18:11:44.60535Z"
    }
   },
   "outputs": [],
   "source": [
    "X_train, X_test, y_train, y_test = train_test_split(X_digits, y_digits, random_state=42)"
   ]
  },
  {
   "cell_type": "markdown",
   "metadata": {},
   "source": [
    "Now let's fit a Logistic Regression model and evaluate it on the test set:"
   ]
  },
  {
   "cell_type": "code",
   "execution_count": null,
   "metadata": {
    "execution": {
     "iopub.status.busy": "2022-05-11T18:11:44.606656Z",
     "iopub.status.idle": "2022-05-11T18:11:44.607258Z",
     "shell.execute_reply": "2022-05-11T18:11:44.607075Z",
     "shell.execute_reply.started": "2022-05-11T18:11:44.607052Z"
    }
   },
   "outputs": [],
   "source": [
    "from sklearn.linear_model import LogisticRegression"
   ]
  },
  {
   "cell_type": "code",
   "execution_count": null,
   "metadata": {
    "execution": {
     "iopub.status.busy": "2022-05-11T18:11:44.608311Z",
     "iopub.status.idle": "2022-05-11T18:11:44.608854Z",
     "shell.execute_reply": "2022-05-11T18:11:44.608682Z",
     "shell.execute_reply.started": "2022-05-11T18:11:44.60866Z"
    }
   },
   "outputs": [],
   "source": [
    "log_reg = LogisticRegression(multi_class=\"ovr\", solver=\"lbfgs\", max_iter=5000, random_state=42)\n",
    "log_reg.fit(X_train, y_train)"
   ]
  },
  {
   "cell_type": "code",
   "execution_count": null,
   "metadata": {
    "execution": {
     "iopub.status.busy": "2022-05-11T18:11:44.609942Z",
     "iopub.status.idle": "2022-05-11T18:11:44.610531Z",
     "shell.execute_reply": "2022-05-11T18:11:44.610354Z",
     "shell.execute_reply.started": "2022-05-11T18:11:44.610332Z"
    }
   },
   "outputs": [],
   "source": [
    "log_reg_score = log_reg.score(X_test, y_test)\n",
    "log_reg_score"
   ]
  },
  {
   "cell_type": "markdown",
   "metadata": {},
   "source": [
    "Okay, that's our baseline: 96.89% accuracy. Let's see if we can do better by using K-Means as a preprocessing step. We will create a pipeline that will first cluster the training set into 50 clusters and replace the images with their distances to the 50 clusters, then apply a logistic regression model:"
   ]
  },
  {
   "cell_type": "code",
   "execution_count": null,
   "metadata": {
    "execution": {
     "iopub.status.busy": "2022-05-11T18:11:44.611632Z",
     "iopub.status.idle": "2022-05-11T18:11:44.612224Z",
     "shell.execute_reply": "2022-05-11T18:11:44.612007Z",
     "shell.execute_reply.started": "2022-05-11T18:11:44.611986Z"
    }
   },
   "outputs": [],
   "source": [
    "from sklearn.pipeline import Pipeline"
   ]
  },
  {
   "cell_type": "code",
   "execution_count": null,
   "metadata": {
    "execution": {
     "iopub.status.busy": "2022-05-11T18:11:44.61334Z",
     "iopub.status.idle": "2022-05-11T18:11:44.613887Z",
     "shell.execute_reply": "2022-05-11T18:11:44.613711Z",
     "shell.execute_reply.started": "2022-05-11T18:11:44.61369Z"
    }
   },
   "outputs": [],
   "source": [
    "pipeline = Pipeline([\n",
    "    (\"kmeans\", KMeans(n_clusters=50, random_state=42)),\n",
    "    (\"log_reg\", LogisticRegression(multi_class=\"ovr\", solver=\"lbfgs\", max_iter=5000, random_state=42)),\n",
    "])\n",
    "pipeline.fit(X_train, y_train)"
   ]
  },
  {
   "cell_type": "code",
   "execution_count": null,
   "metadata": {
    "execution": {
     "iopub.status.busy": "2022-05-11T18:11:44.615125Z",
     "iopub.status.idle": "2022-05-11T18:11:44.615704Z",
     "shell.execute_reply": "2022-05-11T18:11:44.615527Z",
     "shell.execute_reply.started": "2022-05-11T18:11:44.615506Z"
    }
   },
   "outputs": [],
   "source": [
    "pipeline_score = pipeline.score(X_test, y_test)\n",
    "pipeline_score"
   ]
  },
  {
   "cell_type": "markdown",
   "metadata": {},
   "source": [
    "How much did the error rate drop?"
   ]
  },
  {
   "cell_type": "code",
   "execution_count": null,
   "metadata": {
    "execution": {
     "iopub.status.busy": "2022-05-11T18:11:44.616825Z",
     "iopub.status.idle": "2022-05-11T18:11:44.620204Z",
     "shell.execute_reply": "2022-05-11T18:11:44.619903Z",
     "shell.execute_reply.started": "2022-05-11T18:11:44.61987Z"
    }
   },
   "outputs": [],
   "source": [
    "1 - (1 - pipeline_score) / (1 - log_reg_score)"
   ]
  },
  {
   "cell_type": "markdown",
   "metadata": {},
   "source": [
    "How about that? We reduced the error rate by over 35%! But we chose the number of clusters $k$ completely arbitrarily, we can surely do better. Since K-Means is just a preprocessing step in a classification pipeline, finding a good value for $k$ is much simpler than earlier: there's no need to perform silhouette analysis or minimize the inertia, the best value of $k$ is simply the one that results in the best classification performance."
   ]
  },
  {
   "cell_type": "code",
   "execution_count": null,
   "metadata": {
    "execution": {
     "iopub.status.busy": "2022-05-11T18:11:44.622972Z",
     "iopub.status.idle": "2022-05-11T18:11:44.623593Z",
     "shell.execute_reply": "2022-05-11T18:11:44.623411Z",
     "shell.execute_reply.started": "2022-05-11T18:11:44.623388Z"
    }
   },
   "outputs": [],
   "source": [
    "from sklearn.model_selection import GridSearchCV"
   ]
  },
  {
   "cell_type": "markdown",
   "metadata": {},
   "source": [
    "**Warning**: the following cell may take close to 20 minutes to run, or more depending on your hardware."
   ]
  },
  {
   "cell_type": "code",
   "execution_count": null,
   "metadata": {
    "execution": {
     "iopub.status.busy": "2022-05-11T18:11:44.624878Z",
     "iopub.status.idle": "2022-05-11T18:11:44.625995Z",
     "shell.execute_reply": "2022-05-11T18:11:44.625784Z",
     "shell.execute_reply.started": "2022-05-11T18:11:44.625757Z"
    }
   },
   "outputs": [],
   "source": [
    "param_grid = dict(kmeans__n_clusters=range(2, 100))\n",
    "grid_clf = GridSearchCV(pipeline, param_grid, cv=3, verbose=2)\n",
    "grid_clf.fit(X_train, y_train)"
   ]
  },
  {
   "cell_type": "markdown",
   "metadata": {},
   "source": [
    "Let's see what the best number of clusters is:"
   ]
  },
  {
   "cell_type": "code",
   "execution_count": null,
   "metadata": {
    "execution": {
     "iopub.status.busy": "2022-05-11T18:11:44.628085Z",
     "iopub.status.idle": "2022-05-11T18:11:44.630333Z",
     "shell.execute_reply": "2022-05-11T18:11:44.629565Z",
     "shell.execute_reply.started": "2022-05-11T18:11:44.629512Z"
    }
   },
   "outputs": [],
   "source": [
    "grid_clf.best_params_"
   ]
  },
  {
   "cell_type": "code",
   "execution_count": null,
   "metadata": {
    "execution": {
     "iopub.status.busy": "2022-05-11T18:11:44.631555Z",
     "iopub.status.idle": "2022-05-11T18:11:44.632126Z",
     "shell.execute_reply": "2022-05-11T18:11:44.631914Z",
     "shell.execute_reply.started": "2022-05-11T18:11:44.631891Z"
    }
   },
   "outputs": [],
   "source": [
    "grid_clf.score(X_test, y_test)"
   ]
  },
  {
   "cell_type": "markdown",
   "metadata": {},
   "source": [
    "## Using Clustering for Semi-Supervised Learning"
   ]
  },
  {
   "cell_type": "markdown",
   "metadata": {},
   "source": [
    "Another use case for clustering is in semi-supervised learning, when we have plenty of unlabeled instances and very few labeled instances."
   ]
  },
  {
   "cell_type": "markdown",
   "metadata": {},
   "source": [
    "Let's look at the performance of a logistic regression model when we only have 50 labeled instances:"
   ]
  },
  {
   "cell_type": "code",
   "execution_count": null,
   "metadata": {
    "execution": {
     "iopub.status.busy": "2022-05-11T18:11:44.633216Z",
     "iopub.status.idle": "2022-05-11T18:11:44.633745Z",
     "shell.execute_reply": "2022-05-11T18:11:44.633569Z",
     "shell.execute_reply.started": "2022-05-11T18:11:44.633548Z"
    }
   },
   "outputs": [],
   "source": [
    "n_labeled = 50"
   ]
  },
  {
   "cell_type": "code",
   "execution_count": null,
   "metadata": {
    "execution": {
     "iopub.status.busy": "2022-05-11T18:11:44.634836Z",
     "iopub.status.idle": "2022-05-11T18:11:44.6354Z",
     "shell.execute_reply": "2022-05-11T18:11:44.635224Z",
     "shell.execute_reply.started": "2022-05-11T18:11:44.635201Z"
    }
   },
   "outputs": [],
   "source": [
    "log_reg = LogisticRegression(multi_class=\"ovr\", solver=\"lbfgs\", random_state=42)\n",
    "log_reg.fit(X_train[:n_labeled], y_train[:n_labeled])\n",
    "log_reg.score(X_test, y_test)"
   ]
  },
  {
   "cell_type": "markdown",
   "metadata": {},
   "source": [
    "It's much less than earlier of course. Let's see how we can do better. First, let's cluster the training set into 50 clusters, then for each cluster let's find the image closest to the centroid. We will call these images the representative images:"
   ]
  },
  {
   "cell_type": "code",
   "execution_count": null,
   "metadata": {
    "execution": {
     "iopub.status.busy": "2022-05-11T18:11:44.636469Z",
     "iopub.status.idle": "2022-05-11T18:11:44.637047Z",
     "shell.execute_reply": "2022-05-11T18:11:44.636845Z",
     "shell.execute_reply.started": "2022-05-11T18:11:44.636823Z"
    }
   },
   "outputs": [],
   "source": [
    "k = 50"
   ]
  },
  {
   "cell_type": "code",
   "execution_count": null,
   "metadata": {
    "execution": {
     "iopub.status.busy": "2022-05-11T18:11:44.638124Z",
     "iopub.status.idle": "2022-05-11T18:11:44.638649Z",
     "shell.execute_reply": "2022-05-11T18:11:44.638476Z",
     "shell.execute_reply.started": "2022-05-11T18:11:44.638455Z"
    }
   },
   "outputs": [],
   "source": [
    "kmeans = KMeans(n_clusters=k, random_state=42)\n",
    "X_digits_dist = kmeans.fit_transform(X_train)\n",
    "representative_digit_idx = np.argmin(X_digits_dist, axis=0)\n",
    "X_representative_digits = X_train[representative_digit_idx]"
   ]
  },
  {
   "cell_type": "markdown",
   "metadata": {},
   "source": [
    "Now let's plot these representative images and label them manually:"
   ]
  },
  {
   "cell_type": "code",
   "execution_count": null,
   "metadata": {
    "execution": {
     "iopub.status.busy": "2022-05-11T18:11:44.639722Z",
     "iopub.status.idle": "2022-05-11T18:11:44.640302Z",
     "shell.execute_reply": "2022-05-11T18:11:44.64012Z",
     "shell.execute_reply.started": "2022-05-11T18:11:44.64009Z"
    }
   },
   "outputs": [],
   "source": [
    "plt.figure(figsize=(8, 2))\n",
    "for index, X_representative_digit in enumerate(X_representative_digits):\n",
    "    plt.subplot(k // 10, 10, index + 1)\n",
    "    plt.imshow(X_representative_digit.reshape(8, 8), cmap=\"binary\", interpolation=\"bilinear\")\n",
    "    plt.axis('off')\n",
    "\n",
    "save_fig(\"representative_images_diagram\", tight_layout=False)\n",
    "plt.show()"
   ]
  },
  {
   "cell_type": "code",
   "execution_count": null,
   "metadata": {
    "execution": {
     "iopub.status.busy": "2022-05-11T18:11:44.641411Z",
     "iopub.status.idle": "2022-05-11T18:11:44.641968Z",
     "shell.execute_reply": "2022-05-11T18:11:44.641794Z",
     "shell.execute_reply.started": "2022-05-11T18:11:44.641773Z"
    }
   },
   "outputs": [],
   "source": [
    "y_train[representative_digit_idx]"
   ]
  },
  {
   "cell_type": "code",
   "execution_count": null,
   "metadata": {
    "execution": {
     "iopub.status.busy": "2022-05-11T18:11:44.643042Z",
     "iopub.status.idle": "2022-05-11T18:11:44.643597Z",
     "shell.execute_reply": "2022-05-11T18:11:44.643421Z",
     "shell.execute_reply.started": "2022-05-11T18:11:44.6434Z"
    }
   },
   "outputs": [],
   "source": [
    "y_representative_digits = np.array([\n",
    "    0, 1, 3, 2, 7, 6, 4, 6, 9, 5,\n",
    "    1, 2, 9, 5, 2, 7, 8, 1, 8, 6,\n",
    "    3, 2, 5, 4, 5, 4, 0, 3, 2, 6,\n",
    "    1, 7, 7, 9, 1, 8, 6, 5, 4, 8,\n",
    "    5, 3, 3, 6, 7, 9, 7, 8, 4, 9])"
   ]
  },
  {
   "cell_type": "markdown",
   "metadata": {},
   "source": [
    "Now we have a dataset with just 50 labeled instances, but instead of being completely random instances, each of them is a representative image of its cluster. Let's see if the performance is any better:"
   ]
  },
  {
   "cell_type": "code",
   "execution_count": null,
   "metadata": {
    "execution": {
     "iopub.status.busy": "2022-05-11T18:11:44.644689Z",
     "iopub.status.idle": "2022-05-11T18:11:44.645269Z",
     "shell.execute_reply": "2022-05-11T18:11:44.64508Z",
     "shell.execute_reply.started": "2022-05-11T18:11:44.645058Z"
    }
   },
   "outputs": [],
   "source": [
    "log_reg = LogisticRegression(multi_class=\"ovr\", solver=\"lbfgs\", max_iter=5000, random_state=42)\n",
    "log_reg.fit(X_representative_digits, y_representative_digits)\n",
    "log_reg.score(X_test, y_test)"
   ]
  },
  {
   "cell_type": "markdown",
   "metadata": {},
   "source": [
    "Wow! We jumped from 83.3% accuracy to 91.3%, although we are still only training the model on 50 instances. Since it's often costly and painful to label instances, especially when it has to be done manually by experts, it's a good idea to make them label representative instances rather than just random instances."
   ]
  },
  {
   "cell_type": "markdown",
   "metadata": {},
   "source": [
    "But perhaps we can go one step further: what if we propagated the labels to all the other instances in the same cluster?"
   ]
  },
  {
   "cell_type": "code",
   "execution_count": null,
   "metadata": {
    "execution": {
     "iopub.status.busy": "2022-05-11T18:11:44.64633Z",
     "iopub.status.idle": "2022-05-11T18:11:44.646882Z",
     "shell.execute_reply": "2022-05-11T18:11:44.646705Z",
     "shell.execute_reply.started": "2022-05-11T18:11:44.646684Z"
    }
   },
   "outputs": [],
   "source": [
    "y_train_propagated = np.empty(len(X_train), dtype=np.int32)\n",
    "for i in range(k):\n",
    "    y_train_propagated[kmeans.labels_==i] = y_representative_digits[i]"
   ]
  },
  {
   "cell_type": "code",
   "execution_count": null,
   "metadata": {
    "execution": {
     "iopub.status.busy": "2022-05-11T18:11:44.647946Z",
     "iopub.status.idle": "2022-05-11T18:11:44.648523Z",
     "shell.execute_reply": "2022-05-11T18:11:44.648348Z",
     "shell.execute_reply.started": "2022-05-11T18:11:44.648327Z"
    }
   },
   "outputs": [],
   "source": [
    "log_reg = LogisticRegression(multi_class=\"ovr\", solver=\"lbfgs\", max_iter=5000, random_state=42)\n",
    "log_reg.fit(X_train, y_train_propagated)"
   ]
  },
  {
   "cell_type": "code",
   "execution_count": null,
   "metadata": {
    "execution": {
     "iopub.status.busy": "2022-05-11T18:11:44.64958Z",
     "iopub.status.idle": "2022-05-11T18:11:44.650153Z",
     "shell.execute_reply": "2022-05-11T18:11:44.649952Z",
     "shell.execute_reply.started": "2022-05-11T18:11:44.64993Z"
    }
   },
   "outputs": [],
   "source": [
    "log_reg.score(X_test, y_test)"
   ]
  },
  {
   "cell_type": "markdown",
   "metadata": {},
   "source": [
    "We got a tiny little accuracy boost. Better than nothing, but we should probably have propagated the labels only to the instances closest to the centroid, because by propagating to the full cluster, we have certainly included some outliers. Let's only propagate the labels to the 75th percentile closest to the centroid:"
   ]
  },
  {
   "cell_type": "code",
   "execution_count": null,
   "metadata": {
    "execution": {
     "iopub.status.busy": "2022-05-11T18:11:44.651226Z",
     "iopub.status.idle": "2022-05-11T18:11:44.651779Z",
     "shell.execute_reply": "2022-05-11T18:11:44.651602Z",
     "shell.execute_reply.started": "2022-05-11T18:11:44.651581Z"
    }
   },
   "outputs": [],
   "source": [
    "percentile_closest = 75\n",
    "\n",
    "X_cluster_dist = X_digits_dist[np.arange(len(X_train)), kmeans.labels_]\n",
    "for i in range(k):\n",
    "    in_cluster = (kmeans.labels_ == i)\n",
    "    cluster_dist = X_cluster_dist[in_cluster]\n",
    "    cutoff_distance = np.percentile(cluster_dist, percentile_closest)\n",
    "    above_cutoff = (X_cluster_dist > cutoff_distance)\n",
    "    X_cluster_dist[in_cluster & above_cutoff] = -1"
   ]
  },
  {
   "cell_type": "code",
   "execution_count": null,
   "metadata": {
    "execution": {
     "iopub.status.busy": "2022-05-11T18:11:44.652838Z",
     "iopub.status.idle": "2022-05-11T18:11:44.653412Z",
     "shell.execute_reply": "2022-05-11T18:11:44.653234Z",
     "shell.execute_reply.started": "2022-05-11T18:11:44.653213Z"
    }
   },
   "outputs": [],
   "source": [
    "partially_propagated = (X_cluster_dist != -1)\n",
    "X_train_partially_propagated = X_train[partially_propagated]\n",
    "y_train_partially_propagated = y_train_propagated[partially_propagated]"
   ]
  },
  {
   "cell_type": "code",
   "execution_count": null,
   "metadata": {
    "execution": {
     "iopub.status.busy": "2022-05-11T18:11:44.65448Z",
     "iopub.status.idle": "2022-05-11T18:11:44.655044Z",
     "shell.execute_reply": "2022-05-11T18:11:44.654857Z",
     "shell.execute_reply.started": "2022-05-11T18:11:44.654833Z"
    }
   },
   "outputs": [],
   "source": [
    "log_reg = LogisticRegression(multi_class=\"ovr\", solver=\"lbfgs\", max_iter=5000, random_state=42)\n",
    "log_reg.fit(X_train_partially_propagated, y_train_partially_propagated)"
   ]
  },
  {
   "cell_type": "code",
   "execution_count": null,
   "metadata": {
    "execution": {
     "iopub.status.busy": "2022-05-11T18:11:44.656092Z",
     "iopub.status.idle": "2022-05-11T18:11:44.656638Z",
     "shell.execute_reply": "2022-05-11T18:11:44.656469Z",
     "shell.execute_reply.started": "2022-05-11T18:11:44.656448Z"
    }
   },
   "outputs": [],
   "source": [
    "log_reg.score(X_test, y_test)"
   ]
  },
  {
   "cell_type": "markdown",
   "metadata": {},
   "source": [
    "A bit better. With just 50 labeled instances (just 5 examples per class on average!), we got 92.7% performance, which is getting closer to the performance of logistic regression on the fully labeled _digits_ dataset (which was 96.9%)."
   ]
  },
  {
   "cell_type": "markdown",
   "metadata": {},
   "source": [
    "This is because the propagated labels are actually pretty good: their accuracy is close to 96%:"
   ]
  },
  {
   "cell_type": "code",
   "execution_count": null,
   "metadata": {
    "execution": {
     "iopub.status.busy": "2022-05-11T18:11:44.657697Z",
     "iopub.status.idle": "2022-05-11T18:11:44.658271Z",
     "shell.execute_reply": "2022-05-11T18:11:44.658082Z",
     "shell.execute_reply.started": "2022-05-11T18:11:44.658059Z"
    }
   },
   "outputs": [],
   "source": [
    "np.mean(y_train_partially_propagated == y_train[partially_propagated])"
   ]
  },
  {
   "cell_type": "markdown",
   "metadata": {},
   "source": [
    "You could now do a few iterations of *active learning*:\n",
    "1. Manually label the instances that the classifier is least sure about, if possible by picking them in distinct clusters.\n",
    "2. Train a new model with these additional labels."
   ]
  },
  {
   "cell_type": "markdown",
   "metadata": {},
   "source": [
    "## DBSCAN"
   ]
  },
  {
   "cell_type": "code",
   "execution_count": null,
   "metadata": {
    "execution": {
     "iopub.status.busy": "2022-05-11T18:11:44.659332Z",
     "iopub.status.idle": "2022-05-11T18:11:44.659875Z",
     "shell.execute_reply": "2022-05-11T18:11:44.659699Z",
     "shell.execute_reply.started": "2022-05-11T18:11:44.659677Z"
    }
   },
   "outputs": [],
   "source": [
    "from sklearn.datasets import make_moons"
   ]
  },
  {
   "cell_type": "code",
   "execution_count": null,
   "metadata": {
    "execution": {
     "iopub.status.busy": "2022-05-11T18:11:44.660951Z",
     "iopub.status.idle": "2022-05-11T18:11:44.661528Z",
     "shell.execute_reply": "2022-05-11T18:11:44.661333Z",
     "shell.execute_reply.started": "2022-05-11T18:11:44.661312Z"
    }
   },
   "outputs": [],
   "source": [
    "X, y = make_moons(n_samples=1000, noise=0.05, random_state=42)"
   ]
  },
  {
   "cell_type": "code",
   "execution_count": null,
   "metadata": {
    "execution": {
     "iopub.status.busy": "2022-05-11T18:11:44.66258Z",
     "iopub.status.idle": "2022-05-11T18:11:44.663137Z",
     "shell.execute_reply": "2022-05-11T18:11:44.662938Z",
     "shell.execute_reply.started": "2022-05-11T18:11:44.662917Z"
    }
   },
   "outputs": [],
   "source": [
    "from sklearn.cluster import DBSCAN"
   ]
  },
  {
   "cell_type": "code",
   "execution_count": null,
   "metadata": {
    "execution": {
     "iopub.status.busy": "2022-05-11T18:11:44.664228Z",
     "iopub.status.idle": "2022-05-11T18:11:44.664775Z",
     "shell.execute_reply": "2022-05-11T18:11:44.664594Z",
     "shell.execute_reply.started": "2022-05-11T18:11:44.664573Z"
    }
   },
   "outputs": [],
   "source": [
    "dbscan = DBSCAN(eps=0.05, min_samples=5)\n",
    "dbscan.fit(X)"
   ]
  },
  {
   "cell_type": "code",
   "execution_count": null,
   "metadata": {
    "execution": {
     "iopub.status.busy": "2022-05-11T18:11:44.665819Z",
     "iopub.status.idle": "2022-05-11T18:11:44.666422Z",
     "shell.execute_reply": "2022-05-11T18:11:44.666219Z",
     "shell.execute_reply.started": "2022-05-11T18:11:44.666197Z"
    }
   },
   "outputs": [],
   "source": [
    "dbscan.labels_[:10]"
   ]
  },
  {
   "cell_type": "code",
   "execution_count": null,
   "metadata": {
    "execution": {
     "iopub.status.busy": "2022-05-11T18:11:44.667535Z",
     "iopub.status.idle": "2022-05-11T18:11:44.668106Z",
     "shell.execute_reply": "2022-05-11T18:11:44.667911Z",
     "shell.execute_reply.started": "2022-05-11T18:11:44.66789Z"
    }
   },
   "outputs": [],
   "source": [
    "len(dbscan.core_sample_indices_)"
   ]
  },
  {
   "cell_type": "code",
   "execution_count": null,
   "metadata": {
    "execution": {
     "iopub.status.busy": "2022-05-11T18:11:44.669164Z",
     "iopub.status.idle": "2022-05-11T18:11:44.66973Z",
     "shell.execute_reply": "2022-05-11T18:11:44.669534Z",
     "shell.execute_reply.started": "2022-05-11T18:11:44.669514Z"
    }
   },
   "outputs": [],
   "source": [
    "dbscan.core_sample_indices_[:10]"
   ]
  },
  {
   "cell_type": "code",
   "execution_count": null,
   "metadata": {
    "execution": {
     "iopub.status.busy": "2022-05-11T18:11:44.670802Z",
     "iopub.status.idle": "2022-05-11T18:11:44.671381Z",
     "shell.execute_reply": "2022-05-11T18:11:44.671202Z",
     "shell.execute_reply.started": "2022-05-11T18:11:44.67118Z"
    }
   },
   "outputs": [],
   "source": [
    "dbscan.components_[:3]"
   ]
  },
  {
   "cell_type": "code",
   "execution_count": null,
   "metadata": {
    "execution": {
     "iopub.status.busy": "2022-05-11T18:11:44.672555Z",
     "iopub.status.idle": "2022-05-11T18:11:44.673127Z",
     "shell.execute_reply": "2022-05-11T18:11:44.672927Z",
     "shell.execute_reply.started": "2022-05-11T18:11:44.672906Z"
    }
   },
   "outputs": [],
   "source": [
    "np.unique(dbscan.labels_)"
   ]
  },
  {
   "cell_type": "code",
   "execution_count": null,
   "metadata": {
    "execution": {
     "iopub.status.busy": "2022-05-11T18:11:44.674212Z",
     "iopub.status.idle": "2022-05-11T18:11:44.674843Z",
     "shell.execute_reply": "2022-05-11T18:11:44.674651Z",
     "shell.execute_reply.started": "2022-05-11T18:11:44.674624Z"
    }
   },
   "outputs": [],
   "source": [
    "dbscan2 = DBSCAN(eps=0.2)\n",
    "dbscan2.fit(X)"
   ]
  },
  {
   "cell_type": "code",
   "execution_count": null,
   "metadata": {
    "execution": {
     "iopub.status.busy": "2022-05-11T18:11:44.675945Z",
     "iopub.status.idle": "2022-05-11T18:11:44.676524Z",
     "shell.execute_reply": "2022-05-11T18:11:44.676348Z",
     "shell.execute_reply.started": "2022-05-11T18:11:44.676327Z"
    }
   },
   "outputs": [],
   "source": [
    "def plot_dbscan(dbscan, X, size, show_xlabels=True, show_ylabels=True):\n",
    "    core_mask = np.zeros_like(dbscan.labels_, dtype=bool)\n",
    "    core_mask[dbscan.core_sample_indices_] = True\n",
    "    anomalies_mask = dbscan.labels_ == -1\n",
    "    non_core_mask = ~(core_mask | anomalies_mask)\n",
    "\n",
    "    cores = dbscan.components_\n",
    "    anomalies = X[anomalies_mask]\n",
    "    non_cores = X[non_core_mask]\n",
    "    \n",
    "    plt.scatter(cores[:, 0], cores[:, 1],\n",
    "                c=dbscan.labels_[core_mask], marker='o', s=size, cmap=\"Paired\")\n",
    "    plt.scatter(cores[:, 0], cores[:, 1], marker='*', s=20, c=dbscan.labels_[core_mask])\n",
    "    plt.scatter(anomalies[:, 0], anomalies[:, 1],\n",
    "                c=\"r\", marker=\"x\", s=100)\n",
    "    plt.scatter(non_cores[:, 0], non_cores[:, 1], c=dbscan.labels_[non_core_mask], marker=\".\")\n",
    "    if show_xlabels:\n",
    "        plt.xlabel(\"$x_1$\", fontsize=14)\n",
    "    else:\n",
    "        plt.tick_params(labelbottom=False)\n",
    "    if show_ylabels:\n",
    "        plt.ylabel(\"$x_2$\", fontsize=14, rotation=0)\n",
    "    else:\n",
    "        plt.tick_params(labelleft=False)\n",
    "    plt.title(\"eps={:.2f}, min_samples={}\".format(dbscan.eps, dbscan.min_samples), fontsize=14)"
   ]
  },
  {
   "cell_type": "code",
   "execution_count": null,
   "metadata": {
    "execution": {
     "iopub.status.busy": "2022-05-11T18:11:44.677585Z",
     "iopub.status.idle": "2022-05-11T18:11:44.678145Z",
     "shell.execute_reply": "2022-05-11T18:11:44.677943Z",
     "shell.execute_reply.started": "2022-05-11T18:11:44.677922Z"
    }
   },
   "outputs": [],
   "source": [
    "plt.figure(figsize=(9, 3.2))\n",
    "\n",
    "plt.subplot(121)\n",
    "plot_dbscan(dbscan, X, size=100)\n",
    "\n",
    "plt.subplot(122)\n",
    "plot_dbscan(dbscan2, X, size=600, show_ylabels=False)\n",
    "\n",
    "save_fig(\"dbscan_plot\")\n",
    "plt.show()\n"
   ]
  },
  {
   "cell_type": "code",
   "execution_count": null,
   "metadata": {
    "execution": {
     "iopub.status.busy": "2022-05-11T18:11:44.679198Z",
     "iopub.status.idle": "2022-05-11T18:11:44.679726Z",
     "shell.execute_reply": "2022-05-11T18:11:44.67955Z",
     "shell.execute_reply.started": "2022-05-11T18:11:44.679529Z"
    }
   },
   "outputs": [],
   "source": [
    "dbscan = dbscan2"
   ]
  },
  {
   "cell_type": "code",
   "execution_count": null,
   "metadata": {
    "execution": {
     "iopub.status.busy": "2022-05-11T18:11:44.680802Z",
     "iopub.status.idle": "2022-05-11T18:11:44.681397Z",
     "shell.execute_reply": "2022-05-11T18:11:44.681194Z",
     "shell.execute_reply.started": "2022-05-11T18:11:44.681172Z"
    }
   },
   "outputs": [],
   "source": [
    "from sklearn.neighbors import KNeighborsClassifier"
   ]
  },
  {
   "cell_type": "code",
   "execution_count": null,
   "metadata": {
    "execution": {
     "iopub.status.busy": "2022-05-11T18:11:44.682442Z",
     "iopub.status.idle": "2022-05-11T18:11:44.682989Z",
     "shell.execute_reply": "2022-05-11T18:11:44.682815Z",
     "shell.execute_reply.started": "2022-05-11T18:11:44.682793Z"
    }
   },
   "outputs": [],
   "source": [
    "knn = KNeighborsClassifier(n_neighbors=50)\n",
    "knn.fit(dbscan.components_, dbscan.labels_[dbscan.core_sample_indices_])"
   ]
  },
  {
   "cell_type": "code",
   "execution_count": null,
   "metadata": {
    "execution": {
     "iopub.status.busy": "2022-05-11T18:11:44.684088Z",
     "iopub.status.idle": "2022-05-11T18:11:44.684714Z",
     "shell.execute_reply": "2022-05-11T18:11:44.684515Z",
     "shell.execute_reply.started": "2022-05-11T18:11:44.684491Z"
    }
   },
   "outputs": [],
   "source": [
    "X_new = np.array([[-0.5, 0], [0, 0.5], [1, -0.1], [2, 1]])\n",
    "knn.predict(X_new)"
   ]
  },
  {
   "cell_type": "code",
   "execution_count": null,
   "metadata": {
    "execution": {
     "iopub.status.busy": "2022-05-11T18:11:44.685802Z",
     "iopub.status.idle": "2022-05-11T18:11:44.686383Z",
     "shell.execute_reply": "2022-05-11T18:11:44.686203Z",
     "shell.execute_reply.started": "2022-05-11T18:11:44.686181Z"
    }
   },
   "outputs": [],
   "source": [
    "knn.predict_proba(X_new)"
   ]
  },
  {
   "cell_type": "code",
   "execution_count": null,
   "metadata": {
    "execution": {
     "iopub.status.busy": "2022-05-11T18:11:44.687449Z",
     "iopub.status.idle": "2022-05-11T18:11:44.688001Z",
     "shell.execute_reply": "2022-05-11T18:11:44.687826Z",
     "shell.execute_reply.started": "2022-05-11T18:11:44.687805Z"
    }
   },
   "outputs": [],
   "source": [
    "plt.figure(figsize=(6, 3))\n",
    "plot_decision_boundaries(knn, X, show_centroids=False)\n",
    "plt.scatter(X_new[:, 0], X_new[:, 1], c=\"b\", marker=\"+\", s=200, zorder=10)\n",
    "save_fig(\"cluster_classification_plot\")\n",
    "plt.show()"
   ]
  },
  {
   "cell_type": "code",
   "execution_count": null,
   "metadata": {
    "execution": {
     "iopub.status.busy": "2022-05-11T18:11:44.689097Z",
     "iopub.status.idle": "2022-05-11T18:11:44.68966Z",
     "shell.execute_reply": "2022-05-11T18:11:44.689482Z",
     "shell.execute_reply.started": "2022-05-11T18:11:44.689461Z"
    }
   },
   "outputs": [],
   "source": [
    "y_dist, y_pred_idx = knn.kneighbors(X_new, n_neighbors=1)\n",
    "y_pred = dbscan.labels_[dbscan.core_sample_indices_][y_pred_idx]\n",
    "y_pred[y_dist > 0.2] = -1\n",
    "y_pred.ravel()"
   ]
  },
  {
   "cell_type": "markdown",
   "metadata": {},
   "source": [
    "## Other Clustering Algorithms"
   ]
  },
  {
   "cell_type": "markdown",
   "metadata": {},
   "source": [
    "### Spectral Clustering"
   ]
  },
  {
   "cell_type": "code",
   "execution_count": null,
   "metadata": {
    "execution": {
     "iopub.status.busy": "2022-05-11T18:11:44.690735Z",
     "iopub.status.idle": "2022-05-11T18:11:44.691323Z",
     "shell.execute_reply": "2022-05-11T18:11:44.69114Z",
     "shell.execute_reply.started": "2022-05-11T18:11:44.691118Z"
    }
   },
   "outputs": [],
   "source": [
    "from sklearn.cluster import SpectralClustering"
   ]
  },
  {
   "cell_type": "code",
   "execution_count": null,
   "metadata": {
    "execution": {
     "iopub.status.busy": "2022-05-11T18:11:44.692394Z",
     "iopub.status.idle": "2022-05-11T18:11:44.692954Z",
     "shell.execute_reply": "2022-05-11T18:11:44.692776Z",
     "shell.execute_reply.started": "2022-05-11T18:11:44.692754Z"
    }
   },
   "outputs": [],
   "source": [
    "sc1 = SpectralClustering(n_clusters=2, gamma=100, random_state=42)\n",
    "sc1.fit(X)"
   ]
  },
  {
   "cell_type": "code",
   "execution_count": null,
   "metadata": {
    "execution": {
     "iopub.status.busy": "2022-05-11T18:11:44.694061Z",
     "iopub.status.idle": "2022-05-11T18:11:44.694736Z",
     "shell.execute_reply": "2022-05-11T18:11:44.694518Z",
     "shell.execute_reply.started": "2022-05-11T18:11:44.694494Z"
    }
   },
   "outputs": [],
   "source": [
    "sc2 = SpectralClustering(n_clusters=2, gamma=1, random_state=42)\n",
    "sc2.fit(X)"
   ]
  },
  {
   "cell_type": "code",
   "execution_count": null,
   "metadata": {
    "execution": {
     "iopub.status.busy": "2022-05-11T18:11:44.695872Z",
     "iopub.status.idle": "2022-05-11T18:11:44.696435Z",
     "shell.execute_reply": "2022-05-11T18:11:44.696261Z",
     "shell.execute_reply.started": "2022-05-11T18:11:44.696239Z"
    }
   },
   "outputs": [],
   "source": [
    "np.percentile(sc1.affinity_matrix_, 95)"
   ]
  },
  {
   "cell_type": "code",
   "execution_count": null,
   "metadata": {
    "execution": {
     "iopub.status.busy": "2022-05-11T18:11:44.697517Z",
     "iopub.status.idle": "2022-05-11T18:11:44.698106Z",
     "shell.execute_reply": "2022-05-11T18:11:44.697902Z",
     "shell.execute_reply.started": "2022-05-11T18:11:44.69788Z"
    }
   },
   "outputs": [],
   "source": [
    "def plot_spectral_clustering(sc, X, size, alpha, show_xlabels=True, show_ylabels=True):\n",
    "    plt.scatter(X[:, 0], X[:, 1], marker='o', s=size, c='gray', cmap=\"Paired\", alpha=alpha)\n",
    "    plt.scatter(X[:, 0], X[:, 1], marker='o', s=30, c='w')\n",
    "    plt.scatter(X[:, 0], X[:, 1], marker='.', s=10, c=sc.labels_, cmap=\"Paired\")\n",
    "    \n",
    "    if show_xlabels:\n",
    "        plt.xlabel(\"$x_1$\", fontsize=14)\n",
    "    else:\n",
    "        plt.tick_params(labelbottom=False)\n",
    "    if show_ylabels:\n",
    "        plt.ylabel(\"$x_2$\", fontsize=14, rotation=0)\n",
    "    else:\n",
    "        plt.tick_params(labelleft=False)\n",
    "    plt.title(\"RBF gamma={}\".format(sc.gamma), fontsize=14)"
   ]
  },
  {
   "cell_type": "code",
   "execution_count": null,
   "metadata": {
    "execution": {
     "iopub.status.busy": "2022-05-11T18:11:44.699207Z",
     "iopub.status.idle": "2022-05-11T18:11:44.699761Z",
     "shell.execute_reply": "2022-05-11T18:11:44.699579Z",
     "shell.execute_reply.started": "2022-05-11T18:11:44.699558Z"
    }
   },
   "outputs": [],
   "source": [
    "plt.figure(figsize=(9, 3.2))\n",
    "\n",
    "plt.subplot(121)\n",
    "plot_spectral_clustering(sc1, X, size=500, alpha=0.1)\n",
    "\n",
    "plt.subplot(122)\n",
    "plot_spectral_clustering(sc2, X, size=4000, alpha=0.01, show_ylabels=False)\n",
    "\n",
    "plt.show()\n"
   ]
  },
  {
   "cell_type": "markdown",
   "metadata": {},
   "source": [
    "### Agglomerative Clustering"
   ]
  },
  {
   "cell_type": "code",
   "execution_count": null,
   "metadata": {
    "execution": {
     "iopub.status.busy": "2022-05-11T18:11:44.700825Z",
     "iopub.status.idle": "2022-05-11T18:11:44.701432Z",
     "shell.execute_reply": "2022-05-11T18:11:44.701226Z",
     "shell.execute_reply.started": "2022-05-11T18:11:44.701205Z"
    }
   },
   "outputs": [],
   "source": [
    "from sklearn.cluster import AgglomerativeClustering"
   ]
  },
  {
   "cell_type": "code",
   "execution_count": null,
   "metadata": {
    "execution": {
     "iopub.status.busy": "2022-05-11T18:11:44.702495Z",
     "iopub.status.idle": "2022-05-11T18:11:44.703057Z",
     "shell.execute_reply": "2022-05-11T18:11:44.702865Z",
     "shell.execute_reply.started": "2022-05-11T18:11:44.702844Z"
    }
   },
   "outputs": [],
   "source": [
    "X = np.array([0, 2, 5, 8.5]).reshape(-1, 1)\n",
    "agg = AgglomerativeClustering(linkage=\"complete\").fit(X)"
   ]
  },
  {
   "cell_type": "code",
   "execution_count": null,
   "metadata": {
    "execution": {
     "iopub.status.busy": "2022-05-11T18:11:44.704144Z",
     "iopub.status.idle": "2022-05-11T18:11:44.704688Z",
     "shell.execute_reply": "2022-05-11T18:11:44.704512Z",
     "shell.execute_reply.started": "2022-05-11T18:11:44.704491Z"
    }
   },
   "outputs": [],
   "source": [
    "def learned_parameters(estimator):\n",
    "    return [attrib for attrib in dir(estimator)\n",
    "            if attrib.endswith(\"_\") and not attrib.startswith(\"_\")]"
   ]
  },
  {
   "cell_type": "code",
   "execution_count": null,
   "metadata": {
    "execution": {
     "iopub.status.busy": "2022-05-11T18:11:44.705753Z",
     "iopub.status.idle": "2022-05-11T18:11:44.706316Z",
     "shell.execute_reply": "2022-05-11T18:11:44.706145Z",
     "shell.execute_reply.started": "2022-05-11T18:11:44.706123Z"
    }
   },
   "outputs": [],
   "source": [
    "learned_parameters(agg)"
   ]
  },
  {
   "cell_type": "code",
   "execution_count": null,
   "metadata": {
    "execution": {
     "iopub.status.busy": "2022-05-11T18:11:44.707373Z",
     "iopub.status.idle": "2022-05-11T18:11:44.707918Z",
     "shell.execute_reply": "2022-05-11T18:11:44.707742Z",
     "shell.execute_reply.started": "2022-05-11T18:11:44.707721Z"
    },
    "scrolled": true
   },
   "outputs": [],
   "source": [
    "agg.children_"
   ]
  },
  {
   "cell_type": "markdown",
   "metadata": {},
   "source": [
    "# Gaussian Mixtures"
   ]
  },
  {
   "cell_type": "code",
   "execution_count": null,
   "metadata": {
    "execution": {
     "iopub.status.busy": "2022-05-11T18:11:44.709Z",
     "iopub.status.idle": "2022-05-11T18:11:44.70956Z",
     "shell.execute_reply": "2022-05-11T18:11:44.709387Z",
     "shell.execute_reply.started": "2022-05-11T18:11:44.709366Z"
    }
   },
   "outputs": [],
   "source": [
    "X1, y1 = make_blobs(n_samples=1000, centers=((4, -4), (0, 0)), random_state=42)\n",
    "X1 = X1.dot(np.array([[0.374, 0.95], [0.732, 0.598]]))\n",
    "X2, y2 = make_blobs(n_samples=250, centers=1, random_state=42)\n",
    "X2 = X2 + [6, -8]\n",
    "X = np.r_[X1, X2]\n",
    "y = np.r_[y1, y2]"
   ]
  },
  {
   "cell_type": "markdown",
   "metadata": {},
   "source": [
    "Let's train a Gaussian mixture model on the previous dataset:"
   ]
  },
  {
   "cell_type": "code",
   "execution_count": null,
   "metadata": {
    "execution": {
     "iopub.status.busy": "2022-05-11T18:11:44.710623Z",
     "iopub.status.idle": "2022-05-11T18:11:44.711198Z",
     "shell.execute_reply": "2022-05-11T18:11:44.710997Z",
     "shell.execute_reply.started": "2022-05-11T18:11:44.710975Z"
    }
   },
   "outputs": [],
   "source": [
    "from sklearn.mixture import GaussianMixture"
   ]
  },
  {
   "cell_type": "code",
   "execution_count": null,
   "metadata": {
    "execution": {
     "iopub.status.busy": "2022-05-11T18:11:44.712246Z",
     "iopub.status.idle": "2022-05-11T18:11:44.712769Z",
     "shell.execute_reply": "2022-05-11T18:11:44.712596Z",
     "shell.execute_reply.started": "2022-05-11T18:11:44.712576Z"
    }
   },
   "outputs": [],
   "source": [
    "gm = GaussianMixture(n_components=3, n_init=10, random_state=42)\n",
    "gm.fit(X)"
   ]
  },
  {
   "cell_type": "markdown",
   "metadata": {},
   "source": [
    "Let's look at the parameters that the EM algorithm estimated:"
   ]
  },
  {
   "cell_type": "code",
   "execution_count": null,
   "metadata": {
    "execution": {
     "iopub.status.busy": "2022-05-11T18:11:44.713816Z",
     "iopub.status.idle": "2022-05-11T18:11:44.714395Z",
     "shell.execute_reply": "2022-05-11T18:11:44.714217Z",
     "shell.execute_reply.started": "2022-05-11T18:11:44.714194Z"
    }
   },
   "outputs": [],
   "source": [
    "gm.weights_"
   ]
  },
  {
   "cell_type": "code",
   "execution_count": null,
   "metadata": {
    "execution": {
     "iopub.status.busy": "2022-05-11T18:11:44.715459Z",
     "iopub.status.idle": "2022-05-11T18:11:44.715986Z",
     "shell.execute_reply": "2022-05-11T18:11:44.715815Z",
     "shell.execute_reply.started": "2022-05-11T18:11:44.715794Z"
    }
   },
   "outputs": [],
   "source": [
    "gm.means_"
   ]
  },
  {
   "cell_type": "code",
   "execution_count": null,
   "metadata": {
    "execution": {
     "iopub.status.busy": "2022-05-11T18:11:44.717059Z",
     "iopub.status.idle": "2022-05-11T18:11:44.717607Z",
     "shell.execute_reply": "2022-05-11T18:11:44.717434Z",
     "shell.execute_reply.started": "2022-05-11T18:11:44.717413Z"
    }
   },
   "outputs": [],
   "source": [
    "gm.covariances_"
   ]
  },
  {
   "cell_type": "markdown",
   "metadata": {},
   "source": [
    "Did the algorithm actually converge?"
   ]
  },
  {
   "cell_type": "code",
   "execution_count": null,
   "metadata": {
    "execution": {
     "iopub.status.busy": "2022-05-11T18:11:44.718817Z",
     "iopub.status.idle": "2022-05-11T18:11:44.719557Z",
     "shell.execute_reply": "2022-05-11T18:11:44.719235Z",
     "shell.execute_reply.started": "2022-05-11T18:11:44.719208Z"
    }
   },
   "outputs": [],
   "source": [
    "gm.converged_"
   ]
  },
  {
   "cell_type": "markdown",
   "metadata": {},
   "source": [
    "Yes, good. How many iterations did it take?"
   ]
  },
  {
   "cell_type": "code",
   "execution_count": null,
   "metadata": {
    "execution": {
     "iopub.status.busy": "2022-05-11T18:11:44.720721Z",
     "iopub.status.idle": "2022-05-11T18:11:44.721303Z",
     "shell.execute_reply": "2022-05-11T18:11:44.721121Z",
     "shell.execute_reply.started": "2022-05-11T18:11:44.72109Z"
    }
   },
   "outputs": [],
   "source": [
    "gm.n_iter_"
   ]
  },
  {
   "cell_type": "markdown",
   "metadata": {},
   "source": [
    "You can now use the model to predict which cluster each instance belongs to (hard clustering) or the probabilities that it came from each cluster. For this, just use `predict()` method or the `predict_proba()` method:"
   ]
  },
  {
   "cell_type": "code",
   "execution_count": null,
   "metadata": {
    "execution": {
     "iopub.status.busy": "2022-05-11T18:11:44.722403Z",
     "iopub.status.idle": "2022-05-11T18:11:44.72296Z",
     "shell.execute_reply": "2022-05-11T18:11:44.722784Z",
     "shell.execute_reply.started": "2022-05-11T18:11:44.722762Z"
    }
   },
   "outputs": [],
   "source": [
    "gm.predict(X)"
   ]
  },
  {
   "cell_type": "code",
   "execution_count": null,
   "metadata": {
    "execution": {
     "iopub.status.busy": "2022-05-11T18:11:44.724103Z",
     "iopub.status.idle": "2022-05-11T18:11:44.724669Z",
     "shell.execute_reply": "2022-05-11T18:11:44.72449Z",
     "shell.execute_reply.started": "2022-05-11T18:11:44.724469Z"
    }
   },
   "outputs": [],
   "source": [
    "gm.predict_proba(X)"
   ]
  },
  {
   "cell_type": "markdown",
   "metadata": {},
   "source": [
    "This is a generative model, so you can sample new instances from it (and get their labels):"
   ]
  },
  {
   "cell_type": "code",
   "execution_count": null,
   "metadata": {
    "execution": {
     "iopub.status.busy": "2022-05-11T18:11:44.725767Z",
     "iopub.status.idle": "2022-05-11T18:11:44.726346Z",
     "shell.execute_reply": "2022-05-11T18:11:44.726167Z",
     "shell.execute_reply.started": "2022-05-11T18:11:44.726144Z"
    }
   },
   "outputs": [],
   "source": [
    "X_new, y_new = gm.sample(6)\n",
    "X_new"
   ]
  },
  {
   "cell_type": "code",
   "execution_count": null,
   "metadata": {
    "execution": {
     "iopub.status.busy": "2022-05-11T18:11:44.727422Z",
     "iopub.status.idle": "2022-05-11T18:11:44.727983Z",
     "shell.execute_reply": "2022-05-11T18:11:44.727806Z",
     "shell.execute_reply.started": "2022-05-11T18:11:44.727785Z"
    }
   },
   "outputs": [],
   "source": [
    "y_new"
   ]
  },
  {
   "cell_type": "markdown",
   "metadata": {},
   "source": [
    "Notice that they are sampled sequentially from each cluster."
   ]
  },
  {
   "cell_type": "markdown",
   "metadata": {},
   "source": [
    "You can also estimate the log of the _probability density function_ (PDF) at any location using the `score_samples()` method:"
   ]
  },
  {
   "cell_type": "code",
   "execution_count": null,
   "metadata": {
    "execution": {
     "iopub.status.busy": "2022-05-11T18:11:44.72907Z",
     "iopub.status.idle": "2022-05-11T18:11:44.729621Z",
     "shell.execute_reply": "2022-05-11T18:11:44.729446Z",
     "shell.execute_reply.started": "2022-05-11T18:11:44.729425Z"
    }
   },
   "outputs": [],
   "source": [
    "gm.score_samples(X)"
   ]
  },
  {
   "cell_type": "markdown",
   "metadata": {},
   "source": [
    "Let's check that the PDF integrates to 1 over the whole space. We just take a large square around the clusters, and chop it into a grid of tiny squares, then we compute the approximate probability that the instances will be generated in each tiny square (by multiplying the PDF at one corner of the tiny square by the area of the square), and finally summing all these probabilities). The result is very close to 1:"
   ]
  },
  {
   "cell_type": "code",
   "execution_count": null,
   "metadata": {
    "execution": {
     "iopub.status.busy": "2022-05-11T18:11:44.730732Z",
     "iopub.status.idle": "2022-05-11T18:11:44.731287Z",
     "shell.execute_reply": "2022-05-11T18:11:44.731103Z",
     "shell.execute_reply.started": "2022-05-11T18:11:44.731081Z"
    }
   },
   "outputs": [],
   "source": [
    "resolution = 100\n",
    "grid = np.arange(-10, 10, 1 / resolution)\n",
    "xx, yy = np.meshgrid(grid, grid)\n",
    "X_full = np.vstack([xx.ravel(), yy.ravel()]).T\n",
    "\n",
    "pdf = np.exp(gm.score_samples(X_full))\n",
    "pdf_probas = pdf * (1 / resolution) ** 2\n",
    "pdf_probas.sum()"
   ]
  },
  {
   "cell_type": "markdown",
   "metadata": {},
   "source": [
    "Now let's plot the resulting decision boundaries (dashed lines) and density contours:"
   ]
  },
  {
   "cell_type": "code",
   "execution_count": null,
   "metadata": {
    "execution": {
     "iopub.status.busy": "2022-05-11T18:11:44.732473Z",
     "iopub.status.idle": "2022-05-11T18:11:44.733114Z",
     "shell.execute_reply": "2022-05-11T18:11:44.732904Z",
     "shell.execute_reply.started": "2022-05-11T18:11:44.732881Z"
    }
   },
   "outputs": [],
   "source": [
    "from matplotlib.colors import LogNorm\n",
    "\n",
    "def plot_gaussian_mixture(clusterer, X, resolution=1000, show_ylabels=True):\n",
    "    mins = X.min(axis=0) - 0.1\n",
    "    maxs = X.max(axis=0) + 0.1\n",
    "    xx, yy = np.meshgrid(np.linspace(mins[0], maxs[0], resolution),\n",
    "                         np.linspace(mins[1], maxs[1], resolution))\n",
    "    Z = -clusterer.score_samples(np.c_[xx.ravel(), yy.ravel()])\n",
    "    Z = Z.reshape(xx.shape)\n",
    "\n",
    "    plt.contourf(xx, yy, Z,\n",
    "                 norm=LogNorm(vmin=1.0, vmax=30.0),\n",
    "                 levels=np.logspace(0, 2, 12))\n",
    "    plt.contour(xx, yy, Z,\n",
    "                norm=LogNorm(vmin=1.0, vmax=30.0),\n",
    "                levels=np.logspace(0, 2, 12),\n",
    "                linewidths=1, colors='k')\n",
    "\n",
    "    Z = clusterer.predict(np.c_[xx.ravel(), yy.ravel()])\n",
    "    Z = Z.reshape(xx.shape)\n",
    "    plt.contour(xx, yy, Z,\n",
    "                linewidths=2, colors='r', linestyles='dashed')\n",
    "    \n",
    "    plt.plot(X[:, 0], X[:, 1], 'k.', markersize=2)\n",
    "    plot_centroids(clusterer.means_, clusterer.weights_)\n",
    "\n",
    "    plt.xlabel(\"$x_1$\", fontsize=14)\n",
    "    if show_ylabels:\n",
    "        plt.ylabel(\"$x_2$\", fontsize=14, rotation=0)\n",
    "    else:\n",
    "        plt.tick_params(labelleft=False)"
   ]
  },
  {
   "cell_type": "code",
   "execution_count": null,
   "metadata": {
    "execution": {
     "iopub.status.busy": "2022-05-11T18:11:44.734184Z",
     "iopub.status.idle": "2022-05-11T18:11:44.734708Z",
     "shell.execute_reply": "2022-05-11T18:11:44.734538Z",
     "shell.execute_reply.started": "2022-05-11T18:11:44.734517Z"
    }
   },
   "outputs": [],
   "source": [
    "plt.figure(figsize=(8, 4))\n",
    "\n",
    "plot_gaussian_mixture(gm, X)\n",
    "\n",
    "save_fig(\"gaussian_mixtures_plot\")\n",
    "plt.show()"
   ]
  },
  {
   "cell_type": "markdown",
   "metadata": {},
   "source": [
    "You can impose constraints on the covariance matrices that the algorithm looks for by setting the `covariance_type` hyperparameter:\n",
    "* `\"full\"` (default): no constraint, all clusters can take on any ellipsoidal shape of any size.\n",
    "* `\"tied\"`: all clusters must have the same shape, which can be any ellipsoid (i.e., they all share the same covariance matrix).\n",
    "* `\"spherical\"`: all clusters must be spherical, but they can have different diameters (i.e., different variances).\n",
    "* `\"diag\"`: clusters can take on any ellipsoidal shape of any size, but the ellipsoid's axes must be parallel to the axes (i.e., the covariance matrices must be diagonal)."
   ]
  },
  {
   "cell_type": "code",
   "execution_count": null,
   "metadata": {
    "execution": {
     "iopub.status.busy": "2022-05-11T18:11:44.735769Z",
     "iopub.status.idle": "2022-05-11T18:11:44.736326Z",
     "shell.execute_reply": "2022-05-11T18:11:44.736147Z",
     "shell.execute_reply.started": "2022-05-11T18:11:44.736125Z"
    }
   },
   "outputs": [],
   "source": [
    "gm_full = GaussianMixture(n_components=3, n_init=10, covariance_type=\"full\", random_state=42)\n",
    "gm_tied = GaussianMixture(n_components=3, n_init=10, covariance_type=\"tied\", random_state=42)\n",
    "gm_spherical = GaussianMixture(n_components=3, n_init=10, covariance_type=\"spherical\", random_state=42)\n",
    "gm_diag = GaussianMixture(n_components=3, n_init=10, covariance_type=\"diag\", random_state=42)\n",
    "gm_full.fit(X)\n",
    "gm_tied.fit(X)\n",
    "gm_spherical.fit(X)\n",
    "gm_diag.fit(X)"
   ]
  },
  {
   "cell_type": "code",
   "execution_count": null,
   "metadata": {
    "execution": {
     "iopub.status.busy": "2022-05-11T18:11:44.737386Z",
     "iopub.status.idle": "2022-05-11T18:11:44.737915Z",
     "shell.execute_reply": "2022-05-11T18:11:44.737742Z",
     "shell.execute_reply.started": "2022-05-11T18:11:44.73772Z"
    }
   },
   "outputs": [],
   "source": [
    "def compare_gaussian_mixtures(gm1, gm2, X):\n",
    "    plt.figure(figsize=(9, 4))\n",
    "\n",
    "    plt.subplot(121)\n",
    "    plot_gaussian_mixture(gm1, X)\n",
    "    plt.title('covariance_type=\"{}\"'.format(gm1.covariance_type), fontsize=14)\n",
    "\n",
    "    plt.subplot(122)\n",
    "    plot_gaussian_mixture(gm2, X, show_ylabels=False)\n",
    "    plt.title('covariance_type=\"{}\"'.format(gm2.covariance_type), fontsize=14)\n"
   ]
  },
  {
   "cell_type": "code",
   "execution_count": null,
   "metadata": {
    "execution": {
     "iopub.status.busy": "2022-05-11T18:11:44.738974Z",
     "iopub.status.idle": "2022-05-11T18:11:44.73952Z",
     "shell.execute_reply": "2022-05-11T18:11:44.739352Z",
     "shell.execute_reply.started": "2022-05-11T18:11:44.739331Z"
    }
   },
   "outputs": [],
   "source": [
    "compare_gaussian_mixtures(gm_tied, gm_spherical, X)\n",
    "\n",
    "save_fig(\"covariance_type_plot\")\n",
    "plt.show()"
   ]
  },
  {
   "cell_type": "code",
   "execution_count": null,
   "metadata": {
    "execution": {
     "iopub.status.busy": "2022-05-11T18:11:44.740565Z",
     "iopub.status.idle": "2022-05-11T18:11:44.741136Z",
     "shell.execute_reply": "2022-05-11T18:11:44.740933Z",
     "shell.execute_reply.started": "2022-05-11T18:11:44.740911Z"
    }
   },
   "outputs": [],
   "source": [
    "compare_gaussian_mixtures(gm_full, gm_diag, X)\n",
    "plt.tight_layout()\n",
    "plt.show()"
   ]
  },
  {
   "cell_type": "markdown",
   "metadata": {},
   "source": [
    "## Anomaly Detection Using Gaussian Mixtures"
   ]
  },
  {
   "cell_type": "markdown",
   "metadata": {},
   "source": [
    "Gaussian Mixtures can be used for _anomaly detection_: instances located in low-density regions can be considered anomalies. You must define what density threshold you want to use. For example, in a manufacturing company that tries to detect defective products, the ratio of defective products is usually well-known. Say it is equal to 4%, then you can set the density threshold to be the value that results in having 4% of the instances located in areas below that threshold density:"
   ]
  },
  {
   "cell_type": "code",
   "execution_count": null,
   "metadata": {
    "execution": {
     "iopub.status.busy": "2022-05-11T18:11:44.742251Z",
     "iopub.status.idle": "2022-05-11T18:11:44.742802Z",
     "shell.execute_reply": "2022-05-11T18:11:44.74263Z",
     "shell.execute_reply.started": "2022-05-11T18:11:44.742606Z"
    }
   },
   "outputs": [],
   "source": [
    "densities = gm.score_samples(X)\n",
    "density_threshold = np.percentile(densities, 4)\n",
    "anomalies = X[densities < density_threshold]"
   ]
  },
  {
   "cell_type": "code",
   "execution_count": null,
   "metadata": {
    "execution": {
     "iopub.status.busy": "2022-05-11T18:11:44.743873Z",
     "iopub.status.idle": "2022-05-11T18:11:44.744453Z",
     "shell.execute_reply": "2022-05-11T18:11:44.744276Z",
     "shell.execute_reply.started": "2022-05-11T18:11:44.744255Z"
    }
   },
   "outputs": [],
   "source": [
    "plt.figure(figsize=(8, 4))\n",
    "\n",
    "plot_gaussian_mixture(gm, X)\n",
    "plt.scatter(anomalies[:, 0], anomalies[:, 1], color='r', marker='*')\n",
    "plt.ylim(top=5.1)\n",
    "\n",
    "save_fig(\"mixture_anomaly_detection_plot\")\n",
    "plt.show()"
   ]
  },
  {
   "cell_type": "markdown",
   "metadata": {},
   "source": [
    "## Selecting the Number of Clusters"
   ]
  },
  {
   "cell_type": "markdown",
   "metadata": {},
   "source": [
    "We cannot use the inertia or the silhouette score because they both assume that the clusters are spherical. Instead, we can try to find the model that minimizes a theoretical information criterion such as the Bayesian Information Criterion (BIC) or the Akaike Information Criterion (AIC):\n",
    "\n",
    "${BIC} = {\\log(m)p - 2\\log({\\hat L})}$\n",
    "\n",
    "${AIC} = 2p - 2\\log(\\hat L)$\n",
    "\n",
    "* $m$ is the number of instances.\n",
    "* $p$ is the number of parameters learned by the model.\n",
    "* $\\hat L$ is the maximized value of the likelihood function of the model. This is the conditional probability of the observed data $\\mathbf{X}$, given the model and its optimized parameters.\n",
    "\n",
    "Both BIC and AIC penalize models that have more parameters to learn (e.g., more clusters), and reward models that fit the data well (i.e., models that give a high likelihood to the observed data)."
   ]
  },
  {
   "cell_type": "code",
   "execution_count": null,
   "metadata": {
    "execution": {
     "iopub.status.busy": "2022-05-11T18:11:44.745526Z",
     "iopub.status.idle": "2022-05-11T18:11:44.746091Z",
     "shell.execute_reply": "2022-05-11T18:11:44.745898Z",
     "shell.execute_reply.started": "2022-05-11T18:11:44.745877Z"
    }
   },
   "outputs": [],
   "source": [
    "gm.bic(X)"
   ]
  },
  {
   "cell_type": "code",
   "execution_count": null,
   "metadata": {
    "execution": {
     "iopub.status.busy": "2022-05-11T18:11:44.747174Z",
     "iopub.status.idle": "2022-05-11T18:11:44.747729Z",
     "shell.execute_reply": "2022-05-11T18:11:44.747551Z",
     "shell.execute_reply.started": "2022-05-11T18:11:44.747529Z"
    }
   },
   "outputs": [],
   "source": [
    "gm.aic(X)"
   ]
  },
  {
   "cell_type": "markdown",
   "metadata": {},
   "source": [
    "We could compute the BIC manually like this:"
   ]
  },
  {
   "cell_type": "code",
   "execution_count": null,
   "metadata": {
    "execution": {
     "iopub.status.busy": "2022-05-11T18:11:44.748814Z",
     "iopub.status.idle": "2022-05-11T18:11:44.749387Z",
     "shell.execute_reply": "2022-05-11T18:11:44.74921Z",
     "shell.execute_reply.started": "2022-05-11T18:11:44.749188Z"
    }
   },
   "outputs": [],
   "source": [
    "n_clusters = 3\n",
    "n_dims = 2\n",
    "n_params_for_weights = n_clusters - 1\n",
    "n_params_for_means = n_clusters * n_dims\n",
    "n_params_for_covariance = n_clusters * n_dims * (n_dims + 1) // 2\n",
    "n_params = n_params_for_weights + n_params_for_means + n_params_for_covariance\n",
    "max_log_likelihood = gm.score(X) * len(X) # log(L^)\n",
    "bic = np.log(len(X)) * n_params - 2 * max_log_likelihood\n",
    "aic = 2 * n_params - 2 * max_log_likelihood"
   ]
  },
  {
   "cell_type": "code",
   "execution_count": null,
   "metadata": {
    "execution": {
     "iopub.status.busy": "2022-05-11T18:11:44.750458Z",
     "iopub.status.idle": "2022-05-11T18:11:44.751006Z",
     "shell.execute_reply": "2022-05-11T18:11:44.75083Z",
     "shell.execute_reply.started": "2022-05-11T18:11:44.750809Z"
    }
   },
   "outputs": [],
   "source": [
    "bic, aic"
   ]
  },
  {
   "cell_type": "code",
   "execution_count": null,
   "metadata": {
    "execution": {
     "iopub.status.busy": "2022-05-11T18:11:44.75209Z",
     "iopub.status.idle": "2022-05-11T18:11:44.752644Z",
     "shell.execute_reply": "2022-05-11T18:11:44.752472Z",
     "shell.execute_reply.started": "2022-05-11T18:11:44.752451Z"
    }
   },
   "outputs": [],
   "source": [
    "n_params"
   ]
  },
  {
   "cell_type": "markdown",
   "metadata": {},
   "source": [
    "There's one weight per cluster, but the sum must be equal to 1, so we have one degree of freedom less, hence the -1. Similarly, the degrees of freedom for an $n \\times n$ covariance matrix is not $n^2$, but $1 + 2 + \\dots + n = \\dfrac{n (n+1)}{2}$."
   ]
  },
  {
   "cell_type": "markdown",
   "metadata": {},
   "source": [
    "Let's train Gaussian Mixture models with various values of $k$ and measure their BIC:"
   ]
  },
  {
   "cell_type": "code",
   "execution_count": null,
   "metadata": {
    "execution": {
     "iopub.status.busy": "2022-05-11T18:11:44.753813Z",
     "iopub.status.idle": "2022-05-11T18:11:44.754444Z",
     "shell.execute_reply": "2022-05-11T18:11:44.754257Z",
     "shell.execute_reply.started": "2022-05-11T18:11:44.754231Z"
    }
   },
   "outputs": [],
   "source": [
    "gms_per_k = [GaussianMixture(n_components=k, n_init=10, random_state=42).fit(X)\n",
    "             for k in range(1, 11)]"
   ]
  },
  {
   "cell_type": "code",
   "execution_count": null,
   "metadata": {
    "execution": {
     "iopub.status.busy": "2022-05-11T18:11:44.755539Z",
     "iopub.status.idle": "2022-05-11T18:11:44.756096Z",
     "shell.execute_reply": "2022-05-11T18:11:44.755904Z",
     "shell.execute_reply.started": "2022-05-11T18:11:44.755883Z"
    }
   },
   "outputs": [],
   "source": [
    "bics = [model.bic(X) for model in gms_per_k]\n",
    "aics = [model.aic(X) for model in gms_per_k]"
   ]
  },
  {
   "cell_type": "code",
   "execution_count": null,
   "metadata": {
    "execution": {
     "iopub.status.busy": "2022-05-11T18:11:44.757171Z",
     "iopub.status.idle": "2022-05-11T18:11:44.757696Z",
     "shell.execute_reply": "2022-05-11T18:11:44.757524Z",
     "shell.execute_reply.started": "2022-05-11T18:11:44.757502Z"
    }
   },
   "outputs": [],
   "source": [
    "plt.figure(figsize=(8, 3))\n",
    "plt.plot(range(1, 11), bics, \"bo-\", label=\"BIC\")\n",
    "plt.plot(range(1, 11), aics, \"go--\", label=\"AIC\")\n",
    "plt.xlabel(\"$k$\", fontsize=14)\n",
    "plt.ylabel(\"Information Criterion\", fontsize=14)\n",
    "plt.axis([1, 9.5, np.min(aics) - 50, np.max(aics) + 50])\n",
    "plt.annotate('Minimum',\n",
    "             xy=(3, bics[2]),\n",
    "             xytext=(0.35, 0.6),\n",
    "             textcoords='figure fraction',\n",
    "             fontsize=14,\n",
    "             arrowprops=dict(facecolor='black', shrink=0.1)\n",
    "            )\n",
    "plt.legend()\n",
    "save_fig(\"aic_bic_vs_k_plot\")\n",
    "plt.show()"
   ]
  },
  {
   "cell_type": "markdown",
   "metadata": {},
   "source": [
    "Let's search for best combination of values for both the number of clusters and the `covariance_type` hyperparameter:"
   ]
  },
  {
   "cell_type": "code",
   "execution_count": null,
   "metadata": {
    "execution": {
     "iopub.status.busy": "2022-05-11T18:11:44.758777Z",
     "iopub.status.idle": "2022-05-11T18:11:44.759346Z",
     "shell.execute_reply": "2022-05-11T18:11:44.759163Z",
     "shell.execute_reply.started": "2022-05-11T18:11:44.759141Z"
    }
   },
   "outputs": [],
   "source": [
    "min_bic = np.infty\n",
    "\n",
    "for k in range(1, 11):\n",
    "    for covariance_type in (\"full\", \"tied\", \"spherical\", \"diag\"):\n",
    "        bic = GaussianMixture(n_components=k, n_init=10,\n",
    "                              covariance_type=covariance_type,\n",
    "                              random_state=42).fit(X).bic(X)\n",
    "        if bic < min_bic:\n",
    "            min_bic = bic\n",
    "            best_k = k\n",
    "            best_covariance_type = covariance_type"
   ]
  },
  {
   "cell_type": "code",
   "execution_count": null,
   "metadata": {
    "execution": {
     "iopub.status.busy": "2022-05-11T18:11:44.760469Z",
     "iopub.status.idle": "2022-05-11T18:11:44.761041Z",
     "shell.execute_reply": "2022-05-11T18:11:44.760851Z",
     "shell.execute_reply.started": "2022-05-11T18:11:44.76083Z"
    }
   },
   "outputs": [],
   "source": [
    "best_k"
   ]
  },
  {
   "cell_type": "code",
   "execution_count": null,
   "metadata": {
    "execution": {
     "iopub.status.busy": "2022-05-11T18:11:44.762237Z",
     "iopub.status.idle": "2022-05-11T18:11:44.762873Z",
     "shell.execute_reply": "2022-05-11T18:11:44.762638Z",
     "shell.execute_reply.started": "2022-05-11T18:11:44.762616Z"
    }
   },
   "outputs": [],
   "source": [
    "best_covariance_type"
   ]
  },
  {
   "cell_type": "markdown",
   "metadata": {},
   "source": [
    "## Bayesian Gaussian Mixture Models"
   ]
  },
  {
   "cell_type": "markdown",
   "metadata": {},
   "source": [
    "Rather than manually searching for the optimal number of clusters, it is possible to use instead the `BayesianGaussianMixture` class which is capable of giving weights equal (or close) to zero to unnecessary clusters. Just set the number of components to a value that you believe is greater than the optimal number of clusters, and the algorithm will eliminate the unnecessary clusters automatically."
   ]
  },
  {
   "cell_type": "code",
   "execution_count": null,
   "metadata": {
    "execution": {
     "iopub.status.busy": "2022-05-11T18:11:44.763961Z",
     "iopub.status.idle": "2022-05-11T18:11:44.764528Z",
     "shell.execute_reply": "2022-05-11T18:11:44.764353Z",
     "shell.execute_reply.started": "2022-05-11T18:11:44.764332Z"
    }
   },
   "outputs": [],
   "source": [
    "from sklearn.mixture import BayesianGaussianMixture"
   ]
  },
  {
   "cell_type": "code",
   "execution_count": null,
   "metadata": {
    "execution": {
     "iopub.status.busy": "2022-05-11T18:11:44.765728Z",
     "iopub.status.idle": "2022-05-11T18:11:44.766309Z",
     "shell.execute_reply": "2022-05-11T18:11:44.76613Z",
     "shell.execute_reply.started": "2022-05-11T18:11:44.766108Z"
    }
   },
   "outputs": [],
   "source": [
    "bgm = BayesianGaussianMixture(n_components=10, n_init=10, random_state=42)\n",
    "bgm.fit(X)"
   ]
  },
  {
   "cell_type": "markdown",
   "metadata": {},
   "source": [
    "The algorithm automatically detected that only 3 components are needed:"
   ]
  },
  {
   "cell_type": "code",
   "execution_count": null,
   "metadata": {
    "execution": {
     "iopub.status.busy": "2022-05-11T18:11:44.767368Z",
     "iopub.status.idle": "2022-05-11T18:11:44.767932Z",
     "shell.execute_reply": "2022-05-11T18:11:44.767752Z",
     "shell.execute_reply.started": "2022-05-11T18:11:44.767721Z"
    }
   },
   "outputs": [],
   "source": [
    "np.round(bgm.weights_, 2)"
   ]
  },
  {
   "cell_type": "code",
   "execution_count": null,
   "metadata": {
    "execution": {
     "iopub.status.busy": "2022-05-11T18:11:44.769003Z",
     "iopub.status.idle": "2022-05-11T18:11:44.769585Z",
     "shell.execute_reply": "2022-05-11T18:11:44.769402Z",
     "shell.execute_reply.started": "2022-05-11T18:11:44.76938Z"
    }
   },
   "outputs": [],
   "source": [
    "plt.figure(figsize=(8, 5))\n",
    "plot_gaussian_mixture(bgm, X)\n",
    "plt.show()"
   ]
  },
  {
   "cell_type": "code",
   "execution_count": null,
   "metadata": {
    "execution": {
     "iopub.status.busy": "2022-05-11T18:11:44.770669Z",
     "iopub.status.idle": "2022-05-11T18:11:44.771238Z",
     "shell.execute_reply": "2022-05-11T18:11:44.771068Z",
     "shell.execute_reply.started": "2022-05-11T18:11:44.771047Z"
    }
   },
   "outputs": [],
   "source": [
    "bgm_low = BayesianGaussianMixture(n_components=10, max_iter=1000, n_init=1,\n",
    "                                  weight_concentration_prior=0.01, random_state=42)\n",
    "bgm_high = BayesianGaussianMixture(n_components=10, max_iter=1000, n_init=1,\n",
    "                                  weight_concentration_prior=10000, random_state=42)\n",
    "nn = 73\n",
    "bgm_low.fit(X[:nn])\n",
    "bgm_high.fit(X[:nn])"
   ]
  },
  {
   "cell_type": "code",
   "execution_count": null,
   "metadata": {
    "execution": {
     "iopub.status.busy": "2022-05-11T18:11:44.772305Z",
     "iopub.status.idle": "2022-05-11T18:11:44.772856Z",
     "shell.execute_reply": "2022-05-11T18:11:44.772673Z",
     "shell.execute_reply.started": "2022-05-11T18:11:44.772652Z"
    }
   },
   "outputs": [],
   "source": [
    "np.round(bgm_low.weights_, 2)"
   ]
  },
  {
   "cell_type": "code",
   "execution_count": null,
   "metadata": {
    "execution": {
     "iopub.status.busy": "2022-05-11T18:11:44.773908Z",
     "iopub.status.idle": "2022-05-11T18:11:44.774486Z",
     "shell.execute_reply": "2022-05-11T18:11:44.774307Z",
     "shell.execute_reply.started": "2022-05-11T18:11:44.774286Z"
    }
   },
   "outputs": [],
   "source": [
    "np.round(bgm_high.weights_, 2)"
   ]
  },
  {
   "cell_type": "code",
   "execution_count": null,
   "metadata": {
    "execution": {
     "iopub.status.busy": "2022-05-11T18:11:44.775559Z",
     "iopub.status.idle": "2022-05-11T18:11:44.776117Z",
     "shell.execute_reply": "2022-05-11T18:11:44.775923Z",
     "shell.execute_reply.started": "2022-05-11T18:11:44.775902Z"
    }
   },
   "outputs": [],
   "source": [
    "plt.figure(figsize=(9, 4))\n",
    "\n",
    "plt.subplot(121)\n",
    "plot_gaussian_mixture(bgm_low, X[:nn])\n",
    "plt.title(\"weight_concentration_prior = 0.01\", fontsize=14)\n",
    "\n",
    "plt.subplot(122)\n",
    "plot_gaussian_mixture(bgm_high, X[:nn], show_ylabels=False)\n",
    "plt.title(\"weight_concentration_prior = 10000\", fontsize=14)\n",
    "\n",
    "save_fig(\"mixture_concentration_prior_plot\")\n",
    "plt.show()"
   ]
  },
  {
   "cell_type": "markdown",
   "metadata": {},
   "source": [
    "Note: the fact that you see only 3 regions in the right plot although there are 4 centroids is not a bug. The weight of the top-right cluster is much larger than the weight of the lower-right cluster, so the probability that any given point in this region belongs to the top right cluster is greater than the probability that it belongs to the lower-right cluster."
   ]
  },
  {
   "cell_type": "code",
   "execution_count": null,
   "metadata": {
    "execution": {
     "iopub.status.busy": "2022-05-11T18:11:44.777165Z",
     "iopub.status.idle": "2022-05-11T18:11:44.777705Z",
     "shell.execute_reply": "2022-05-11T18:11:44.77753Z",
     "shell.execute_reply.started": "2022-05-11T18:11:44.777509Z"
    }
   },
   "outputs": [],
   "source": [
    "X_moons, y_moons = make_moons(n_samples=1000, noise=0.05, random_state=42)"
   ]
  },
  {
   "cell_type": "code",
   "execution_count": null,
   "metadata": {
    "execution": {
     "iopub.status.busy": "2022-05-11T18:11:44.778775Z",
     "iopub.status.idle": "2022-05-11T18:11:44.779335Z",
     "shell.execute_reply": "2022-05-11T18:11:44.779158Z",
     "shell.execute_reply.started": "2022-05-11T18:11:44.779137Z"
    },
    "scrolled": true
   },
   "outputs": [],
   "source": [
    "bgm = BayesianGaussianMixture(n_components=10, n_init=10, random_state=42)\n",
    "bgm.fit(X_moons)"
   ]
  },
  {
   "cell_type": "code",
   "execution_count": null,
   "metadata": {
    "execution": {
     "iopub.status.busy": "2022-05-11T18:11:44.780401Z",
     "iopub.status.idle": "2022-05-11T18:11:44.780932Z",
     "shell.execute_reply": "2022-05-11T18:11:44.780761Z",
     "shell.execute_reply.started": "2022-05-11T18:11:44.78073Z"
    }
   },
   "outputs": [],
   "source": [
    "plt.figure(figsize=(9, 3.2))\n",
    "\n",
    "plt.subplot(121)\n",
    "plot_data(X_moons)\n",
    "plt.xlabel(\"$x_1$\", fontsize=14)\n",
    "plt.ylabel(\"$x_2$\", fontsize=14, rotation=0)\n",
    "\n",
    "plt.subplot(122)\n",
    "plot_gaussian_mixture(bgm, X_moons, show_ylabels=False)\n",
    "\n",
    "save_fig(\"moons_vs_bgm_plot\")\n",
    "plt.show()"
   ]
  },
  {
   "cell_type": "markdown",
   "metadata": {},
   "source": [
    "Oops, not great... instead of detecting 2 moon-shaped clusters, the algorithm detected 8 ellipsoidal clusters. However, the density plot does not look too bad, so it might be usable for anomaly detection."
   ]
  },
  {
   "cell_type": "markdown",
   "metadata": {},
   "source": [
    "**Likelihood Function**"
   ]
  },
  {
   "cell_type": "code",
   "execution_count": null,
   "metadata": {
    "execution": {
     "iopub.status.busy": "2022-05-11T18:11:44.781997Z",
     "iopub.status.idle": "2022-05-11T18:11:44.782553Z",
     "shell.execute_reply": "2022-05-11T18:11:44.782377Z",
     "shell.execute_reply.started": "2022-05-11T18:11:44.782356Z"
    }
   },
   "outputs": [],
   "source": [
    "from scipy.stats import norm"
   ]
  },
  {
   "cell_type": "code",
   "execution_count": null,
   "metadata": {
    "execution": {
     "iopub.status.busy": "2022-05-11T18:11:44.783615Z",
     "iopub.status.idle": "2022-05-11T18:11:44.784184Z",
     "shell.execute_reply": "2022-05-11T18:11:44.783992Z",
     "shell.execute_reply.started": "2022-05-11T18:11:44.783971Z"
    }
   },
   "outputs": [],
   "source": [
    "xx = np.linspace(-6, 4, 101)\n",
    "ss = np.linspace(1, 2, 101)\n",
    "XX, SS = np.meshgrid(xx, ss)\n",
    "ZZ = 2 * norm.pdf(XX - 1.0, 0, SS) + norm.pdf(XX + 4.0, 0, SS)\n",
    "ZZ = ZZ / ZZ.sum(axis=1)[:,np.newaxis] / (xx[1] - xx[0])"
   ]
  },
  {
   "cell_type": "code",
   "execution_count": null,
   "metadata": {
    "execution": {
     "iopub.status.busy": "2022-05-11T18:11:44.785326Z",
     "iopub.status.idle": "2022-05-11T18:11:44.785901Z",
     "shell.execute_reply": "2022-05-11T18:11:44.785718Z",
     "shell.execute_reply.started": "2022-05-11T18:11:44.785696Z"
    }
   },
   "outputs": [],
   "source": [
    "from matplotlib.patches import Polygon\n",
    "\n",
    "plt.figure(figsize=(8, 4.5))\n",
    "\n",
    "x_idx = 85\n",
    "s_idx = 30\n",
    "\n",
    "plt.subplot(221)\n",
    "plt.contourf(XX, SS, ZZ, cmap=\"GnBu\")\n",
    "plt.plot([-6, 4], [ss[s_idx], ss[s_idx]], \"k-\", linewidth=2)\n",
    "plt.plot([xx[x_idx], xx[x_idx]], [1, 2], \"b-\", linewidth=2)\n",
    "plt.xlabel(r\"$x$\")\n",
    "plt.ylabel(r\"$\\theta$\", fontsize=14, rotation=0)\n",
    "plt.title(r\"Model $f(x; \\theta)$\", fontsize=14)\n",
    "\n",
    "plt.subplot(222)\n",
    "plt.plot(ss, ZZ[:, x_idx], \"b-\")\n",
    "max_idx = np.argmax(ZZ[:, x_idx])\n",
    "max_val = np.max(ZZ[:, x_idx])\n",
    "plt.plot(ss[max_idx], max_val, \"r.\")\n",
    "plt.plot([ss[max_idx], ss[max_idx]], [0, max_val], \"r:\")\n",
    "plt.plot([0, ss[max_idx]], [max_val, max_val], \"r:\")\n",
    "plt.text(1.01, max_val + 0.005, r\"$\\hat{L}$\", fontsize=14)\n",
    "plt.text(ss[max_idx]+ 0.01, 0.055, r\"$\\hat{\\theta}$\", fontsize=14)\n",
    "plt.text(ss[max_idx]+ 0.01, max_val - 0.012, r\"$Max$\", fontsize=12)\n",
    "plt.axis([1, 2, 0.05, 0.15])\n",
    "plt.xlabel(r\"$\\theta$\", fontsize=14)\n",
    "plt.grid(True)\n",
    "plt.text(1.99, 0.135, r\"$=f(x=2.5; \\theta)$\", fontsize=14, ha=\"right\")\n",
    "plt.title(r\"Likelihood function $\\mathcal{L}(\\theta|x=2.5)$\", fontsize=14)\n",
    "\n",
    "plt.subplot(223)\n",
    "plt.plot(xx, ZZ[s_idx], \"k-\")\n",
    "plt.axis([-6, 4, 0, 0.25])\n",
    "plt.xlabel(r\"$x$\", fontsize=14)\n",
    "plt.grid(True)\n",
    "plt.title(r\"PDF $f(x; \\theta=1.3)$\", fontsize=14)\n",
    "verts = [(xx[41], 0)] + list(zip(xx[41:81], ZZ[s_idx, 41:81])) + [(xx[80], 0)]\n",
    "poly = Polygon(verts, facecolor='0.9', edgecolor='0.5')\n",
    "plt.gca().add_patch(poly)\n",
    "\n",
    "plt.subplot(224)\n",
    "plt.plot(ss, np.log(ZZ[:, x_idx]), \"b-\")\n",
    "max_idx = np.argmax(np.log(ZZ[:, x_idx]))\n",
    "max_val = np.max(np.log(ZZ[:, x_idx]))\n",
    "plt.plot(ss[max_idx], max_val, \"r.\")\n",
    "plt.plot([ss[max_idx], ss[max_idx]], [-5, max_val], \"r:\")\n",
    "plt.plot([0, ss[max_idx]], [max_val, max_val], \"r:\")\n",
    "plt.axis([1, 2, -2.4, -2])\n",
    "plt.xlabel(r\"$\\theta$\", fontsize=14)\n",
    "plt.text(ss[max_idx]+ 0.01, max_val - 0.05, r\"$Max$\", fontsize=12)\n",
    "plt.text(ss[max_idx]+ 0.01, -2.39, r\"$\\hat{\\theta}$\", fontsize=14)\n",
    "plt.text(1.01, max_val + 0.02, r\"$\\log \\, \\hat{L}$\", fontsize=14)\n",
    "plt.grid(True)\n",
    "plt.title(r\"$\\log \\, \\mathcal{L}(\\theta|x=2.5)$\", fontsize=14)\n",
    "\n",
    "save_fig(\"likelihood_function_plot\")\n",
    "plt.show()"
   ]
  },
  {
   "cell_type": "markdown",
   "metadata": {},
   "source": [
    "# Own solutions to exercises"
   ]
  },
  {
   "cell_type": "markdown",
   "metadata": {},
   "source": [
    "## Exercise 10"
   ]
  },
  {
   "cell_type": "code",
   "execution_count": 2,
   "metadata": {
    "execution": {
     "iopub.execute_input": "2022-05-20T07:16:56.163785Z",
     "iopub.status.busy": "2022-05-20T07:16:56.16317Z",
     "iopub.status.idle": "2022-05-20T07:17:08.020755Z",
     "shell.execute_reply": "2022-05-20T07:17:08.019903Z",
     "shell.execute_reply.started": "2022-05-20T07:16:56.163746Z"
    }
   },
   "outputs": [
    {
     "name": "stdout",
     "output_type": "stream",
     "text": [
      "downloading Olivetti faces from https://ndownloader.figshare.com/files/5976027 to /home/vi/scikit_learn_data\n"
     ]
    }
   ],
   "source": [
    "from sklearn.datasets import fetch_olivetti_faces\n",
    "\n",
    "olivetti = fetch_olivetti_faces()"
   ]
  },
  {
   "cell_type": "code",
   "execution_count": 3,
   "metadata": {
    "execution": {
     "iopub.execute_input": "2022-05-20T07:17:10.315478Z",
     "iopub.status.busy": "2022-05-20T07:17:10.314794Z",
     "iopub.status.idle": "2022-05-20T07:17:10.319193Z",
     "shell.execute_reply": "2022-05-20T07:17:10.31811Z",
     "shell.execute_reply.started": "2022-05-20T07:17:10.315438Z"
    }
   },
   "outputs": [],
   "source": [
    "X=olivetti.data\n",
    "y=olivetti.target"
   ]
  },
  {
   "cell_type": "code",
   "execution_count": 4,
   "metadata": {
    "execution": {
     "iopub.execute_input": "2022-05-20T07:17:14.022993Z",
     "iopub.status.busy": "2022-05-20T07:17:14.022717Z",
     "iopub.status.idle": "2022-05-20T07:17:14.031135Z",
     "shell.execute_reply": "2022-05-20T07:17:14.030283Z",
     "shell.execute_reply.started": "2022-05-20T07:17:14.022964Z"
    }
   },
   "outputs": [
    {
     "data": {
      "text/plain": [
       "(400, 4096)"
      ]
     },
     "execution_count": 4,
     "metadata": {},
     "output_type": "execute_result"
    }
   ],
   "source": [
    "olivetti.data.shape"
   ]
  },
  {
   "cell_type": "code",
   "execution_count": 5,
   "metadata": {
    "execution": {
     "iopub.execute_input": "2022-05-20T07:17:16.686138Z",
     "iopub.status.busy": "2022-05-20T07:17:16.685736Z",
     "iopub.status.idle": "2022-05-20T07:17:16.694519Z",
     "shell.execute_reply": "2022-05-20T07:17:16.693957Z",
     "shell.execute_reply.started": "2022-05-20T07:17:16.686104Z"
    }
   },
   "outputs": [],
   "source": [
    "def plot_faces(faces, faces_per_row = 5, **options):\n",
    "    size = 64\n",
    "    \n",
    "    faces_per_row = min(len(faces), faces_per_row)\n",
    "    n_rows = (len(faces) - 1) // faces_per_row + 1\n",
    "\n",
    "    # Append empty images to fill the end of the grid, if needed:\n",
    "    n_empty = n_rows * faces_per_row - len(faces)\n",
    "    padded_faces = np.concatenate([faces, np.zeros((n_empty, size * size))], axis=0)\n",
    "\n",
    "    # Reshape the array so it's organized as a grid containing 40×40 images:\n",
    "    image_grid = padded_faces.reshape((n_rows, faces_per_row, size, size))\n",
    "\n",
    "    # Combine axes 0 and 2 (vertical image grid axis, and vertical image axis),\n",
    "    # and axes 1 and 3 (horizontal axes). We first need to move the axes that we\n",
    "    # want to combine next to each other, using transpose(), and only then we\n",
    "    # can reshape:\n",
    "    big_image = image_grid.transpose(0, 2, 1, 3).reshape(n_rows * size,\n",
    "                                                         faces_per_row * size)\n",
    "    # Now that we have a big image, we just need to show it:\n",
    "    plt.imshow(big_image, cmap = mpl.cm.binary, **options)\n",
    "    plt.axis(\"off\")\n",
    "    "
   ]
  },
  {
   "cell_type": "code",
   "execution_count": 6,
   "metadata": {
    "execution": {
     "iopub.execute_input": "2022-05-20T07:17:18.408613Z",
     "iopub.status.busy": "2022-05-20T07:17:18.408096Z",
     "iopub.status.idle": "2022-05-20T07:17:18.528486Z",
     "shell.execute_reply": "2022-05-20T07:17:18.527553Z",
     "shell.execute_reply.started": "2022-05-20T07:17:18.408573Z"
    }
   },
   "outputs": [
    {
     "data": {
      "image/png": "[encoded data removed]",
      "text/plain": [
       "<Figure size 432x288 with 1 Axes>"
      ]
     },
     "metadata": {
      "needs_background": "light"
     },
     "output_type": "display_data"
    }
   ],
   "source": [
    "plot_faces(X[:20])"
   ]
  },
  {
   "cell_type": "code",
   "execution_count": 7,
   "metadata": {
    "execution": {
     "iopub.execute_input": "2022-05-20T07:17:22.498048Z",
     "iopub.status.busy": "2022-05-20T07:17:22.497762Z",
     "iopub.status.idle": "2022-05-20T07:17:22.560794Z",
     "shell.execute_reply": "2022-05-20T07:17:22.560291Z",
     "shell.execute_reply.started": "2022-05-20T07:17:22.498004Z"
    }
   },
   "outputs": [
    {
     "data": {
      "text/plain": [
       "((252, 4096), (252,))"
      ]
     },
     "execution_count": 7,
     "metadata": {},
     "output_type": "execute_result"
    }
   ],
   "source": [
    "from sklearn.model_selection import StratifiedShuffleSplit\n",
    "\n",
    "sss = StratifiedShuffleSplit(n_splits = 1, test_size = 0.1, random_state = 42)\n",
    "for (train, test) in sss.split(X, y):\n",
    "    X_train_valid = X[train]\n",
    "    y_train_valid = y[train]\n",
    "    X_test = X[test]\n",
    "    y_test = y[test]\n",
    "    \n",
    "sss = StratifiedShuffleSplit(n_splits = 1, test_size = 0.3, random_state = 42)\n",
    "for (train, test) in sss.split(X_train_valid, y_train_valid):\n",
    "    X_train = X_train_valid[train]\n",
    "    y_train = y_train_valid[train]\n",
    "    X_valid = X_train_valid[test]\n",
    "    y_valid = y_train_valid[test]\n",
    "        \n",
    "    \n",
    "X_train.shape, y_train.shape"
   ]
  },
  {
   "cell_type": "code",
   "execution_count": 8,
   "metadata": {
    "execution": {
     "iopub.execute_input": "2022-05-20T07:17:24.385957Z",
     "iopub.status.busy": "2022-05-20T07:17:24.385136Z",
     "iopub.status.idle": "2022-05-20T07:19:21.900931Z",
     "shell.execute_reply": "2022-05-20T07:19:21.899916Z",
     "shell.execute_reply.started": "2022-05-20T07:17:24.385905Z"
    }
   },
   "outputs": [],
   "source": [
    "from sklearn.cluster import KMeans\n",
    "\n",
    "n_clusters_list = np.arange(5, 150, 5)\n",
    "kmeans_list = [KMeans(n_clusters = n, random_state=42).fit(X_train) for n in n_clusters_list]"
   ]
  },
  {
   "cell_type": "code",
   "execution_count": 9,
   "metadata": {
    "execution": {
     "iopub.execute_input": "2022-05-20T08:22:59.161498Z",
     "iopub.status.busy": "2022-05-20T08:22:59.161104Z",
     "iopub.status.idle": "2022-05-20T08:22:59.256348Z",
     "shell.execute_reply": "2022-05-20T08:22:59.25508Z",
     "shell.execute_reply.started": "2022-05-20T08:22:59.1614Z"
    }
   },
   "outputs": [
    {
     "data": {
      "text/plain": [
       "(29, 29)"
      ]
     },
     "execution_count": 9,
     "metadata": {},
     "output_type": "execute_result"
    }
   ],
   "source": [
    "len(n_clusters_list), len(kmeans_list)"
   ]
  },
  {
   "cell_type": "code",
   "execution_count": 10,
   "metadata": {
    "execution": {
     "iopub.execute_input": "2022-05-15T14:49:45.629443Z",
     "iopub.status.busy": "2022-05-15T14:49:45.6287Z",
     "iopub.status.idle": "2022-05-15T14:49:45.637029Z",
     "shell.execute_reply": "2022-05-15T14:49:45.636413Z",
     "shell.execute_reply.started": "2022-05-15T14:49:45.629407Z"
    }
   },
   "outputs": [
    {
     "data": {
      "text/plain": [
       "[13621.9619140625,\n",
       " 11891.50390625,\n",
       " 10831.814453125,\n",
       " 9917.8671875,\n",
       " 8948.228515625,\n",
       " 8357.080078125,\n",
       " 7675.83203125,\n",
       " 7150.0546875,\n",
       " 6688.05859375,\n",
       " 6210.11279296875,\n",
       " 5754.7900390625,\n",
       " 5431.9443359375,\n",
       " 5020.7548828125,\n",
       " 4701.3076171875,\n",
       " 4356.1435546875,\n",
       " 4104.607421875,\n",
       " 3823.978271484375,\n",
       " 3606.24853515625,\n",
       " 3334.1796875,\n",
       " 3133.188720703125,\n",
       " 2958.720458984375,\n",
       " 2755.2275390625,\n",
       " 2580.43359375,\n",
       " 2419.159912109375,\n",
       " 2277.469482421875,\n",
       " 2105.372802734375,\n",
       " 1961.364501953125,\n",
       " 1801.244873046875,\n",
       " 1647.961181640625]"
      ]
     },
     "execution_count": 10,
     "metadata": {},
     "output_type": "execute_result"
    }
   ],
   "source": [
    "[kmeans.inertia_ for kmeans in kmeans_list]"
   ]
  },
  {
   "cell_type": "code",
   "execution_count": 11,
   "metadata": {
    "execution": {
     "iopub.execute_input": "2022-05-15T14:49:47.20175Z",
     "iopub.status.busy": "2022-05-15T14:49:47.201492Z",
     "iopub.status.idle": "2022-05-15T14:49:47.490438Z",
     "shell.execute_reply": "2022-05-15T14:49:47.48966Z",
     "shell.execute_reply.started": "2022-05-15T14:49:47.201722Z"
    }
   },
   "outputs": [
    {
     "data": {
      "image/png": "[encoded data removed]",
      "text/plain": [
       "<Figure size 720x252 with 1 Axes>"
      ]
     },
     "metadata": {
      "needs_background": "light"
     },
     "output_type": "display_data"
    }
   ],
   "source": [
    "inertias = [kmeans.inertia_ for kmeans in kmeans_list]\n",
    "plt.figure(figsize=(10, 3.5))\n",
    "plt.plot(n_clusters_list, inertias, \"bo-\")\n",
    "plt.xlabel(\"n_clusters\")\n",
    "plt.axis([0, n_clusters_list[-1]+1, inertias[-1], inertias[0]])\n",
    "plt.show()"
   ]
  },
  {
   "cell_type": "code",
   "execution_count": 12,
   "metadata": {
    "execution": {
     "iopub.execute_input": "2022-05-15T14:49:52.983701Z",
     "iopub.status.busy": "2022-05-15T14:49:52.983355Z",
     "iopub.status.idle": "2022-05-15T14:49:53.819642Z",
     "shell.execute_reply": "2022-05-15T14:49:53.818403Z",
     "shell.execute_reply.started": "2022-05-15T14:49:52.983668Z"
    }
   },
   "outputs": [],
   "source": [
    "from sklearn.metrics import silhouette_score\n",
    "silhouette_scores = [silhouette_score(X_train, kmeans.labels_) for kmeans in kmeans_list]"
   ]
  },
  {
   "cell_type": "code",
   "execution_count": 13,
   "metadata": {
    "execution": {
     "iopub.execute_input": "2022-05-15T14:49:55.129714Z",
     "iopub.status.busy": "2022-05-15T14:49:55.129081Z",
     "iopub.status.idle": "2022-05-15T14:49:55.315744Z",
     "shell.execute_reply": "2022-05-15T14:49:55.314918Z",
     "shell.execute_reply.started": "2022-05-15T14:49:55.129674Z"
    }
   },
   "outputs": [
    {
     "data": {
      "image/png": "[encoded data removed]",
      "text/plain": [
       "<Figure size 720x252 with 1 Axes>"
      ]
     },
     "metadata": {
      "needs_background": "light"
     },
     "output_type": "display_data"
    }
   ],
   "source": [
    "plt.figure(figsize=(10, 3.5))\n",
    "plt.plot(n_clusters_list, silhouette_scores, \"bo-\")\n",
    "plt.xlabel(\"n_clusters\")\n",
    "plt.axis([0, n_clusters_list[-1]+1, min(silhouette_scores), max(silhouette_scores)])\n",
    "plt.show()"
   ]
  },
  {
   "cell_type": "code",
   "execution_count": 14,
   "metadata": {
    "execution": {
     "iopub.execute_input": "2022-05-15T14:50:11.130808Z",
     "iopub.status.busy": "2022-05-15T14:50:11.130512Z",
     "iopub.status.idle": "2022-05-15T14:50:12.248558Z",
     "shell.execute_reply": "2022-05-15T14:50:12.247545Z",
     "shell.execute_reply.started": "2022-05-15T14:50:11.13078Z"
    }
   },
   "outputs": [
    {
     "name": "stdout",
     "output_type": "stream",
     "text": [
      "Cluster: 0\n"
     ]
    },
    {
     "data": {
      "image/png": "[encoded data removed]",
      "text/plain": [
       "<Figure size 432x288 with 1 Axes>"
      ]
     },
     "metadata": {
      "needs_background": "light"
     },
     "output_type": "display_data"
    },
    {
     "name": "stdout",
     "output_type": "stream",
     "text": [
      "Cluster: 1\n"
     ]
    },
    {
     "data": {
      "image/png": "[encoded data removed]",
      "text/plain": [
       "<Figure size 432x288 with 1 Axes>"
      ]
     },
     "metadata": {
      "needs_background": "light"
     },
     "output_type": "display_data"
    },
    {
     "name": "stdout",
     "output_type": "stream",
     "text": [
      "Cluster: 2\n"
     ]
    },
    {
     "data": {
      "image/png": "[encoded data removed]",
      "text/plain": [
       "<Figure size 432x288 with 1 Axes>"
      ]
     },
     "metadata": {
      "needs_background": "light"
     },
     "output_type": "display_data"
    },
    {
     "name": "stdout",
     "output_type": "stream",
     "text": [
      "Cluster: 3\n"
     ]
    },
    {
     "data": {
      "image/png": "[encoded data removed]",
      "text/plain": [
       "<Figure size 432x288 with 1 Axes>"
      ]
     },
     "metadata": {
      "needs_background": "light"
     },
     "output_type": "display_data"
    },
    {
     "name": "stdout",
     "output_type": "stream",
     "text": [
      "Cluster: 4\n"
     ]
    },
    {
     "data": {
      "image/png": "[encoded data removed]",
      "text/plain": [
       "<Figure size 432x288 with 1 Axes>"
      ]
     },
     "metadata": {
      "needs_background": "light"
     },
     "output_type": "display_data"
    },
    {
     "name": "stdout",
     "output_type": "stream",
     "text": [
      "Cluster: 5\n"
     ]
    },
    {
     "data": {
      "image/png": "[encoded data removed]",
      "text/plain": [
       "<Figure size 432x288 with 1 Axes>"
      ]
     },
     "metadata": {
      "needs_background": "light"
     },
     "output_type": "display_data"
    },
    {
     "name": "stdout",
     "output_type": "stream",
     "text": [
      "Cluster: 6\n"
     ]
    },
    {
     "data": {
      "image/png": "[encoded data removed]",
      "text/plain": [
       "<Figure size 432x288 with 1 Axes>"
      ]
     },
     "metadata": {
      "needs_background": "light"
     },
     "output_type": "display_data"
    },
    {
     "name": "stdout",
     "output_type": "stream",
     "text": [
      "Cluster: 7\n"
     ]
    },
    {
     "data": {
      "image/png": "[encoded data removed]",
      "text/plain": [
       "<Figure size 432x288 with 1 Axes>"
      ]
     },
     "metadata": {
      "needs_background": "light"
     },
     "output_type": "display_data"
    },
    {
     "name": "stdout",
     "output_type": "stream",
     "text": [
      "Cluster: 8\n"
     ]
    },
    {
     "data": {
      "image/png": "[encoded data removed]",
      "text/plain": [
       "<Figure size 432x288 with 1 Axes>"
      ]
     },
     "metadata": {
      "needs_background": "light"
     },
     "output_type": "display_data"
    },
    {
     "name": "stdout",
     "output_type": "stream",
     "text": [
      "Cluster: 9\n"
     ]
    },
    {
     "data": {
      "image/png": "[encoded data removed]",
      "text/plain": [
       "<Figure size 432x288 with 1 Axes>"
      ]
     },
     "metadata": {
      "needs_background": "light"
     },
     "output_type": "display_data"
    }
   ],
   "source": [
    "n_clusters = 95\n",
    "kmeans_index = np.where(n_clusters_list==n_clusters)[0][0]\n",
    "kmeans = kmeans_list[kmeans_index]\n",
    "\n",
    "for cluster in range(min(n_clusters, 10)):\n",
    "    print(\"Cluster:\", cluster)\n",
    "    faces = X_train[kmeans.labels_==cluster]\n",
    "    plot_faces(faces[:10], faces_per_row = 10)\n",
    "    plt.show()"
   ]
  },
  {
   "cell_type": "markdown",
   "metadata": {},
   "source": [
    "## Exercise 11"
   ]
  },
  {
   "cell_type": "code",
   "execution_count": 15,
   "metadata": {
    "execution": {
     "iopub.execute_input": "2022-05-15T14:52:40.698926Z",
     "iopub.status.busy": "2022-05-15T14:52:40.698597Z",
     "iopub.status.idle": "2022-05-15T14:52:47.606945Z",
     "shell.execute_reply": "2022-05-15T14:52:47.606153Z",
     "shell.execute_reply.started": "2022-05-15T14:52:40.698891Z"
    }
   },
   "outputs": [
    {
     "data": {
      "text/html": [
       "<style>#sk-container-id-1 {color: black;background-color: white;}#sk-container-id-1 pre{padding: 0;}#sk-container-id-1 div.sk-toggleable {background-color: white;}#sk-container-id-1 label.sk-toggleable__label {cursor: pointer;display: block;width: 100%;margin-bottom: 0;padding: 0.3em;box-sizing: border-box;text-align: center;}#sk-container-id-1 label.sk-toggleable__label-arrow:before {content: \"▸\";float: left;margin-right: 0.25em;color: #696969;}#sk-container-id-1 label.sk-toggleable__label-arrow:hover:before {color: black;}#sk-container-id-1 div.sk-estimator:hover label.sk-toggleable__label-arrow:before {color: black;}#sk-container-id-1 div.sk-toggleable__content {max-height: 0;max-width: 0;overflow: hidden;text-align: left;background-color: #f0f8ff;}#sk-container-id-1 div.sk-toggleable__content pre {margin: 0.2em;color: black;border-radius: 0.25em;background-color: #f0f8ff;}#sk-container-id-1 input.sk-toggleable__control:checked~div.sk-toggleable__content {max-height: 200px;max-width: 100%;overflow: auto;}#sk-container-id-1 input.sk-toggleable__control:checked~label.sk-toggleable__label-arrow:before {content: \"▾\";}#sk-container-id-1 div.sk-estimator input.sk-toggleable__control:checked~label.sk-toggleable__label {background-color: #d4ebff;}#sk-container-id-1 div.sk-label input.sk-toggleable__control:checked~label.sk-toggleable__label {background-color: #d4ebff;}#sk-container-id-1 input.sk-hidden--visually {border: 0;clip: rect(1px 1px 1px 1px);clip: rect(1px, 1px, 1px, 1px);height: 1px;margin: -1px;overflow: hidden;padding: 0;position: absolute;width: 1px;}#sk-container-id-1 div.sk-estimator {font-family: monospace;background-color: #f0f8ff;border: 1px dotted black;border-radius: 0.25em;box-sizing: border-box;margin-bottom: 0.5em;}#sk-container-id-1 div.sk-estimator:hover {background-color: #d4ebff;}#sk-container-id-1 div.sk-parallel-item::after {content: \"\";width: 100%;border-bottom: 1px solid gray;flex-grow: 1;}#sk-container-id-1 div.sk-label:hover label.sk-toggleable__label {background-color: #d4ebff;}#sk-container-id-1 div.sk-serial::before {content: \"\";position: absolute;border-left: 1px solid gray;box-sizing: border-box;top: 0;bottom: 0;left: 50%;z-index: 0;}#sk-container-id-1 div.sk-serial {display: flex;flex-direction: column;align-items: center;background-color: white;padding-right: 0.2em;padding-left: 0.2em;position: relative;}#sk-container-id-1 div.sk-item {position: relative;z-index: 1;}#sk-container-id-1 div.sk-parallel {display: flex;align-items: stretch;justify-content: center;background-color: white;position: relative;}#sk-container-id-1 div.sk-item::before, #sk-container-id-1 div.sk-parallel-item::before {content: \"\";position: absolute;border-left: 1px solid gray;box-sizing: border-box;top: 0;bottom: 0;left: 50%;z-index: -1;}#sk-container-id-1 div.sk-parallel-item {display: flex;flex-direction: column;z-index: 1;position: relative;background-color: white;}#sk-container-id-1 div.sk-parallel-item:first-child::after {align-self: flex-end;width: 50%;}#sk-container-id-1 div.sk-parallel-item:last-child::after {align-self: flex-start;width: 50%;}#sk-container-id-1 div.sk-parallel-item:only-child::after {width: 0;}#sk-container-id-1 div.sk-dashed-wrapped {border: 1px dashed gray;margin: 0 0.4em 0.5em 0.4em;box-sizing: border-box;padding-bottom: 0.4em;background-color: white;}#sk-container-id-1 div.sk-label label {font-family: monospace;font-weight: bold;display: inline-block;line-height: 1.2em;}#sk-container-id-1 div.sk-label-container {text-align: center;}#sk-container-id-1 div.sk-container {/* jupyter's `normalize.less` sets `[hidden] { display: none; }` but bootstrap.min.css set `[hidden] { display: none !important; }` so we also need the `!important` here to be able to override the default hidden behavior on the sphinx rendered scikit-learn.org. See: https://github.com/scikit-learn/scikit-learn/issues/21755 */display: inline-block !important;position: relative;}#sk-container-id-1 div.sk-text-repr-fallback {display: none;}</style><div id=\"sk-container-id-1\" class=\"sk-top-container\"><div class=\"sk-text-repr-fallback\"><pre>LogisticRegression(max_iter=5000, multi_class=&#x27;ovr&#x27;, random_state=42)</pre><b>In a Jupyter environment, please rerun this cell to show the HTML representation or trust the notebook. <br />On GitHub, the HTML representation is unable to render, please try loading this page with nbviewer.org.</b></div><div class=\"sk-container\" hidden><div class=\"sk-item\"><div class=\"sk-estimator sk-toggleable\"><input class=\"sk-toggleable__control sk-hidden--visually\" id=\"sk-estimator-id-1\" type=\"checkbox\" checked><label for=\"sk-estimator-id-1\" class=\"sk-toggleable__label sk-toggleable__label-arrow\">LogisticRegression</label><div class=\"sk-toggleable__content\"><pre>LogisticRegression(max_iter=5000, multi_class=&#x27;ovr&#x27;, random_state=42)</pre></div></div></div></div></div>"
      ],
      "text/plain": [
       "LogisticRegression(max_iter=5000, multi_class='ovr', random_state=42)"
      ]
     },
     "execution_count": 15,
     "metadata": {},
     "output_type": "execute_result"
    }
   ],
   "source": [
    "from sklearn.linear_model import LogisticRegression\n",
    "\n",
    "log_reg = LogisticRegression(multi_class=\"ovr\", solver=\"lbfgs\", max_iter=5000, random_state=42)\n",
    "log_reg.fit(X_train, y_train)"
   ]
  },
  {
   "cell_type": "code",
   "execution_count": 16,
   "metadata": {
    "execution": {
     "iopub.execute_input": "2022-05-15T14:53:11.650691Z",
     "iopub.status.busy": "2022-05-15T14:53:11.650337Z",
     "iopub.status.idle": "2022-05-15T14:53:11.667494Z",
     "shell.execute_reply": "2022-05-15T14:53:11.66625Z",
     "shell.execute_reply.started": "2022-05-15T14:53:11.650657Z"
    }
   },
   "outputs": [
    {
     "data": {
      "text/plain": [
       "0.9722222222222222"
      ]
     },
     "execution_count": 16,
     "metadata": {},
     "output_type": "execute_result"
    }
   ],
   "source": [
    "log_reg_score = log_reg.score(X_valid, y_valid)\n",
    "log_reg_score"
   ]
  },
  {
   "cell_type": "code",
   "execution_count": 17,
   "metadata": {
    "execution": {
     "iopub.execute_input": "2022-05-15T14:54:46.515843Z",
     "iopub.status.busy": "2022-05-15T14:54:46.515539Z",
     "iopub.status.idle": "2022-05-15T14:54:56.648518Z",
     "shell.execute_reply": "2022-05-15T14:54:56.64761Z",
     "shell.execute_reply.started": "2022-05-15T14:54:46.515802Z"
    }
   },
   "outputs": [
    {
     "data": {
      "text/html": [
       "<style>#sk-container-id-2 {color: black;background-color: white;}#sk-container-id-2 pre{padding: 0;}#sk-container-id-2 div.sk-toggleable {background-color: white;}#sk-container-id-2 label.sk-toggleable__label {cursor: pointer;display: block;width: 100%;margin-bottom: 0;padding: 0.3em;box-sizing: border-box;text-align: center;}#sk-container-id-2 label.sk-toggleable__label-arrow:before {content: \"▸\";float: left;margin-right: 0.25em;color: #696969;}#sk-container-id-2 label.sk-toggleable__label-arrow:hover:before {color: black;}#sk-container-id-2 div.sk-estimator:hover label.sk-toggleable__label-arrow:before {color: black;}#sk-container-id-2 div.sk-toggleable__content {max-height: 0;max-width: 0;overflow: hidden;text-align: left;background-color: #f0f8ff;}#sk-container-id-2 div.sk-toggleable__content pre {margin: 0.2em;color: black;border-radius: 0.25em;background-color: #f0f8ff;}#sk-container-id-2 input.sk-toggleable__control:checked~div.sk-toggleable__content {max-height: 200px;max-width: 100%;overflow: auto;}#sk-container-id-2 input.sk-toggleable__control:checked~label.sk-toggleable__label-arrow:before {content: \"▾\";}#sk-container-id-2 div.sk-estimator input.sk-toggleable__control:checked~label.sk-toggleable__label {background-color: #d4ebff;}#sk-container-id-2 div.sk-label input.sk-toggleable__control:checked~label.sk-toggleable__label {background-color: #d4ebff;}#sk-container-id-2 input.sk-hidden--visually {border: 0;clip: rect(1px 1px 1px 1px);clip: rect(1px, 1px, 1px, 1px);height: 1px;margin: -1px;overflow: hidden;padding: 0;position: absolute;width: 1px;}#sk-container-id-2 div.sk-estimator {font-family: monospace;background-color: #f0f8ff;border: 1px dotted black;border-radius: 0.25em;box-sizing: border-box;margin-bottom: 0.5em;}#sk-container-id-2 div.sk-estimator:hover {background-color: #d4ebff;}#sk-container-id-2 div.sk-parallel-item::after {content: \"\";width: 100%;border-bottom: 1px solid gray;flex-grow: 1;}#sk-container-id-2 div.sk-label:hover label.sk-toggleable__label {background-color: #d4ebff;}#sk-container-id-2 div.sk-serial::before {content: \"\";position: absolute;border-left: 1px solid gray;box-sizing: border-box;top: 0;bottom: 0;left: 50%;z-index: 0;}#sk-container-id-2 div.sk-serial {display: flex;flex-direction: column;align-items: center;background-color: white;padding-right: 0.2em;padding-left: 0.2em;position: relative;}#sk-container-id-2 div.sk-item {position: relative;z-index: 1;}#sk-container-id-2 div.sk-parallel {display: flex;align-items: stretch;justify-content: center;background-color: white;position: relative;}#sk-container-id-2 div.sk-item::before, #sk-container-id-2 div.sk-parallel-item::before {content: \"\";position: absolute;border-left: 1px solid gray;box-sizing: border-box;top: 0;bottom: 0;left: 50%;z-index: -1;}#sk-container-id-2 div.sk-parallel-item {display: flex;flex-direction: column;z-index: 1;position: relative;background-color: white;}#sk-container-id-2 div.sk-parallel-item:first-child::after {align-self: flex-end;width: 50%;}#sk-container-id-2 div.sk-parallel-item:last-child::after {align-self: flex-start;width: 50%;}#sk-container-id-2 div.sk-parallel-item:only-child::after {width: 0;}#sk-container-id-2 div.sk-dashed-wrapped {border: 1px dashed gray;margin: 0 0.4em 0.5em 0.4em;box-sizing: border-box;padding-bottom: 0.4em;background-color: white;}#sk-container-id-2 div.sk-label label {font-family: monospace;font-weight: bold;display: inline-block;line-height: 1.2em;}#sk-container-id-2 div.sk-label-container {text-align: center;}#sk-container-id-2 div.sk-container {/* jupyter's `normalize.less` sets `[hidden] { display: none; }` but bootstrap.min.css set `[hidden] { display: none !important; }` so we also need the `!important` here to be able to override the default hidden behavior on the sphinx rendered scikit-learn.org. See: https://github.com/scikit-learn/scikit-learn/issues/21755 */display: inline-block !important;position: relative;}#sk-container-id-2 div.sk-text-repr-fallback {display: none;}</style><div id=\"sk-container-id-2\" class=\"sk-top-container\"><div class=\"sk-text-repr-fallback\"><pre>Pipeline(steps=[(&#x27;kmeans&#x27;, KMeans(n_clusters=100, random_state=42)),\n",
       "                (&#x27;log_reg&#x27;,\n",
       "                 LogisticRegression(max_iter=5000, multi_class=&#x27;ovr&#x27;,\n",
       "                                    random_state=42))])</pre><b>In a Jupyter environment, please rerun this cell to show the HTML representation or trust the notebook. <br />On GitHub, the HTML representation is unable to render, please try loading this page with nbviewer.org.</b></div><div class=\"sk-container\" hidden><div class=\"sk-item sk-dashed-wrapped\"><div class=\"sk-label-container\"><div class=\"sk-label sk-toggleable\"><input class=\"sk-toggleable__control sk-hidden--visually\" id=\"sk-estimator-id-2\" type=\"checkbox\" ><label for=\"sk-estimator-id-2\" class=\"sk-toggleable__label sk-toggleable__label-arrow\">Pipeline</label><div class=\"sk-toggleable__content\"><pre>Pipeline(steps=[(&#x27;kmeans&#x27;, KMeans(n_clusters=100, random_state=42)),\n",
       "                (&#x27;log_reg&#x27;,\n",
       "                 LogisticRegression(max_iter=5000, multi_class=&#x27;ovr&#x27;,\n",
       "                                    random_state=42))])</pre></div></div></div><div class=\"sk-serial\"><div class=\"sk-item\"><div class=\"sk-estimator sk-toggleable\"><input class=\"sk-toggleable__control sk-hidden--visually\" id=\"sk-estimator-id-3\" type=\"checkbox\" ><label for=\"sk-estimator-id-3\" class=\"sk-toggleable__label sk-toggleable__label-arrow\">KMeans</label><div class=\"sk-toggleable__content\"><pre>KMeans(n_clusters=100, random_state=42)</pre></div></div></div><div class=\"sk-item\"><div class=\"sk-estimator sk-toggleable\"><input class=\"sk-toggleable__control sk-hidden--visually\" id=\"sk-estimator-id-4\" type=\"checkbox\" ><label for=\"sk-estimator-id-4\" class=\"sk-toggleable__label sk-toggleable__label-arrow\">LogisticRegression</label><div class=\"sk-toggleable__content\"><pre>LogisticRegression(max_iter=5000, multi_class=&#x27;ovr&#x27;, random_state=42)</pre></div></div></div></div></div></div></div>"
      ],
      "text/plain": [
       "Pipeline(steps=[('kmeans', KMeans(n_clusters=100, random_state=42)),\n",
       "                ('log_reg',\n",
       "                 LogisticRegression(max_iter=5000, multi_class='ovr',\n",
       "                                    random_state=42))])"
      ]
     },
     "execution_count": 17,
     "metadata": {},
     "output_type": "execute_result"
    }
   ],
   "source": [
    "from sklearn.pipeline import Pipeline\n",
    "\n",
    "pipeline = Pipeline([\n",
    "    (\"kmeans\", KMeans(n_clusters=100, random_state=42)),\n",
    "    (\"log_reg\", LogisticRegression(multi_class=\"ovr\", solver=\"lbfgs\", max_iter=5000, random_state=42)),\n",
    "])\n",
    "pipeline.fit(X_train, y_train)"
   ]
  },
  {
   "cell_type": "code",
   "execution_count": 18,
   "metadata": {
    "execution": {
     "iopub.execute_input": "2022-05-15T14:55:23.688077Z",
     "iopub.status.busy": "2022-05-15T14:55:23.687049Z",
     "iopub.status.idle": "2022-05-15T14:55:23.702351Z",
     "shell.execute_reply": "2022-05-15T14:55:23.701443Z",
     "shell.execute_reply.started": "2022-05-15T14:55:23.688034Z"
    }
   },
   "outputs": [
    {
     "data": {
      "text/plain": [
       "0.9259259259259259"
      ]
     },
     "execution_count": 18,
     "metadata": {},
     "output_type": "execute_result"
    }
   ],
   "source": [
    "pipeline_score = pipeline.score(X_valid, y_valid)\n",
    "pipeline_score"
   ]
  },
  {
   "cell_type": "code",
   "execution_count": 19,
   "metadata": {
    "execution": {
     "iopub.execute_input": "2022-05-15T14:56:36.375194Z",
     "iopub.status.busy": "2022-05-15T14:56:36.374584Z",
     "iopub.status.idle": "2022-05-15T15:08:30.708575Z",
     "shell.execute_reply": "2022-05-15T15:08:30.707719Z",
     "shell.execute_reply.started": "2022-05-15T14:56:36.37514Z"
    }
   },
   "outputs": [
    {
     "name": "stdout",
     "output_type": "stream",
     "text": [
      "Fitting 3 folds for each of 39 candidates, totalling 117 fits\n",
      "[CV] END ...............................kmeans__n_clusters=5; total time=   0.9s\n",
      "[CV] END ...............................kmeans__n_clusters=5; total time=   1.1s\n",
      "[CV] END ...............................kmeans__n_clusters=5; total time=   1.0s\n",
      "[CV] END ..............................kmeans__n_clusters=10; total time=   1.9s\n",
      "[CV] END ..............................kmeans__n_clusters=10; total time=   1.8s\n",
      "[CV] END ..............................kmeans__n_clusters=10; total time=   1.7s\n",
      "[CV] END ..............................kmeans__n_clusters=15; total time=   2.2s\n",
      "[CV] END ..............................kmeans__n_clusters=15; total time=   2.5s\n",
      "[CV] END ..............................kmeans__n_clusters=15; total time=   2.4s\n",
      "[CV] END ..............................kmeans__n_clusters=20; total time=   3.3s\n",
      "[CV] END ..............................kmeans__n_clusters=20; total time=   3.8s\n",
      "[CV] END ..............................kmeans__n_clusters=20; total time=   4.1s\n",
      "[CV] END ..............................kmeans__n_clusters=25; total time=   4.9s\n",
      "[CV] END ..............................kmeans__n_clusters=25; total time=   4.5s\n",
      "[CV] END ..............................kmeans__n_clusters=25; total time=   5.4s\n",
      "[CV] END ..............................kmeans__n_clusters=30; total time=   4.2s\n",
      "[CV] END ..............................kmeans__n_clusters=30; total time=   3.2s\n",
      "[CV] END ..............................kmeans__n_clusters=30; total time=   3.0s\n",
      "[CV] END ..............................kmeans__n_clusters=35; total time=   3.3s\n",
      "[CV] END ..............................kmeans__n_clusters=35; total time=   3.4s\n",
      "[CV] END ..............................kmeans__n_clusters=35; total time=   4.0s\n",
      "[CV] END ..............................kmeans__n_clusters=40; total time=   3.7s\n",
      "[CV] END ..............................kmeans__n_clusters=40; total time=   3.9s\n",
      "[CV] END ..............................kmeans__n_clusters=40; total time=   4.1s\n",
      "[CV] END ..............................kmeans__n_clusters=45; total time=   3.9s\n",
      "[CV] END ..............................kmeans__n_clusters=45; total time=   3.8s\n",
      "[CV] END ..............................kmeans__n_clusters=45; total time=   3.9s\n",
      "[CV] END ..............................kmeans__n_clusters=50; total time=   4.1s\n",
      "[CV] END ..............................kmeans__n_clusters=50; total time=   4.1s\n",
      "[CV] END ..............................kmeans__n_clusters=50; total time=   4.2s\n",
      "[CV] END ..............................kmeans__n_clusters=55; total time=   7.8s\n",
      "[CV] END ..............................kmeans__n_clusters=55; total time=   6.8s\n",
      "[CV] END ..............................kmeans__n_clusters=55; total time=   6.2s\n",
      "[CV] END ..............................kmeans__n_clusters=60; total time=  10.1s\n",
      "[CV] END ..............................kmeans__n_clusters=60; total time=   7.6s\n",
      "[CV] END ..............................kmeans__n_clusters=60; total time=   7.1s\n",
      "[CV] END ..............................kmeans__n_clusters=65; total time=   7.6s\n",
      "[CV] END ..............................kmeans__n_clusters=65; total time=   7.9s\n",
      "[CV] END ..............................kmeans__n_clusters=65; total time=   7.2s\n",
      "[CV] END ..............................kmeans__n_clusters=70; total time=   7.9s\n",
      "[CV] END ..............................kmeans__n_clusters=70; total time=   9.4s\n",
      "[CV] END ..............................kmeans__n_clusters=70; total time=   9.4s\n",
      "[CV] END ..............................kmeans__n_clusters=75; total time=   8.3s\n",
      "[CV] END ..............................kmeans__n_clusters=75; total time=  14.7s\n",
      "[CV] END ..............................kmeans__n_clusters=75; total time=  10.3s\n",
      "[CV] END ..............................kmeans__n_clusters=80; total time=  10.0s\n",
      "[CV] END ..............................kmeans__n_clusters=80; total time=   8.8s\n",
      "[CV] END ..............................kmeans__n_clusters=80; total time=   8.4s\n",
      "[CV] END ..............................kmeans__n_clusters=85; total time=   8.9s\n",
      "[CV] END ..............................kmeans__n_clusters=85; total time=   7.9s\n",
      "[CV] END ..............................kmeans__n_clusters=85; total time=   7.4s\n",
      "[CV] END ..............................kmeans__n_clusters=90; total time=   8.0s\n",
      "[CV] END ..............................kmeans__n_clusters=90; total time=   7.9s\n",
      "[CV] END ..............................kmeans__n_clusters=90; total time=   7.8s\n",
      "[CV] END ..............................kmeans__n_clusters=95; total time=   8.4s\n",
      "[CV] END ..............................kmeans__n_clusters=95; total time=   8.1s\n",
      "[CV] END ..............................kmeans__n_clusters=95; total time=  10.1s\n",
      "[CV] END .............................kmeans__n_clusters=100; total time=   8.8s\n",
      "[CV] END .............................kmeans__n_clusters=100; total time=   8.4s\n",
      "[CV] END .............................kmeans__n_clusters=100; total time=   9.3s\n",
      "[CV] END .............................kmeans__n_clusters=105; total time=   8.7s\n",
      "[CV] END .............................kmeans__n_clusters=105; total time=   9.7s\n",
      "[CV] END .............................kmeans__n_clusters=105; total time=   9.0s\n",
      "[CV] END .............................kmeans__n_clusters=110; total time=   9.9s\n",
      "[CV] END .............................kmeans__n_clusters=110; total time=   8.9s\n",
      "[CV] END .............................kmeans__n_clusters=110; total time=   9.3s\n",
      "[CV] END .............................kmeans__n_clusters=115; total time=   9.0s\n",
      "[CV] END .............................kmeans__n_clusters=115; total time=   9.4s\n",
      "[CV] END .............................kmeans__n_clusters=115; total time=  10.2s\n",
      "[CV] END .............................kmeans__n_clusters=120; total time=  10.6s\n",
      "[CV] END .............................kmeans__n_clusters=120; total time=  14.2s\n",
      "[CV] END .............................kmeans__n_clusters=120; total time=  12.9s\n",
      "[CV] END .............................kmeans__n_clusters=125; total time=  16.7s\n",
      "[CV] END .............................kmeans__n_clusters=125; total time=  12.3s\n",
      "[CV] END .............................kmeans__n_clusters=125; total time=  10.9s\n",
      "[CV] END .............................kmeans__n_clusters=130; total time=  11.8s\n",
      "[CV] END .............................kmeans__n_clusters=130; total time=  14.9s\n",
      "[CV] END .............................kmeans__n_clusters=130; total time=  15.3s\n",
      "[CV] END .............................kmeans__n_clusters=135; total time=  12.2s\n",
      "[CV] END .............................kmeans__n_clusters=135; total time=  10.4s\n",
      "[CV] END .............................kmeans__n_clusters=135; total time=  10.1s\n",
      "[CV] END .............................kmeans__n_clusters=140; total time=  13.3s\n",
      "[CV] END .............................kmeans__n_clusters=140; total time=  12.8s\n",
      "[CV] END .............................kmeans__n_clusters=140; total time=  11.0s\n",
      "[CV] END .............................kmeans__n_clusters=145; total time=  11.7s\n",
      "[CV] END .............................kmeans__n_clusters=145; total time=  11.1s\n",
      "[CV] END .............................kmeans__n_clusters=145; total time=  12.9s\n",
      "[CV] END .............................kmeans__n_clusters=150; total time=  13.8s\n",
      "[CV] END .............................kmeans__n_clusters=150; total time=  11.8s\n",
      "[CV] END .............................kmeans__n_clusters=150; total time=  11.2s\n",
      "[CV] END .............................kmeans__n_clusters=155; total time=  11.1s\n",
      "[CV] END .............................kmeans__n_clusters=155; total time=  11.1s\n",
      "[CV] END .............................kmeans__n_clusters=155; total time=  11.4s\n",
      "[CV] END .............................kmeans__n_clusters=160; total time=  12.1s\n",
      "[CV] END .............................kmeans__n_clusters=160; total time=  13.9s\n",
      "[CV] END .............................kmeans__n_clusters=160; total time=  14.9s\n",
      "[CV] END .............................kmeans__n_clusters=165; total time=  13.4s\n",
      "[CV] END .............................kmeans__n_clusters=165; total time=  13.3s\n",
      "[CV] END .............................kmeans__n_clusters=165; total time=  14.2s\n",
      "[CV] END .............................kmeans__n_clusters=170; total time=   0.0s\n",
      "[CV] END .............................kmeans__n_clusters=170; total time=   0.0s\n",
      "[CV] END .............................kmeans__n_clusters=170; total time=   0.0s\n",
      "[CV] END .............................kmeans__n_clusters=175; total time=   0.0s\n",
      "[CV] END .............................kmeans__n_clusters=175; total time=   0.0s\n",
      "[CV] END .............................kmeans__n_clusters=175; total time=   0.0s\n",
      "[CV] END .............................kmeans__n_clusters=180; total time=   0.0s\n",
      "[CV] END .............................kmeans__n_clusters=180; total time=   0.0s\n",
      "[CV] END .............................kmeans__n_clusters=180; total time=   0.0s\n",
      "[CV] END .............................kmeans__n_clusters=185; total time=   0.0s\n",
      "[CV] END .............................kmeans__n_clusters=185; total time=   0.0s\n",
      "[CV] END .............................kmeans__n_clusters=185; total time=   0.0s\n",
      "[CV] END .............................kmeans__n_clusters=190; total time=   0.0s\n",
      "[CV] END .............................kmeans__n_clusters=190; total time=   0.0s\n",
      "[CV] END .............................kmeans__n_clusters=190; total time=   0.0s\n",
      "[CV] END .............................kmeans__n_clusters=195; total time=   0.0s\n",
      "[CV] END .............................kmeans__n_clusters=195; total time=   0.0s\n",
      "[CV] END .............................kmeans__n_clusters=195; total time=   0.0s\n"
     ]
    },
    {
     "name": "stderr",
     "output_type": "stream",
     "text": [
      "/usr/local/lib/python3.10/dist-packages/sklearn/model_selection/_validation.py:378: FitFailedWarning: \n",
      "18 fits failed out of a total of 117.\n",
      "The score on these train-test partitions for these parameters will be set to nan.\n",
      "If these failures are not expected, you can try to debug them by setting error_score='raise'.\n",
      "\n",
      "Below are more details about the failures:\n",
      "--------------------------------------------------------------------------------\n",
      "3 fits failed with the following error:\n",
      "Traceback (most recent call last):\n",
      "  File \"/usr/local/lib/python3.10/dist-packages/sklearn/model_selection/_validation.py\", line 686, in _fit_and_score\n",
      "    estimator.fit(X_train, y_train, **fit_params)\n",
      "  File \"/usr/local/lib/python3.10/dist-packages/sklearn/pipeline.py\", line 378, in fit\n",
      "    Xt = self._fit(X, y, **fit_params_steps)\n",
      "  File \"/usr/local/lib/python3.10/dist-packages/sklearn/pipeline.py\", line 336, in _fit\n",
      "    X, fitted_transformer = fit_transform_one_cached(\n",
      "  File \"/usr/local/lib/python3.10/dist-packages/joblib/memory.py\", line 349, in __call__\n",
      "    return self.func(*args, **kwargs)\n",
      "  File \"/usr/local/lib/python3.10/dist-packages/sklearn/pipeline.py\", line 870, in _fit_transform_one\n",
      "    res = transformer.fit_transform(X, y, **fit_params)\n",
      "  File \"/usr/local/lib/python3.10/dist-packages/sklearn/cluster/_kmeans.py\", line 1057, in fit_transform\n",
      "    return self.fit(X, sample_weight=sample_weight)._transform(X)\n",
      "  File \"/usr/local/lib/python3.10/dist-packages/sklearn/cluster/_kmeans.py\", line 1376, in fit\n",
      "    self._check_params(X)\n",
      "  File \"/usr/local/lib/python3.10/dist-packages/sklearn/cluster/_kmeans.py\", line 1307, in _check_params\n",
      "    super()._check_params(X)\n",
      "  File \"/usr/local/lib/python3.10/dist-packages/sklearn/cluster/_kmeans.py\", line 828, in _check_params\n",
      "    raise ValueError(\n",
      "ValueError: n_samples=168 should be >= n_clusters=170.\n",
      "\n",
      "--------------------------------------------------------------------------------\n",
      "3 fits failed with the following error:\n",
      "Traceback (most recent call last):\n",
      "  File \"/usr/local/lib/python3.10/dist-packages/sklearn/model_selection/_validation.py\", line 686, in _fit_and_score\n",
      "    estimator.fit(X_train, y_train, **fit_params)\n",
      "  File \"/usr/local/lib/python3.10/dist-packages/sklearn/pipeline.py\", line 378, in fit\n",
      "    Xt = self._fit(X, y, **fit_params_steps)\n",
      "  File \"/usr/local/lib/python3.10/dist-packages/sklearn/pipeline.py\", line 336, in _fit\n",
      "    X, fitted_transformer = fit_transform_one_cached(\n",
      "  File \"/usr/local/lib/python3.10/dist-packages/joblib/memory.py\", line 349, in __call__\n",
      "    return self.func(*args, **kwargs)\n",
      "  File \"/usr/local/lib/python3.10/dist-packages/sklearn/pipeline.py\", line 870, in _fit_transform_one\n",
      "    res = transformer.fit_transform(X, y, **fit_params)\n",
      "  File \"/usr/local/lib/python3.10/dist-packages/sklearn/cluster/_kmeans.py\", line 1057, in fit_transform\n",
      "    return self.fit(X, sample_weight=sample_weight)._transform(X)\n",
      "  File \"/usr/local/lib/python3.10/dist-packages/sklearn/cluster/_kmeans.py\", line 1376, in fit\n",
      "    self._check_params(X)\n",
      "  File \"/usr/local/lib/python3.10/dist-packages/sklearn/cluster/_kmeans.py\", line 1307, in _check_params\n",
      "    super()._check_params(X)\n",
      "  File \"/usr/local/lib/python3.10/dist-packages/sklearn/cluster/_kmeans.py\", line 828, in _check_params\n",
      "    raise ValueError(\n",
      "ValueError: n_samples=168 should be >= n_clusters=175.\n",
      "\n",
      "--------------------------------------------------------------------------------\n",
      "3 fits failed with the following error:\n",
      "Traceback (most recent call last):\n",
      "  File \"/usr/local/lib/python3.10/dist-packages/sklearn/model_selection/_validation.py\", line 686, in _fit_and_score\n",
      "    estimator.fit(X_train, y_train, **fit_params)\n",
      "  File \"/usr/local/lib/python3.10/dist-packages/sklearn/pipeline.py\", line 378, in fit\n",
      "    Xt = self._fit(X, y, **fit_params_steps)\n",
      "  File \"/usr/local/lib/python3.10/dist-packages/sklearn/pipeline.py\", line 336, in _fit\n",
      "    X, fitted_transformer = fit_transform_one_cached(\n",
      "  File \"/usr/local/lib/python3.10/dist-packages/joblib/memory.py\", line 349, in __call__\n",
      "    return self.func(*args, **kwargs)\n",
      "  File \"/usr/local/lib/python3.10/dist-packages/sklearn/pipeline.py\", line 870, in _fit_transform_one\n",
      "    res = transformer.fit_transform(X, y, **fit_params)\n",
      "  File \"/usr/local/lib/python3.10/dist-packages/sklearn/cluster/_kmeans.py\", line 1057, in fit_transform\n",
      "    return self.fit(X, sample_weight=sample_weight)._transform(X)\n",
      "  File \"/usr/local/lib/python3.10/dist-packages/sklearn/cluster/_kmeans.py\", line 1376, in fit\n",
      "    self._check_params(X)\n",
      "  File \"/usr/local/lib/python3.10/dist-packages/sklearn/cluster/_kmeans.py\", line 1307, in _check_params\n",
      "    super()._check_params(X)\n",
      "  File \"/usr/local/lib/python3.10/dist-packages/sklearn/cluster/_kmeans.py\", line 828, in _check_params\n",
      "    raise ValueError(\n",
      "ValueError: n_samples=168 should be >= n_clusters=180.\n",
      "\n",
      "--------------------------------------------------------------------------------\n",
      "3 fits failed with the following error:\n",
      "Traceback (most recent call last):\n",
      "  File \"/usr/local/lib/python3.10/dist-packages/sklearn/model_selection/_validation.py\", line 686, in _fit_and_score\n",
      "    estimator.fit(X_train, y_train, **fit_params)\n",
      "  File \"/usr/local/lib/python3.10/dist-packages/sklearn/pipeline.py\", line 378, in fit\n",
      "    Xt = self._fit(X, y, **fit_params_steps)\n",
      "  File \"/usr/local/lib/python3.10/dist-packages/sklearn/pipeline.py\", line 336, in _fit\n",
      "    X, fitted_transformer = fit_transform_one_cached(\n",
      "  File \"/usr/local/lib/python3.10/dist-packages/joblib/memory.py\", line 349, in __call__\n",
      "    return self.func(*args, **kwargs)\n",
      "  File \"/usr/local/lib/python3.10/dist-packages/sklearn/pipeline.py\", line 870, in _fit_transform_one\n",
      "    res = transformer.fit_transform(X, y, **fit_params)\n",
      "  File \"/usr/local/lib/python3.10/dist-packages/sklearn/cluster/_kmeans.py\", line 1057, in fit_transform\n",
      "    return self.fit(X, sample_weight=sample_weight)._transform(X)\n",
      "  File \"/usr/local/lib/python3.10/dist-packages/sklearn/cluster/_kmeans.py\", line 1376, in fit\n",
      "    self._check_params(X)\n",
      "  File \"/usr/local/lib/python3.10/dist-packages/sklearn/cluster/_kmeans.py\", line 1307, in _check_params\n",
      "    super()._check_params(X)\n",
      "  File \"/usr/local/lib/python3.10/dist-packages/sklearn/cluster/_kmeans.py\", line 828, in _check_params\n",
      "    raise ValueError(\n",
      "ValueError: n_samples=168 should be >= n_clusters=185.\n",
      "\n",
      "--------------------------------------------------------------------------------\n",
      "3 fits failed with the following error:\n",
      "Traceback (most recent call last):\n",
      "  File \"/usr/local/lib/python3.10/dist-packages/sklearn/model_selection/_validation.py\", line 686, in _fit_and_score\n",
      "    estimator.fit(X_train, y_train, **fit_params)\n",
      "  File \"/usr/local/lib/python3.10/dist-packages/sklearn/pipeline.py\", line 378, in fit\n",
      "    Xt = self._fit(X, y, **fit_params_steps)\n",
      "  File \"/usr/local/lib/python3.10/dist-packages/sklearn/pipeline.py\", line 336, in _fit\n",
      "    X, fitted_transformer = fit_transform_one_cached(\n",
      "  File \"/usr/local/lib/python3.10/dist-packages/joblib/memory.py\", line 349, in __call__\n",
      "    return self.func(*args, **kwargs)\n",
      "  File \"/usr/local/lib/python3.10/dist-packages/sklearn/pipeline.py\", line 870, in _fit_transform_one\n",
      "    res = transformer.fit_transform(X, y, **fit_params)\n",
      "  File \"/usr/local/lib/python3.10/dist-packages/sklearn/cluster/_kmeans.py\", line 1057, in fit_transform\n",
      "    return self.fit(X, sample_weight=sample_weight)._transform(X)\n",
      "  File \"/usr/local/lib/python3.10/dist-packages/sklearn/cluster/_kmeans.py\", line 1376, in fit\n",
      "    self._check_params(X)\n",
      "  File \"/usr/local/lib/python3.10/dist-packages/sklearn/cluster/_kmeans.py\", line 1307, in _check_params\n",
      "    super()._check_params(X)\n",
      "  File \"/usr/local/lib/python3.10/dist-packages/sklearn/cluster/_kmeans.py\", line 828, in _check_params\n",
      "    raise ValueError(\n",
      "ValueError: n_samples=168 should be >= n_clusters=190.\n",
      "\n",
      "--------------------------------------------------------------------------------\n",
      "3 fits failed with the following error:\n",
      "Traceback (most recent call last):\n",
      "  File \"/usr/local/lib/python3.10/dist-packages/sklearn/model_selection/_validation.py\", line 686, in _fit_and_score\n",
      "    estimator.fit(X_train, y_train, **fit_params)\n",
      "  File \"/usr/local/lib/python3.10/dist-packages/sklearn/pipeline.py\", line 378, in fit\n",
      "    Xt = self._fit(X, y, **fit_params_steps)\n",
      "  File \"/usr/local/lib/python3.10/dist-packages/sklearn/pipeline.py\", line 336, in _fit\n",
      "    X, fitted_transformer = fit_transform_one_cached(\n",
      "  File \"/usr/local/lib/python3.10/dist-packages/joblib/memory.py\", line 349, in __call__\n",
      "    return self.func(*args, **kwargs)\n",
      "  File \"/usr/local/lib/python3.10/dist-packages/sklearn/pipeline.py\", line 870, in _fit_transform_one\n",
      "    res = transformer.fit_transform(X, y, **fit_params)\n",
      "  File \"/usr/local/lib/python3.10/dist-packages/sklearn/cluster/_kmeans.py\", line 1057, in fit_transform\n",
      "    return self.fit(X, sample_weight=sample_weight)._transform(X)\n",
      "  File \"/usr/local/lib/python3.10/dist-packages/sklearn/cluster/_kmeans.py\", line 1376, in fit\n",
      "    self._check_params(X)\n",
      "  File \"/usr/local/lib/python3.10/dist-packages/sklearn/cluster/_kmeans.py\", line 1307, in _check_params\n",
      "    super()._check_params(X)\n",
      "  File \"/usr/local/lib/python3.10/dist-packages/sklearn/cluster/_kmeans.py\", line 828, in _check_params\n",
      "    raise ValueError(\n",
      "ValueError: n_samples=168 should be >= n_clusters=195.\n",
      "\n",
      "  warnings.warn(some_fits_failed_message, FitFailedWarning)\n",
      "/usr/local/lib/python3.10/dist-packages/sklearn/model_selection/_search.py:953: UserWarning: One or more of the test scores are non-finite: [0.42460317 0.63492063 0.74603175 0.77777778 0.79761905 0.81349206\n",
      " 0.82142857 0.83333333 0.84920635 0.8452381  0.84126984 0.84920635\n",
      " 0.85714286 0.8452381  0.86111111 0.86111111 0.86904762 0.86904762\n",
      " 0.86904762 0.86111111 0.86111111 0.87698413 0.87301587 0.88095238\n",
      " 0.87698413 0.88492063 0.8968254  0.88888889 0.8968254  0.89285714\n",
      " 0.90079365 0.8968254  0.8968254         nan        nan        nan\n",
      "        nan        nan        nan]\n",
      "  warnings.warn(\n"
     ]
    },
    {
     "data": {
      "text/html": [
       "<style>#sk-container-id-3 {color: black;background-color: white;}#sk-container-id-3 pre{padding: 0;}#sk-container-id-3 div.sk-toggleable {background-color: white;}#sk-container-id-3 label.sk-toggleable__label {cursor: pointer;display: block;width: 100%;margin-bottom: 0;padding: 0.3em;box-sizing: border-box;text-align: center;}#sk-container-id-3 label.sk-toggleable__label-arrow:before {content: \"▸\";float: left;margin-right: 0.25em;color: #696969;}#sk-container-id-3 label.sk-toggleable__label-arrow:hover:before {color: black;}#sk-container-id-3 div.sk-estimator:hover label.sk-toggleable__label-arrow:before {color: black;}#sk-container-id-3 div.sk-toggleable__content {max-height: 0;max-width: 0;overflow: hidden;text-align: left;background-color: #f0f8ff;}#sk-container-id-3 div.sk-toggleable__content pre {margin: 0.2em;color: black;border-radius: 0.25em;background-color: #f0f8ff;}#sk-container-id-3 input.sk-toggleable__control:checked~div.sk-toggleable__content {max-height: 200px;max-width: 100%;overflow: auto;}#sk-container-id-3 input.sk-toggleable__control:checked~label.sk-toggleable__label-arrow:before {content: \"▾\";}#sk-container-id-3 div.sk-estimator input.sk-toggleable__control:checked~label.sk-toggleable__label {background-color: #d4ebff;}#sk-container-id-3 div.sk-label input.sk-toggleable__control:checked~label.sk-toggleable__label {background-color: #d4ebff;}#sk-container-id-3 input.sk-hidden--visually {border: 0;clip: rect(1px 1px 1px 1px);clip: rect(1px, 1px, 1px, 1px);height: 1px;margin: -1px;overflow: hidden;padding: 0;position: absolute;width: 1px;}#sk-container-id-3 div.sk-estimator {font-family: monospace;background-color: #f0f8ff;border: 1px dotted black;border-radius: 0.25em;box-sizing: border-box;margin-bottom: 0.5em;}#sk-container-id-3 div.sk-estimator:hover {background-color: #d4ebff;}#sk-container-id-3 div.sk-parallel-item::after {content: \"\";width: 100%;border-bottom: 1px solid gray;flex-grow: 1;}#sk-container-id-3 div.sk-label:hover label.sk-toggleable__label {background-color: #d4ebff;}#sk-container-id-3 div.sk-serial::before {content: \"\";position: absolute;border-left: 1px solid gray;box-sizing: border-box;top: 0;bottom: 0;left: 50%;z-index: 0;}#sk-container-id-3 div.sk-serial {display: flex;flex-direction: column;align-items: center;background-color: white;padding-right: 0.2em;padding-left: 0.2em;position: relative;}#sk-container-id-3 div.sk-item {position: relative;z-index: 1;}#sk-container-id-3 div.sk-parallel {display: flex;align-items: stretch;justify-content: center;background-color: white;position: relative;}#sk-container-id-3 div.sk-item::before, #sk-container-id-3 div.sk-parallel-item::before {content: \"\";position: absolute;border-left: 1px solid gray;box-sizing: border-box;top: 0;bottom: 0;left: 50%;z-index: -1;}#sk-container-id-3 div.sk-parallel-item {display: flex;flex-direction: column;z-index: 1;position: relative;background-color: white;}#sk-container-id-3 div.sk-parallel-item:first-child::after {align-self: flex-end;width: 50%;}#sk-container-id-3 div.sk-parallel-item:last-child::after {align-self: flex-start;width: 50%;}#sk-container-id-3 div.sk-parallel-item:only-child::after {width: 0;}#sk-container-id-3 div.sk-dashed-wrapped {border: 1px dashed gray;margin: 0 0.4em 0.5em 0.4em;box-sizing: border-box;padding-bottom: 0.4em;background-color: white;}#sk-container-id-3 div.sk-label label {font-family: monospace;font-weight: bold;display: inline-block;line-height: 1.2em;}#sk-container-id-3 div.sk-label-container {text-align: center;}#sk-container-id-3 div.sk-container {/* jupyter's `normalize.less` sets `[hidden] { display: none; }` but bootstrap.min.css set `[hidden] { display: none !important; }` so we also need the `!important` here to be able to override the default hidden behavior on the sphinx rendered scikit-learn.org. See: https://github.com/scikit-learn/scikit-learn/issues/21755 */display: inline-block !important;position: relative;}#sk-container-id-3 div.sk-text-repr-fallback {display: none;}</style><div id=\"sk-container-id-3\" class=\"sk-top-container\"><div class=\"sk-text-repr-fallback\"><pre>GridSearchCV(cv=3,\n",
       "             estimator=Pipeline(steps=[(&#x27;kmeans&#x27;,\n",
       "                                        KMeans(n_clusters=100,\n",
       "                                               random_state=42)),\n",
       "                                       (&#x27;log_reg&#x27;,\n",
       "                                        LogisticRegression(max_iter=5000,\n",
       "                                                           multi_class=&#x27;ovr&#x27;,\n",
       "                                                           random_state=42))]),\n",
       "             param_grid={&#x27;kmeans__n_clusters&#x27;: range(5, 200, 5)}, verbose=2)</pre><b>In a Jupyter environment, please rerun this cell to show the HTML representation or trust the notebook. <br />On GitHub, the HTML representation is unable to render, please try loading this page with nbviewer.org.</b></div><div class=\"sk-container\" hidden><div class=\"sk-item sk-dashed-wrapped\"><div class=\"sk-label-container\"><div class=\"sk-label sk-toggleable\"><input class=\"sk-toggleable__control sk-hidden--visually\" id=\"sk-estimator-id-5\" type=\"checkbox\" ><label for=\"sk-estimator-id-5\" class=\"sk-toggleable__label sk-toggleable__label-arrow\">GridSearchCV</label><div class=\"sk-toggleable__content\"><pre>GridSearchCV(cv=3,\n",
       "             estimator=Pipeline(steps=[(&#x27;kmeans&#x27;,\n",
       "                                        KMeans(n_clusters=100,\n",
       "                                               random_state=42)),\n",
       "                                       (&#x27;log_reg&#x27;,\n",
       "                                        LogisticRegression(max_iter=5000,\n",
       "                                                           multi_class=&#x27;ovr&#x27;,\n",
       "                                                           random_state=42))]),\n",
       "             param_grid={&#x27;kmeans__n_clusters&#x27;: range(5, 200, 5)}, verbose=2)</pre></div></div></div><div class=\"sk-parallel\"><div class=\"sk-parallel-item\"><div class=\"sk-item\"><div class=\"sk-label-container\"><div class=\"sk-label sk-toggleable\"><input class=\"sk-toggleable__control sk-hidden--visually\" id=\"sk-estimator-id-6\" type=\"checkbox\" ><label for=\"sk-estimator-id-6\" class=\"sk-toggleable__label sk-toggleable__label-arrow\">estimator: Pipeline</label><div class=\"sk-toggleable__content\"><pre>Pipeline(steps=[(&#x27;kmeans&#x27;, KMeans(n_clusters=100, random_state=42)),\n",
       "                (&#x27;log_reg&#x27;,\n",
       "                 LogisticRegression(max_iter=5000, multi_class=&#x27;ovr&#x27;,\n",
       "                                    random_state=42))])</pre></div></div></div><div class=\"sk-serial\"><div class=\"sk-item\"><div class=\"sk-serial\"><div class=\"sk-item\"><div class=\"sk-estimator sk-toggleable\"><input class=\"sk-toggleable__control sk-hidden--visually\" id=\"sk-estimator-id-7\" type=\"checkbox\" ><label for=\"sk-estimator-id-7\" class=\"sk-toggleable__label sk-toggleable__label-arrow\">KMeans</label><div class=\"sk-toggleable__content\"><pre>KMeans(n_clusters=100, random_state=42)</pre></div></div></div><div class=\"sk-item\"><div class=\"sk-estimator sk-toggleable\"><input class=\"sk-toggleable__control sk-hidden--visually\" id=\"sk-estimator-id-8\" type=\"checkbox\" ><label for=\"sk-estimator-id-8\" class=\"sk-toggleable__label sk-toggleable__label-arrow\">LogisticRegression</label><div class=\"sk-toggleable__content\"><pre>LogisticRegression(max_iter=5000, multi_class=&#x27;ovr&#x27;, random_state=42)</pre></div></div></div></div></div></div></div></div></div></div></div></div>"
      ],
      "text/plain": [
       "GridSearchCV(cv=3,\n",
       "             estimator=Pipeline(steps=[('kmeans',\n",
       "                                        KMeans(n_clusters=100,\n",
       "                                               random_state=42)),\n",
       "                                       ('log_reg',\n",
       "                                        LogisticRegression(max_iter=5000,\n",
       "                                                           multi_class='ovr',\n",
       "                                                           random_state=42))]),\n",
       "             param_grid={'kmeans__n_clusters': range(5, 200, 5)}, verbose=2)"
      ]
     },
     "execution_count": 19,
     "metadata": {},
     "output_type": "execute_result"
    }
   ],
   "source": [
    "from sklearn.model_selection import GridSearchCV\n",
    "\n",
    "param_grid = dict(kmeans__n_clusters=range(5, 200, 5))\n",
    "grid_clf = GridSearchCV(pipeline, param_grid, cv=3, verbose=2)\n",
    "grid_clf.fit(X_train, y_train)"
   ]
  },
  {
   "cell_type": "code",
   "execution_count": 20,
   "metadata": {
    "execution": {
     "iopub.execute_input": "2022-05-15T15:13:47.645473Z",
     "iopub.status.busy": "2022-05-15T15:13:47.644958Z",
     "iopub.status.idle": "2022-05-15T15:13:47.66625Z",
     "shell.execute_reply": "2022-05-15T15:13:47.665356Z",
     "shell.execute_reply.started": "2022-05-15T15:13:47.645423Z"
    }
   },
   "outputs": [
    {
     "data": {
      "text/plain": [
       "0.9444444444444444"
      ]
     },
     "execution_count": 20,
     "metadata": {},
     "output_type": "execute_result"
    }
   ],
   "source": [
    "grid_clf.score(X_valid, y_valid)"
   ]
  },
  {
   "cell_type": "markdown",
   "metadata": {},
   "source": [
    "## Exercise 12"
   ]
  },
  {
   "cell_type": "code",
   "execution_count": 21,
   "metadata": {},
   "outputs": [
    {
     "data": {
      "text/plain": [
       "183"
      ]
     },
     "execution_count": 21,
     "metadata": {},
     "output_type": "execute_result"
    }
   ],
   "source": [
    "from sklearn.decomposition import PCA\n",
    "\n",
    "pca = PCA(0.99)\n",
    "X_train_pca = pca.fit_transform(X_train)\n",
    "X_valid_pca = pca.transform(X_valid)\n",
    "X_test_pca = pca.transform(X_test)\n",
    "\n",
    "pca.n_components_"
   ]
  },
  {
   "cell_type": "code",
   "execution_count": 23,
   "metadata": {},
   "outputs": [
    {
     "data": {
      "text/html": [
       "<style>#sk-container-id-5 {color: black;background-color: white;}#sk-container-id-5 pre{padding: 0;}#sk-container-id-5 div.sk-toggleable {background-color: white;}#sk-container-id-5 label.sk-toggleable__label {cursor: pointer;display: block;width: 100%;margin-bottom: 0;padding: 0.3em;box-sizing: border-box;text-align: center;}#sk-container-id-5 label.sk-toggleable__label-arrow:before {content: \"▸\";float: left;margin-right: 0.25em;color: #696969;}#sk-container-id-5 label.sk-toggleable__label-arrow:hover:before {color: black;}#sk-container-id-5 div.sk-estimator:hover label.sk-toggleable__label-arrow:before {color: black;}#sk-container-id-5 div.sk-toggleable__content {max-height: 0;max-width: 0;overflow: hidden;text-align: left;background-color: #f0f8ff;}#sk-container-id-5 div.sk-toggleable__content pre {margin: 0.2em;color: black;border-radius: 0.25em;background-color: #f0f8ff;}#sk-container-id-5 input.sk-toggleable__control:checked~div.sk-toggleable__content {max-height: 200px;max-width: 100%;overflow: auto;}#sk-container-id-5 input.sk-toggleable__control:checked~label.sk-toggleable__label-arrow:before {content: \"▾\";}#sk-container-id-5 div.sk-estimator input.sk-toggleable__control:checked~label.sk-toggleable__label {background-color: #d4ebff;}#sk-container-id-5 div.sk-label input.sk-toggleable__control:checked~label.sk-toggleable__label {background-color: #d4ebff;}#sk-container-id-5 input.sk-hidden--visually {border: 0;clip: rect(1px 1px 1px 1px);clip: rect(1px, 1px, 1px, 1px);height: 1px;margin: -1px;overflow: hidden;padding: 0;position: absolute;width: 1px;}#sk-container-id-5 div.sk-estimator {font-family: monospace;background-color: #f0f8ff;border: 1px dotted black;border-radius: 0.25em;box-sizing: border-box;margin-bottom: 0.5em;}#sk-container-id-5 div.sk-estimator:hover {background-color: #d4ebff;}#sk-container-id-5 div.sk-parallel-item::after {content: \"\";width: 100%;border-bottom: 1px solid gray;flex-grow: 1;}#sk-container-id-5 div.sk-label:hover label.sk-toggleable__label {background-color: #d4ebff;}#sk-container-id-5 div.sk-serial::before {content: \"\";position: absolute;border-left: 1px solid gray;box-sizing: border-box;top: 0;bottom: 0;left: 50%;z-index: 0;}#sk-container-id-5 div.sk-serial {display: flex;flex-direction: column;align-items: center;background-color: white;padding-right: 0.2em;padding-left: 0.2em;position: relative;}#sk-container-id-5 div.sk-item {position: relative;z-index: 1;}#sk-container-id-5 div.sk-parallel {display: flex;align-items: stretch;justify-content: center;background-color: white;position: relative;}#sk-container-id-5 div.sk-item::before, #sk-container-id-5 div.sk-parallel-item::before {content: \"\";position: absolute;border-left: 1px solid gray;box-sizing: border-box;top: 0;bottom: 0;left: 50%;z-index: -1;}#sk-container-id-5 div.sk-parallel-item {display: flex;flex-direction: column;z-index: 1;position: relative;background-color: white;}#sk-container-id-5 div.sk-parallel-item:first-child::after {align-self: flex-end;width: 50%;}#sk-container-id-5 div.sk-parallel-item:last-child::after {align-self: flex-start;width: 50%;}#sk-container-id-5 div.sk-parallel-item:only-child::after {width: 0;}#sk-container-id-5 div.sk-dashed-wrapped {border: 1px dashed gray;margin: 0 0.4em 0.5em 0.4em;box-sizing: border-box;padding-bottom: 0.4em;background-color: white;}#sk-container-id-5 div.sk-label label {font-family: monospace;font-weight: bold;display: inline-block;line-height: 1.2em;}#sk-container-id-5 div.sk-label-container {text-align: center;}#sk-container-id-5 div.sk-container {/* jupyter's `normalize.less` sets `[hidden] { display: none; }` but bootstrap.min.css set `[hidden] { display: none !important; }` so we also need the `!important` here to be able to override the default hidden behavior on the sphinx rendered scikit-learn.org. See: https://github.com/scikit-learn/scikit-learn/issues/21755 */display: inline-block !important;position: relative;}#sk-container-id-5 div.sk-text-repr-fallback {display: none;}</style><div id=\"sk-container-id-5\" class=\"sk-top-container\"><div class=\"sk-text-repr-fallback\"><pre>GaussianMixture(n_components=3, n_init=10, random_state=42)</pre><b>In a Jupyter environment, please rerun this cell to show the HTML representation or trust the notebook. <br />On GitHub, the HTML representation is unable to render, please try loading this page with nbviewer.org.</b></div><div class=\"sk-container\" hidden><div class=\"sk-item\"><div class=\"sk-estimator sk-toggleable\"><input class=\"sk-toggleable__control sk-hidden--visually\" id=\"sk-estimator-id-10\" type=\"checkbox\" checked><label for=\"sk-estimator-id-10\" class=\"sk-toggleable__label sk-toggleable__label-arrow\">GaussianMixture</label><div class=\"sk-toggleable__content\"><pre>GaussianMixture(n_components=3, n_init=10, random_state=42)</pre></div></div></div></div></div>"
      ],
      "text/plain": [
       "GaussianMixture(n_components=3, n_init=10, random_state=42)"
      ]
     },
     "execution_count": 23,
     "metadata": {},
     "output_type": "execute_result"
    }
   ],
   "source": [
    "from sklearn.mixture import GaussianMixture\n",
    "\n",
    "gm = GaussianMixture(n_components=3, n_init=10, random_state=42)\n",
    "gm.fit(X_train_pca)"
   ]
  },
  {
   "cell_type": "code",
   "execution_count": 40,
   "metadata": {},
   "outputs": [],
   "source": [
    "X_sample, y_sample = gm.sample()"
   ]
  },
  {
   "cell_type": "code",
   "execution_count": 41,
   "metadata": {},
   "outputs": [],
   "source": [
    "X_sample = pca.inverse_transform(X_sample)"
   ]
  },
  {
   "cell_type": "code",
   "execution_count": 42,
   "metadata": {},
   "outputs": [
    {
     "data": {
      "text/plain": [
       "(1, 4096)"
      ]
     },
     "execution_count": 42,
     "metadata": {},
     "output_type": "execute_result"
    }
   ],
   "source": [
    "X_sample.shape"
   ]
  },
  {
   "cell_type": "code",
   "execution_count": 43,
   "metadata": {},
   "outputs": [
    {
     "data": {
      "image/png": "[encoded data removed]",
      "text/plain": [
       "<Figure size 432x288 with 1 Axes>"
      ]
     },
     "metadata": {
      "needs_background": "light"
     },
     "output_type": "display_data"
    }
   ],
   "source": [
    "plot_faces(X_sample)"
   ]
  },
  {
   "cell_type": "code",
   "execution_count": 47,
   "metadata": {},
   "outputs": [
    {
     "data": {
      "image/png": "[encoded data removed]",
      "text/plain": [
       "<Figure size 432x288 with 1 Axes>"
      ]
     },
     "metadata": {
      "needs_background": "light"
     },
     "output_type": "display_data"
    }
   ],
   "source": [
    "n_rotated = 4\n",
    "rotated = np.transpose(X_train[:n_rotated].reshape(-1, 64, 64), axes=[0, 2, 1])\n",
    "rotated = rotated.reshape(-1, 64*64)\n",
    "y_rotated = y_train[:n_rotated]\n",
    "\n",
    "n_flipped = 3\n",
    "flipped = X_train[:n_flipped].reshape(-1, 64, 64)[:, ::-1]\n",
    "flipped = flipped.reshape(-1, 64*64)\n",
    "y_flipped = y_train[:n_flipped]\n",
    "\n",
    "n_darkened = 3\n",
    "darkened = X_train[:n_darkened].copy()\n",
    "darkened[:, 1:-1] *= 0.3\n",
    "y_darkened = y_train[:n_darkened]\n",
    "\n",
    "X_bad_faces = np.r_[rotated, flipped, darkened]\n",
    "y_bad = np.concatenate([y_rotated, y_flipped, y_darkened])\n",
    "\n",
    "plot_faces(X_bad_faces)"
   ]
  },
  {
   "cell_type": "code",
   "execution_count": 49,
   "metadata": {},
   "outputs": [
    {
     "data": {
      "text/plain": [
       "array([420.26153575, 420.25624445, 420.25655515, 420.2563916 ])"
      ]
     },
     "execution_count": 49,
     "metadata": {},
     "output_type": "execute_result"
    }
   ],
   "source": [
    "gm.score_samples(X_train_pca[:4])"
   ]
  },
  {
   "cell_type": "code",
   "execution_count": 52,
   "metadata": {},
   "outputs": [
    {
     "data": {
      "text/plain": [
       "array([ -6042876.18831783,  -7871174.513656  ,  -7916347.95050734,\n",
       "        -8155466.81932594,  -8718857.47550288, -13452718.57032609,\n",
       "       -11975723.92011585,  -6096000.17203795,  -8160927.11098873,\n",
       "        -6670826.06719445])"
      ]
     },
     "execution_count": 52,
     "metadata": {},
     "output_type": "execute_result"
    }
   ],
   "source": [
    "X_bad_faces_pca = pca.transform(X_bad_faces)\n",
    "gm.score_samples(X_bad_faces_pca)"
   ]
  },
  {
   "cell_type": "markdown",
   "metadata": {},
   "source": [
    "## Exercise 13"
   ]
  },
  {
   "cell_type": "code",
   "execution_count": 58,
   "metadata": {},
   "outputs": [
    {
     "data": {
      "text/plain": [
       "0.0008984386"
      ]
     },
     "execution_count": 58,
     "metadata": {},
     "output_type": "execute_result"
    }
   ],
   "source": [
    "X_pca = pca.transform(X)\n",
    "X_pca_reconstructed = pca.inverse_transform(X_pca)\n",
    "np.square(X- X_pca_reconstructed).mean(axis = -1).mean()"
   ]
  },
  {
   "cell_type": "code",
   "execution_count": 60,
   "metadata": {},
   "outputs": [
    {
     "data": {
      "text/plain": [
       "0.006183592"
      ]
     },
     "execution_count": 60,
     "metadata": {},
     "output_type": "execute_result"
    }
   ],
   "source": [
    "X_bad_faces_pca_reconstructed = pca.inverse_transform(X_bad_faces_pca)\n",
    "np.square(X_bad_faces - X_bad_faces_pca_reconstructed).mean(axis = -1).mean()"
   ]
  },
  {
   "cell_type": "code",
   "execution_count": 61,
   "metadata": {},
   "outputs": [
    {
     "data": {
      "image/png": "[encoded data removed]",
      "text/plain": [
       "<Figure size 432x288 with 1 Axes>"
      ]
     },
     "metadata": {
      "needs_background": "light"
     },
     "output_type": "display_data"
    }
   ],
   "source": [
    "plot_faces(X_bad_faces_pca_reconstructed)"
   ]
  },
  {
   "cell_type": "markdown",
   "metadata": {},
   "source": [
    "# Exercise solutions"
   ]
  },
  {
   "cell_type": "markdown",
   "metadata": {},
   "source": [
    "## 1. to 9."
   ]
  },
  {
   "cell_type": "markdown",
   "metadata": {},
   "source": [
    "See Appendix A."
   ]
  },
  {
   "cell_type": "markdown",
   "metadata": {},
   "source": [
    "## 10. Cluster the Olivetti Faces Dataset"
   ]
  },
  {
   "cell_type": "markdown",
   "metadata": {},
   "source": [
    "*Exercise: The classic Olivetti faces dataset contains 400 grayscale 64 × 64–pixel images of faces. Each image is flattened to a 1D vector of size 4,096. 40 different people were photographed (10 times each), and the usual task is to train a model that can predict which person is represented in each picture. Load the dataset using the `sklearn.datasets.fetch_olivetti_faces()` function.*"
   ]
  },
  {
   "cell_type": "code",
   "execution_count": null,
   "metadata": {
    "execution": {
     "iopub.status.busy": "2022-05-11T18:11:44.786964Z",
     "iopub.status.idle": "2022-05-11T18:11:44.787527Z",
     "shell.execute_reply": "2022-05-11T18:11:44.787352Z",
     "shell.execute_reply.started": "2022-05-11T18:11:44.78733Z"
    }
   },
   "outputs": [],
   "source": [
    "from sklearn.datasets import fetch_olivetti_faces\n",
    "\n",
    "olivetti = fetch_olivetti_faces()"
   ]
  },
  {
   "cell_type": "code",
   "execution_count": null,
   "metadata": {
    "execution": {
     "iopub.status.busy": "2022-05-11T18:11:44.78866Z",
     "iopub.status.idle": "2022-05-11T18:11:44.789236Z",
     "shell.execute_reply": "2022-05-11T18:11:44.78906Z",
     "shell.execute_reply.started": "2022-05-11T18:11:44.789038Z"
    }
   },
   "outputs": [],
   "source": [
    "print(olivetti.DESCR)"
   ]
  },
  {
   "cell_type": "code",
   "execution_count": null,
   "metadata": {
    "execution": {
     "iopub.status.busy": "2022-05-11T18:11:44.790297Z",
     "iopub.status.idle": "2022-05-11T18:11:44.790847Z",
     "shell.execute_reply": "2022-05-11T18:11:44.790662Z",
     "shell.execute_reply.started": "2022-05-11T18:11:44.790642Z"
    }
   },
   "outputs": [],
   "source": [
    "olivetti.target"
   ]
  },
  {
   "cell_type": "markdown",
   "metadata": {},
   "source": [
    "*Exercise: Then split it into a training set, a validation set, and a test set (note that the dataset is already scaled between 0 and 1). Since the dataset is quite small, you probably want to use stratified sampling to ensure that there are the same number of images per person in each set.*"
   ]
  },
  {
   "cell_type": "code",
   "execution_count": null,
   "metadata": {
    "execution": {
     "iopub.status.busy": "2022-05-11T18:11:44.791927Z",
     "iopub.status.idle": "2022-05-11T18:11:44.792491Z",
     "shell.execute_reply": "2022-05-11T18:11:44.792316Z",
     "shell.execute_reply.started": "2022-05-11T18:11:44.792295Z"
    }
   },
   "outputs": [],
   "source": [
    "from sklearn.model_selection import StratifiedShuffleSplit\n",
    "\n",
    "strat_split = StratifiedShuffleSplit(n_splits=1, test_size=40, random_state=42)\n",
    "train_valid_idx, test_idx = next(strat_split.split(olivetti.data, olivetti.target))\n",
    "X_train_valid = olivetti.data[train_valid_idx]\n",
    "y_train_valid = olivetti.target[train_valid_idx]\n",
    "X_test = olivetti.data[test_idx]\n",
    "y_test = olivetti.target[test_idx]\n",
    "\n",
    "strat_split = StratifiedShuffleSplit(n_splits=1, test_size=80, random_state=43)\n",
    "train_idx, valid_idx = next(strat_split.split(X_train_valid, y_train_valid))\n",
    "X_train = X_train_valid[train_idx]\n",
    "y_train = y_train_valid[train_idx]\n",
    "X_valid = X_train_valid[valid_idx]\n",
    "y_valid = y_train_valid[valid_idx]"
   ]
  },
  {
   "cell_type": "code",
   "execution_count": null,
   "metadata": {
    "execution": {
     "iopub.status.busy": "2022-05-11T18:11:44.793555Z",
     "iopub.status.idle": "2022-05-11T18:11:44.794122Z",
     "shell.execute_reply": "2022-05-11T18:11:44.793927Z",
     "shell.execute_reply.started": "2022-05-11T18:11:44.793906Z"
    }
   },
   "outputs": [],
   "source": [
    "print(X_train.shape, y_train.shape)\n",
    "print(X_valid.shape, y_valid.shape)\n",
    "print(X_test.shape, y_test.shape)"
   ]
  },
  {
   "cell_type": "markdown",
   "metadata": {},
   "source": [
    "To speed things up, we'll reduce the data's dimensionality using PCA:"
   ]
  },
  {
   "cell_type": "code",
   "execution_count": null,
   "metadata": {
    "execution": {
     "iopub.status.busy": "2022-05-11T18:11:44.795189Z",
     "iopub.status.idle": "2022-05-11T18:11:44.795727Z",
     "shell.execute_reply": "2022-05-11T18:11:44.795541Z",
     "shell.execute_reply.started": "2022-05-11T18:11:44.79552Z"
    }
   },
   "outputs": [],
   "source": [
    "from sklearn.decomposition import PCA\n",
    "\n",
    "pca = PCA(0.99)\n",
    "X_train_pca = pca.fit_transform(X_train)\n",
    "X_valid_pca = pca.transform(X_valid)\n",
    "X_test_pca = pca.transform(X_test)\n",
    "\n",
    "pca.n_components_"
   ]
  },
  {
   "cell_type": "markdown",
   "metadata": {},
   "source": [
    "*Exercise: Next, cluster the images using K-Means, and ensure that you have a good number of clusters (using one of the techniques discussed in this chapter).*"
   ]
  },
  {
   "cell_type": "code",
   "execution_count": null,
   "metadata": {
    "execution": {
     "iopub.status.busy": "2022-05-11T18:11:44.796804Z",
     "iopub.status.idle": "2022-05-11T18:11:44.797351Z",
     "shell.execute_reply": "2022-05-11T18:11:44.797172Z",
     "shell.execute_reply.started": "2022-05-11T18:11:44.797151Z"
    }
   },
   "outputs": [],
   "source": [
    "from sklearn.cluster import KMeans\n",
    "\n",
    "k_range = range(5, 150, 5)\n",
    "kmeans_per_k = []\n",
    "for k in k_range:\n",
    "    print(\"k={}\".format(k))\n",
    "    kmeans = KMeans(n_clusters=k, random_state=42).fit(X_train_pca)\n",
    "    kmeans_per_k.append(kmeans)"
   ]
  },
  {
   "cell_type": "code",
   "execution_count": null,
   "metadata": {
    "execution": {
     "iopub.status.busy": "2022-05-11T18:11:44.798415Z",
     "iopub.status.idle": "2022-05-11T18:11:44.798975Z",
     "shell.execute_reply": "2022-05-11T18:11:44.7988Z",
     "shell.execute_reply.started": "2022-05-11T18:11:44.798778Z"
    }
   },
   "outputs": [],
   "source": [
    "from sklearn.metrics import silhouette_score\n",
    "\n",
    "silhouette_scores = [silhouette_score(X_train_pca, model.labels_)\n",
    "                     for model in kmeans_per_k]\n",
    "best_index = np.argmax(silhouette_scores)\n",
    "best_k = k_range[best_index]\n",
    "best_score = silhouette_scores[best_index]\n",
    "\n",
    "plt.figure(figsize=(8, 3))\n",
    "plt.plot(k_range, silhouette_scores, \"bo-\")\n",
    "plt.xlabel(\"$k$\", fontsize=14)\n",
    "plt.ylabel(\"Silhouette score\", fontsize=14)\n",
    "plt.plot(best_k, best_score, \"rs\")\n",
    "plt.show()"
   ]
  },
  {
   "cell_type": "code",
   "execution_count": null,
   "metadata": {
    "execution": {
     "iopub.status.busy": "2022-05-11T18:11:44.800049Z",
     "iopub.status.idle": "2022-05-11T18:11:44.800701Z",
     "shell.execute_reply": "2022-05-11T18:11:44.800486Z",
     "shell.execute_reply.started": "2022-05-11T18:11:44.800459Z"
    }
   },
   "outputs": [],
   "source": [
    "best_k"
   ]
  },
  {
   "cell_type": "markdown",
   "metadata": {},
   "source": [
    "It looks like the best number of clusters is quite high, at 120. You might have expected it to be 40, since there are 40 different people on the pictures. However, the same person may look quite different on different pictures (e.g., with or without glasses, or simply shifted left or right)."
   ]
  },
  {
   "cell_type": "code",
   "execution_count": null,
   "metadata": {
    "execution": {
     "iopub.status.busy": "2022-05-11T18:11:44.801836Z",
     "iopub.status.idle": "2022-05-11T18:11:44.802403Z",
     "shell.execute_reply": "2022-05-11T18:11:44.802222Z",
     "shell.execute_reply.started": "2022-05-11T18:11:44.8022Z"
    }
   },
   "outputs": [],
   "source": [
    "inertias = [model.inertia_ for model in kmeans_per_k]\n",
    "best_inertia = inertias[best_index]\n",
    "\n",
    "plt.figure(figsize=(8, 3.5))\n",
    "plt.plot(k_range, inertias, \"bo-\")\n",
    "plt.xlabel(\"$k$\", fontsize=14)\n",
    "plt.ylabel(\"Inertia\", fontsize=14)\n",
    "plt.plot(best_k, best_inertia, \"rs\")\n",
    "plt.show()"
   ]
  },
  {
   "cell_type": "markdown",
   "metadata": {},
   "source": [
    "The optimal number of clusters is not clear on this inertia diagram, as there is no obvious elbow, so let's stick with k=120."
   ]
  },
  {
   "cell_type": "code",
   "execution_count": null,
   "metadata": {
    "execution": {
     "iopub.status.busy": "2022-05-11T18:11:44.803467Z",
     "iopub.status.idle": "2022-05-11T18:11:44.80404Z",
     "shell.execute_reply": "2022-05-11T18:11:44.803845Z",
     "shell.execute_reply.started": "2022-05-11T18:11:44.803824Z"
    }
   },
   "outputs": [],
   "source": [
    "best_model = kmeans_per_k[best_index]"
   ]
  },
  {
   "cell_type": "markdown",
   "metadata": {},
   "source": [
    "*Exercise: Visualize the clusters: do you see similar faces in each cluster?*"
   ]
  },
  {
   "cell_type": "code",
   "execution_count": null,
   "metadata": {
    "execution": {
     "iopub.status.busy": "2022-05-11T18:11:44.805111Z",
     "iopub.status.idle": "2022-05-11T18:11:44.805654Z",
     "shell.execute_reply": "2022-05-11T18:11:44.805479Z",
     "shell.execute_reply.started": "2022-05-11T18:11:44.805458Z"
    }
   },
   "outputs": [],
   "source": [
    "def plot_faces(faces, labels, n_cols=5):\n",
    "    faces = faces.reshape(-1, 64, 64)\n",
    "    n_rows = (len(faces) - 1) // n_cols + 1\n",
    "    plt.figure(figsize=(n_cols, n_rows * 1.1))\n",
    "    for index, (face, label) in enumerate(zip(faces, labels)):\n",
    "        plt.subplot(n_rows, n_cols, index + 1)\n",
    "        plt.imshow(face, cmap=\"gray\")\n",
    "        plt.axis(\"off\")\n",
    "        plt.title(label)\n",
    "    plt.show()\n",
    "\n",
    "for cluster_id in np.unique(best_model.labels_):\n",
    "    print(\"Cluster\", cluster_id)\n",
    "    in_cluster = best_model.labels_==cluster_id\n",
    "    faces = X_train[in_cluster]\n",
    "    labels = y_train[in_cluster]\n",
    "    plot_faces(faces, labels)"
   ]
  },
  {
   "cell_type": "markdown",
   "metadata": {},
   "source": [
    "About 2 out of 3 clusters are useful: that is, they contain at least 2 pictures, all of the same person. However, the rest of the clusters have either one or more intruders, or they have just a single picture.\n",
    "\n",
    "Clustering images this way may be too imprecise to be directly useful when training a model (as we will see below), but it can be tremendously useful when labeling images in a new dataset: it will usually make labelling much faster."
   ]
  },
  {
   "cell_type": "markdown",
   "metadata": {},
   "source": [
    "## 11. Using Clustering as Preprocessing for Classification"
   ]
  },
  {
   "cell_type": "markdown",
   "metadata": {},
   "source": [
    "*Exercise: Continuing with the Olivetti faces dataset, train a classifier to predict which person is represented in each picture, and evaluate it on the validation set.*"
   ]
  },
  {
   "cell_type": "code",
   "execution_count": null,
   "metadata": {
    "execution": {
     "iopub.status.busy": "2022-05-11T18:11:44.806709Z",
     "iopub.status.idle": "2022-05-11T18:11:44.807284Z",
     "shell.execute_reply": "2022-05-11T18:11:44.807105Z",
     "shell.execute_reply.started": "2022-05-11T18:11:44.807083Z"
    }
   },
   "outputs": [],
   "source": [
    "from sklearn.ensemble import RandomForestClassifier\n",
    "\n",
    "clf = RandomForestClassifier(n_estimators=150, random_state=42)\n",
    "clf.fit(X_train_pca, y_train)\n",
    "clf.score(X_valid_pca, y_valid)"
   ]
  },
  {
   "cell_type": "markdown",
   "metadata": {},
   "source": [
    "*Exercise: Next, use K-Means as a dimensionality reduction tool, and train a classifier on the reduced set.*"
   ]
  },
  {
   "cell_type": "code",
   "execution_count": null,
   "metadata": {
    "execution": {
     "iopub.status.busy": "2022-05-11T18:11:44.808356Z",
     "iopub.status.idle": "2022-05-11T18:11:44.808909Z",
     "shell.execute_reply": "2022-05-11T18:11:44.808725Z",
     "shell.execute_reply.started": "2022-05-11T18:11:44.808704Z"
    }
   },
   "outputs": [],
   "source": [
    "X_train_reduced = best_model.transform(X_train_pca)\n",
    "X_valid_reduced = best_model.transform(X_valid_pca)\n",
    "X_test_reduced = best_model.transform(X_test_pca)\n",
    "\n",
    "clf = RandomForestClassifier(n_estimators=150, random_state=42)\n",
    "clf.fit(X_train_reduced, y_train)\n",
    "    \n",
    "clf.score(X_valid_reduced, y_valid)"
   ]
  },
  {
   "cell_type": "markdown",
   "metadata": {},
   "source": [
    "Yikes! That's not better at all! Let's see if tuning the number of clusters helps."
   ]
  },
  {
   "cell_type": "markdown",
   "metadata": {},
   "source": [
    "*Exercise: Search for the number of clusters that allows the classifier to get the best performance: what performance can you reach?*"
   ]
  },
  {
   "cell_type": "markdown",
   "metadata": {},
   "source": [
    "We could use a `GridSearchCV` like we did earlier in this notebook, but since we already have a validation set, we don't need K-fold cross-validation, and we're only exploring a single hyperparameter, so it's simpler to just run a loop manually:"
   ]
  },
  {
   "cell_type": "code",
   "execution_count": null,
   "metadata": {
    "execution": {
     "iopub.status.busy": "2022-05-11T18:11:44.80997Z",
     "iopub.status.idle": "2022-05-11T18:11:44.810621Z",
     "shell.execute_reply": "2022-05-11T18:11:44.810422Z",
     "shell.execute_reply.started": "2022-05-11T18:11:44.810397Z"
    }
   },
   "outputs": [],
   "source": [
    "from sklearn.pipeline import Pipeline\n",
    "\n",
    "for n_clusters in k_range:\n",
    "    pipeline = Pipeline([\n",
    "        (\"kmeans\", KMeans(n_clusters=n_clusters, random_state=42)),\n",
    "        (\"forest_clf\", RandomForestClassifier(n_estimators=150, random_state=42))\n",
    "    ])\n",
    "    pipeline.fit(X_train_pca, y_train)\n",
    "    print(n_clusters, pipeline.score(X_valid_pca, y_valid))"
   ]
  },
  {
   "cell_type": "markdown",
   "metadata": {},
   "source": [
    "Oh well, even by tuning the number of clusters, we never get beyond 80% accuracy. Looks like the distances to the cluster centroids are not as informative as the original images."
   ]
  },
  {
   "cell_type": "markdown",
   "metadata": {},
   "source": [
    "*Exercise: What if you append the features from the reduced set to the original features (again, searching for the best number of clusters)?*"
   ]
  },
  {
   "cell_type": "code",
   "execution_count": null,
   "metadata": {
    "execution": {
     "iopub.status.busy": "2022-05-11T18:11:44.8119Z",
     "iopub.status.idle": "2022-05-11T18:11:44.812436Z",
     "shell.execute_reply": "2022-05-11T18:11:44.812268Z",
     "shell.execute_reply.started": "2022-05-11T18:11:44.812245Z"
    }
   },
   "outputs": [],
   "source": [
    "X_train_extended = np.c_[X_train_pca, X_train_reduced]\n",
    "X_valid_extended = np.c_[X_valid_pca, X_valid_reduced]\n",
    "X_test_extended = np.c_[X_test_pca, X_test_reduced]"
   ]
  },
  {
   "cell_type": "code",
   "execution_count": null,
   "metadata": {
    "execution": {
     "iopub.status.busy": "2022-05-11T18:11:44.81347Z",
     "iopub.status.idle": "2022-05-11T18:11:44.814004Z",
     "shell.execute_reply": "2022-05-11T18:11:44.813836Z",
     "shell.execute_reply.started": "2022-05-11T18:11:44.813816Z"
    }
   },
   "outputs": [],
   "source": [
    "clf = RandomForestClassifier(n_estimators=150, random_state=42)\n",
    "clf.fit(X_train_extended, y_train)\n",
    "clf.score(X_valid_extended, y_valid)"
   ]
  },
  {
   "cell_type": "markdown",
   "metadata": {},
   "source": [
    "That's a bit better, but still worse than without the cluster features. The clusters are not useful to directly train a classifier in this case (but they can still help when labelling new training instances)."
   ]
  },
  {
   "cell_type": "markdown",
   "metadata": {},
   "source": [
    "## 12. A Gaussian Mixture Model for the Olivetti Faces Dataset"
   ]
  },
  {
   "cell_type": "markdown",
   "metadata": {},
   "source": [
    "*Exercise: Train a Gaussian mixture model on the Olivetti faces dataset. To speed up the algorithm, you should probably reduce the dataset's dimensionality (e.g., use PCA, preserving 99% of the variance).*"
   ]
  },
  {
   "cell_type": "code",
   "execution_count": null,
   "metadata": {
    "execution": {
     "iopub.status.busy": "2022-05-11T18:11:44.815068Z",
     "iopub.status.idle": "2022-05-11T18:11:44.815606Z",
     "shell.execute_reply": "2022-05-11T18:11:44.815432Z",
     "shell.execute_reply.started": "2022-05-11T18:11:44.81541Z"
    }
   },
   "outputs": [],
   "source": [
    "from sklearn.mixture import GaussianMixture\n",
    "\n",
    "gm = GaussianMixture(n_components=40, random_state=42)\n",
    "y_pred = gm.fit_predict(X_train_pca)"
   ]
  },
  {
   "cell_type": "markdown",
   "metadata": {},
   "source": [
    "*Exercise: Use the model to generate some new faces (using the `sample()` method), and visualize them (if you used PCA, you will need to use its `inverse_transform()` method).*"
   ]
  },
  {
   "cell_type": "code",
   "execution_count": null,
   "metadata": {
    "execution": {
     "iopub.status.busy": "2022-05-11T18:11:44.816663Z",
     "iopub.status.idle": "2022-05-11T18:11:44.817243Z",
     "shell.execute_reply": "2022-05-11T18:11:44.817071Z",
     "shell.execute_reply.started": "2022-05-11T18:11:44.817049Z"
    }
   },
   "outputs": [],
   "source": [
    "n_gen_faces = 20\n",
    "gen_faces_reduced, y_gen_faces = gm.sample(n_samples=n_gen_faces)\n",
    "gen_faces = pca.inverse_transform(gen_faces_reduced)"
   ]
  },
  {
   "cell_type": "code",
   "execution_count": null,
   "metadata": {
    "execution": {
     "iopub.status.busy": "2022-05-11T18:11:44.818288Z",
     "iopub.status.idle": "2022-05-11T18:11:44.818822Z",
     "shell.execute_reply": "2022-05-11T18:11:44.818636Z",
     "shell.execute_reply.started": "2022-05-11T18:11:44.818616Z"
    }
   },
   "outputs": [],
   "source": [
    "plot_faces(gen_faces, y_gen_faces)"
   ]
  },
  {
   "cell_type": "markdown",
   "metadata": {},
   "source": [
    "*Exercise: Try to modify some images (e.g., rotate, flip, darken) and see if the model can detect the anomalies (i.e., compare the output of the `score_samples()` method for normal images and for anomalies).*"
   ]
  },
  {
   "cell_type": "code",
   "execution_count": null,
   "metadata": {
    "execution": {
     "iopub.status.busy": "2022-05-11T18:11:44.819885Z",
     "iopub.status.idle": "2022-05-11T18:11:44.820509Z",
     "shell.execute_reply": "2022-05-11T18:11:44.820309Z",
     "shell.execute_reply.started": "2022-05-11T18:11:44.820285Z"
    }
   },
   "outputs": [],
   "source": [
    "n_rotated = 4\n",
    "rotated = np.transpose(X_train[:n_rotated].reshape(-1, 64, 64), axes=[0, 2, 1])\n",
    "rotated = rotated.reshape(-1, 64*64)\n",
    "y_rotated = y_train[:n_rotated]\n",
    "\n",
    "n_flipped = 3\n",
    "flipped = X_train[:n_flipped].reshape(-1, 64, 64)[:, ::-1]\n",
    "flipped = flipped.reshape(-1, 64*64)\n",
    "y_flipped = y_train[:n_flipped]\n",
    "\n",
    "n_darkened = 3\n",
    "darkened = X_train[:n_darkened].copy()\n",
    "darkened[:, 1:-1] *= 0.3\n",
    "y_darkened = y_train[:n_darkened]\n",
    "\n",
    "X_bad_faces = np.r_[rotated, flipped, darkened]\n",
    "y_bad = np.concatenate([y_rotated, y_flipped, y_darkened])\n",
    "\n",
    "plot_faces(X_bad_faces, y_bad)"
   ]
  },
  {
   "cell_type": "code",
   "execution_count": null,
   "metadata": {
    "execution": {
     "iopub.status.busy": "2022-05-11T18:11:44.821621Z",
     "iopub.status.idle": "2022-05-11T18:11:44.822203Z",
     "shell.execute_reply": "2022-05-11T18:11:44.822026Z",
     "shell.execute_reply.started": "2022-05-11T18:11:44.821992Z"
    }
   },
   "outputs": [],
   "source": [
    "X_bad_faces_pca = pca.transform(X_bad_faces)"
   ]
  },
  {
   "cell_type": "code",
   "execution_count": null,
   "metadata": {
    "execution": {
     "iopub.status.busy": "2022-05-11T18:11:44.823379Z",
     "iopub.status.idle": "2022-05-11T18:11:44.824129Z",
     "shell.execute_reply": "2022-05-11T18:11:44.823887Z",
     "shell.execute_reply.started": "2022-05-11T18:11:44.823863Z"
    }
   },
   "outputs": [],
   "source": [
    "gm.score_samples(X_bad_faces_pca)"
   ]
  },
  {
   "cell_type": "markdown",
   "metadata": {},
   "source": [
    "The bad faces are all considered highly unlikely by the Gaussian Mixture model. Compare this to the scores of some training instances:"
   ]
  },
  {
   "cell_type": "code",
   "execution_count": null,
   "metadata": {
    "execution": {
     "iopub.status.busy": "2022-05-11T18:11:44.825289Z",
     "iopub.status.idle": "2022-05-11T18:11:44.825862Z",
     "shell.execute_reply": "2022-05-11T18:11:44.825682Z",
     "shell.execute_reply.started": "2022-05-11T18:11:44.82566Z"
    }
   },
   "outputs": [],
   "source": [
    "gm.score_samples(X_train_pca[:10])"
   ]
  },
  {
   "cell_type": "markdown",
   "metadata": {},
   "source": [
    "## 13. Using Dimensionality Reduction Techniques for Anomaly Detection"
   ]
  },
  {
   "cell_type": "markdown",
   "metadata": {},
   "source": [
    "*Exercise: Some dimensionality reduction techniques can also be used for anomaly detection. For example, take the Olivetti faces dataset and reduce it with PCA, preserving 99% of the variance. Then compute the reconstruction error for each image. Next, take some of the modified images you built in the previous exercise, and look at their reconstruction error: notice how much larger the reconstruction error is. If you plot a reconstructed image, you will see why: it tries to reconstruct a normal face.*"
   ]
  },
  {
   "cell_type": "markdown",
   "metadata": {},
   "source": [
    "We already reduced the dataset using PCA earlier:"
   ]
  },
  {
   "cell_type": "code",
   "execution_count": null,
   "metadata": {
    "execution": {
     "iopub.status.busy": "2022-05-11T18:11:44.826996Z",
     "iopub.status.idle": "2022-05-11T18:11:44.827578Z",
     "shell.execute_reply": "2022-05-11T18:11:44.82739Z",
     "shell.execute_reply.started": "2022-05-11T18:11:44.827368Z"
    }
   },
   "outputs": [],
   "source": [
    "X_train_pca"
   ]
  },
  {
   "cell_type": "code",
   "execution_count": null,
   "metadata": {
    "execution": {
     "iopub.status.busy": "2022-05-11T18:11:44.828668Z",
     "iopub.status.idle": "2022-05-11T18:11:44.82926Z",
     "shell.execute_reply": "2022-05-11T18:11:44.82908Z",
     "shell.execute_reply.started": "2022-05-11T18:11:44.82905Z"
    }
   },
   "outputs": [],
   "source": [
    "def reconstruction_errors(pca, X):\n",
    "    X_pca = pca.transform(X)\n",
    "    X_reconstructed = pca.inverse_transform(X_pca)\n",
    "    mse = np.square(X_reconstructed - X).mean(axis=-1)\n",
    "    return mse"
   ]
  },
  {
   "cell_type": "code",
   "execution_count": null,
   "metadata": {
    "execution": {
     "iopub.status.busy": "2022-05-11T18:11:44.830345Z",
     "iopub.status.idle": "2022-05-11T18:11:44.830918Z",
     "shell.execute_reply": "2022-05-11T18:11:44.830739Z",
     "shell.execute_reply.started": "2022-05-11T18:11:44.83071Z"
    }
   },
   "outputs": [],
   "source": [
    "reconstruction_errors(pca, X_train).mean()"
   ]
  },
  {
   "cell_type": "code",
   "execution_count": null,
   "metadata": {
    "execution": {
     "iopub.status.busy": "2022-05-11T18:11:44.832036Z",
     "iopub.status.idle": "2022-05-11T18:11:44.832592Z",
     "shell.execute_reply": "2022-05-11T18:11:44.832421Z",
     "shell.execute_reply.started": "2022-05-11T18:11:44.832399Z"
    }
   },
   "outputs": [],
   "source": [
    "reconstruction_errors(pca, X_bad_faces).mean()"
   ]
  },
  {
   "cell_type": "code",
   "execution_count": null,
   "metadata": {
    "execution": {
     "iopub.status.busy": "2022-05-11T18:11:44.833679Z",
     "iopub.status.idle": "2022-05-11T18:11:44.834274Z",
     "shell.execute_reply": "2022-05-11T18:11:44.834086Z",
     "shell.execute_reply.started": "2022-05-11T18:11:44.834063Z"
    }
   },
   "outputs": [],
   "source": [
    "plot_faces(X_bad_faces, y_bad)"
   ]
  },
  {
   "cell_type": "code",
   "execution_count": null,
   "metadata": {
    "execution": {
     "iopub.status.busy": "2022-05-11T18:11:44.835348Z",
     "iopub.status.idle": "2022-05-11T18:11:44.835905Z",
     "shell.execute_reply": "2022-05-11T18:11:44.83573Z",
     "shell.execute_reply.started": "2022-05-11T18:11:44.83571Z"
    }
   },
   "outputs": [],
   "source": [
    "X_bad_faces_reconstructed = pca.inverse_transform(X_bad_faces_pca)\n",
    "plot_faces(X_bad_faces_reconstructed, y_bad)"
   ]
  },
  {
   "cell_type": "code",
   "execution_count": null,
   "metadata": {},
   "outputs": [],
   "source": []
  }
 ],
 "metadata": {
  "kernelspec": {
   "display_name": "Python 3 (ipykernel)",
   "language": "python",
   "name": "python3"
  },
  "language_info": {
   "codemirror_mode": {
    "name": "ipython",
    "version": 3
   },
   "file_extension": ".py",
   "mimetype": "text/x-python",
   "name": "python",
   "nbconvert_exporter": "python",
   "pygments_lexer": "ipython3",
   "version": "3.10.4"
  }
 },
 "nbformat": 4,
 "nbformat_minor": 4
}
